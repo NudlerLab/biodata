{
 "cells": [
  {
   "cell_type": "code",
   "execution_count": null,
   "metadata": {},
   "outputs": [],
   "source": [
    "#this is where we import the tools we will use\n",
    "\n",
    "import pandas as pd #pandas is a data management tools\n",
    "import numpy as np #numpy make manipulating numbers easier\n",
    "\n",
    "import seaborn as sns #seaborn makes plotting data very convenient!\n",
    "import matplotlib.pyplot as plt #matplotlib is the base python plotting package seaborn is built on top off\n",
    "\n",
    "\n",
    "#this is a formatting option so our figures are displayed in the jupyter notebook\n",
    "%matplotlib inline"
   ]
  },
  {
   "cell_type": "code",
   "execution_count": null,
   "metadata": {
    "scrolled": true
   },
   "outputs": [],
   "source": [
    "#load sample data from data folder\n",
    "\n",
    "dat = pd.read_excel(\"data/sample_data.xlsx\", sheet_name=1)"
   ]
  },
  {
   "cell_type": "code",
   "execution_count": null,
   "metadata": {
    "scrolled": true
   },
   "outputs": [],
   "source": [
    "#display the data\n",
    "\n",
    "dat"
   ]
  },
  {
   "cell_type": "code",
   "execution_count": null,
   "metadata": {},
   "outputs": [],
   "source": [
    "#looks overwhelming! how do we manipulate this data?\n",
    "#lets try to visualize it \n",
    "\n",
    "sns.heatmap(___)"
   ]
  },
  {
   "cell_type": "code",
   "execution_count": null,
   "metadata": {
    "scrolled": true
   },
   "outputs": [],
   "source": [
    "#that doesn't work... What does the error say?\n",
    "#lets try to remove that column\n",
    "\n",
    "dat.iloc[:, _:]"
   ]
  },
  {
   "cell_type": "code",
   "execution_count": null,
   "metadata": {},
   "outputs": [],
   "source": [
    "#lets try to visualize it again\n",
    "\n",
    "sns.heatmap(dat.iloc[:, _:])\n",
    "plt.show()"
   ]
  },
  {
   "cell_type": "code",
   "execution_count": null,
   "metadata": {},
   "outputs": [],
   "source": [
    "#looks strange but we are getting somewhere. \n",
    "#On the x-axis there are all 100 wells of the bioscreen plate.\n",
    "#On the y-axis there are all of the timepoints\n",
    "\n",
    "#I want to be able to visualize the bioscreen plate at each timepoint, let us say at 16 hours\n",
    "\n",
    "dat"
   ]
  },
  {
   "cell_type": "code",
   "execution_count": null,
   "metadata": {
    "scrolled": true
   },
   "outputs": [],
   "source": [
    "#we see that 16 hours corresponds with row 32 since the bioscreen read the plate every 30 minutes. \n",
    "#Lets pull that row out.\n",
    "\n",
    "dat.iloc[__, :]"
   ]
  },
  {
   "cell_type": "code",
   "execution_count": null,
   "metadata": {},
   "outputs": [],
   "source": [
    "#lets also reformat this data so it looks like a bioscreen plate\n",
    "\n",
    "#first copy only the values (not including the time or well labels) to a new variable \"timepoint\"\n",
    "timepoint = dat.iloc[__, 1:]\n",
    "\n",
    "timepoint"
   ]
  },
  {
   "cell_type": "code",
   "execution_count": null,
   "metadata": {},
   "outputs": [],
   "source": [
    "#notice the datatype is object, we must convert it to float (numerical)\n",
    "\n",
    "timepoint = np.array(timepoint, dtype=float)"
   ]
  },
  {
   "cell_type": "code",
   "execution_count": null,
   "metadata": {},
   "outputs": [],
   "source": [
    "#make the data look like a bioscreen plate (10x10)\n",
    "timepoint = timepoint.reshape(__, __)\n",
    "\n",
    "timepoint"
   ]
  },
  {
   "cell_type": "code",
   "execution_count": null,
   "metadata": {},
   "outputs": [],
   "source": [
    "#lets try to plot it now\n",
    "\n",
    "sns.heatmap(________)\n",
    "plt.show()"
   ]
  },
  {
   "cell_type": "code",
   "execution_count": null,
   "metadata": {},
   "outputs": [],
   "source": [
    "#looks like a bioscreen plate!\n",
    "#one problem is that the plate is the wrong way. We can solve this by transposing the matrix\n",
    "\n",
    "sns.heatmap(________)\n",
    "plt.show()"
   ]
  },
  {
   "cell_type": "code",
   "execution_count": null,
   "metadata": {},
   "outputs": [],
   "source": []
  },
  {
   "cell_type": "code",
   "execution_count": null,
   "metadata": {},
   "outputs": [],
   "source": [
    "#we can do this all in one block of code now that we figured it out. Its nice to include comments\n",
    "\n",
    "#get data\n",
    "timepoint = dat.iloc[__, 1:]\n",
    "\n",
    "#reformat data\n",
    "timepoint = np.array(timepoint, dtype=float)\n",
    "timepoint = timepoint.reshape(__, __)\n",
    "\n",
    "#plot data\n",
    "sns.heatmap(________)\n",
    "plt.show()"
   ]
  },
  {
   "cell_type": "code",
   "execution_count": null,
   "metadata": {
    "scrolled": true
   },
   "outputs": [],
   "source": [
    "#how do you get a different timepoint? lets say hour 20?\n",
    "\n",
    "#get data\n",
    "timepoint = dat.iloc[__, 1:]\n",
    "\n",
    "#reformat data\n",
    "timepoint = np.array(timepoint, dtype=float)\n",
    "timepoint = timepoint.reshape(__, __)\n",
    "\n",
    "#plot data\n",
    "sns.heatmap(________)\n",
    "plt.show()"
   ]
  },
  {
   "cell_type": "code",
   "execution_count": null,
   "metadata": {},
   "outputs": [],
   "source": [
    "#notice we only change one value. Lets make this a variable t, representing the number of hours \n",
    "\n",
    "t = 20\n",
    "\n",
    "#get data\n",
    "timepoint = dat.iloc[__, 1:]\n",
    "\n",
    "#reformat data\n",
    "timepoint = np.array(timepoint, dtype=float)\n",
    "timepoint = timepoint.reshape(__, __)\n",
    "\n",
    "#plot data\n",
    "sns.heatmap(________)\n",
    "plt.show()"
   ]
  },
  {
   "cell_type": "code",
   "execution_count": 1,
   "metadata": {
    "scrolled": true
   },
   "outputs": [
    {
     "name": "stdout",
     "output_type": "stream",
     "text": [
      "hour 5\n",
      "hour 10\n",
      "hour 15\n",
      "hour 20\n"
     ]
    }
   ],
   "source": [
    "#now lets write a loop to show us the data every 5 hours\n",
    "\n",
    "for t in [5, 10, 15, 20]:\n",
    "    print('hour ' + str(t))\n",
    "    \n",
    "    #____"
   ]
  },
  {
   "cell_type": "code",
   "execution_count": null,
   "metadata": {
    "scrolled": true
   },
   "outputs": [],
   "source": [
    "#lets make it a little nicer by adding labels and scaling the data the same in each figure.\n",
    "\n",
    "for t in [5, 10, 15, 20]:\n",
    "    print('hour ' + str(t))\n",
    "    \n",
    "    #get data\n",
    "    #_____\n",
    "    #format data\n",
    "    #_____\n",
    "    \n",
    "    #add labels\n",
    "    timepoint.index = ['LB', 'A', 'G', 'T', 'C', 'U'] #labels for the y axis\n",
    "    timepoint.columns = ['WT', 'WT', 'WT', '15Y', '15Y', '15Y'] #labels for the x axis\n",
    "    \n",
    "    #plot data\n",
    "    #____"
   ]
  },
  {
   "cell_type": "code",
   "execution_count": null,
   "metadata": {},
   "outputs": [],
   "source": []
  },
  {
   "cell_type": "code",
   "execution_count": null,
   "metadata": {
    "scrolled": true
   },
   "outputs": [],
   "source": [
    "#we're not done yet! \n",
    "#we are happy with what the data looks like, so lets work on making growth curves\n",
    "#lets remind ourselves of what the data looks like\n",
    "\n",
    "dat"
   ]
  },
  {
   "cell_type": "code",
   "execution_count": null,
   "metadata": {},
   "outputs": [],
   "source": [
    "#lets get the columns that contain our data\n",
    "\n",
    "#first, make a list of the wells we are interested in. \n",
    "wells = [1, 4, 11, 14, 21, 24, 31, 34, 41, 44, 51, 54]\n",
    "\n",
    "wells"
   ]
  },
  {
   "cell_type": "code",
   "execution_count": null,
   "metadata": {},
   "outputs": [],
   "source": [
    "#notice I did this experiment in triplicate, so I can use this trick to fill the list with triplicates\n",
    "wells = [1, 4, 11, 14, 21, 24, 31, 34, 41, 44, 51, 54]\n",
    "wells = [[w, w+1, w+2] for w in wells] #make a temporary list with the triplicates\n",
    "\n",
    "print(wells)\n",
    "print()\n",
    "\n",
    "wells = [item for sublist in wells for item in sublist] #flatten list\n",
    "\n",
    "print(wells)"
   ]
  },
  {
   "cell_type": "code",
   "execution_count": null,
   "metadata": {},
   "outputs": [],
   "source": [
    "#add the 'Well-' before each number\n",
    "wells = ['Well-'+str(w) for w in wells]\n",
    "\n",
    "print(wells)"
   ]
  },
  {
   "cell_type": "code",
   "execution_count": null,
   "metadata": {},
   "outputs": [],
   "source": [
    "#now we add the labels - your experiment may differ. \n",
    "#we will use the same trick to fill in triplicates so no need to do so here\n",
    "#labels should correspond with these positions: wells = [1, 4, 11, 14, 21, 24, 31, 34, 41, 44, 51, 54]\n",
    "\n",
    "labels1 = ['WT', '15Y', 'WT', '15Y', 'WT', '15Y', 'WT', '15Y', 'WT', '15Y', 'WT', '15Y', ]\n",
    "\n",
    "labels2 = ['LB', 'LB', 'A', 'A', 'G', 'G', 'T', 'T', 'C', 'C', 'U', 'U']"
   ]
  },
  {
   "cell_type": "code",
   "execution_count": null,
   "metadata": {},
   "outputs": [],
   "source": [
    "#trick to fill in triplicates\n",
    "t = [[w + ' ' + y]*3 for w, y in zip(labels1, labels2)]\n",
    "labels = [item for sublist in t for item in sublist] #flatten list\n",
    "\n",
    "print(labels)"
   ]
  },
  {
   "cell_type": "code",
   "execution_count": null,
   "metadata": {
    "scrolled": true
   },
   "outputs": [],
   "source": [
    "#get wells of interest previously created 'wells' variable\n",
    "df = dat.loc[:, wells].apply(pd.to_numeric)\n",
    "\n",
    "df"
   ]
  },
  {
   "cell_type": "code",
   "execution_count": null,
   "metadata": {
    "scrolled": true
   },
   "outputs": [],
   "source": [
    "#add labels\n",
    "df.columns = labels\n",
    "\n",
    "df"
   ]
  },
  {
   "cell_type": "code",
   "execution_count": null,
   "metadata": {
    "scrolled": true
   },
   "outputs": [],
   "source": [
    "#add a time variable, it is every half hour\n",
    "df.loc[:, 'Time'] = [i/2 for i in range(len(df))]\n",
    "\n",
    "df"
   ]
  },
  {
   "cell_type": "code",
   "execution_count": null,
   "metadata": {},
   "outputs": [],
   "source": [
    "#now for plotting! lets convert the dataframe to something seaborn can work with using melt\n",
    "m = pd.melt(df, id_vars=['Time'], value_vars=labels)\n",
    "\n",
    "m"
   ]
  },
  {
   "cell_type": "code",
   "execution_count": null,
   "metadata": {
    "scrolled": true
   },
   "outputs": [],
   "source": [
    "#we can plot this as is\n",
    "ax = sns.lineplot(x='Time', y='value', hue='variable', data=m)\n",
    "\n",
    "ax.set_xlabel('Hours')\n",
    "ax.set_ylabel('OD600')"
   ]
  },
  {
   "cell_type": "code",
   "execution_count": null,
   "metadata": {},
   "outputs": [],
   "source": [
    "#or we can improve this plot by splitting the variable into strain and condition\n",
    "m['Strain'] = m.variable.str.split().str[0]\n",
    "m['Media'] = m.variable.str.split().str[1]\n",
    "\n",
    "m"
   ]
  },
  {
   "cell_type": "code",
   "execution_count": null,
   "metadata": {},
   "outputs": [],
   "source": [
    "ax = sns.lineplot(x='Time', y='value', hue='Media', style='Strain', data=m)\n",
    "\n",
    "ax.set_xlabel('Hours')\n",
    "ax.set_ylabel('OD600')"
   ]
  },
  {
   "cell_type": "code",
   "execution_count": null,
   "metadata": {
    "scrolled": false
   },
   "outputs": [],
   "source": [
    "#we can add some improvements\n",
    "plt.figure(figsize = (10, 6))\n",
    "\n",
    "ax = sns.lineplot(x='Time', y='value', hue='Media', style='Strain', data=m, palette='deep')\n",
    "sns.despine()\n",
    "\n",
    "ax.set_xlabel('Hours')\n",
    "ax.set_ylabel('OD600')"
   ]
  }
 ],
 "metadata": {
  "kernelspec": {
   "display_name": "Python 3 (ipykernel)",
   "language": "python",
   "name": "python3"
  },
  "language_info": {
   "codemirror_mode": {
    "name": "ipython",
    "version": 3
   },
   "file_extension": ".py",
   "mimetype": "text/x-python",
   "name": "python",
   "nbconvert_exporter": "python",
   "pygments_lexer": "ipython3",
   "version": "3.9.7"
  }
 },
 "nbformat": 4,
 "nbformat_minor": 2
}
