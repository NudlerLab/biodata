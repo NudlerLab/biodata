{
 "cells": [
  {
   "cell_type": "markdown",
   "id": "4b3d237f-262d-4785-a841-9dc1953b51bd",
   "metadata": {
    "slideshow": {
     "slide_type": "slide"
    }
   },
   "source": [
    "# Machine Learning\n",
    "\n",
    "### with `scikit-learn`"
   ]
  },
  {
   "cell_type": "markdown",
   "id": "3311f7e4-c065-4cb6-9ac4-774f636f923e",
   "metadata": {
    "slideshow": {
     "slide_type": "slide"
    }
   },
   "source": [
    "## Supervised learning\n",
    "\n",
    "- ground truth is known (that is we know what the output given the known input should be)\n",
    "- the goal is to find a function that will do the best appriximation of the relationship between input and output\n",
    "- regression for continuous output, classification for discreet output"
   ]
  },
  {
   "cell_type": "markdown",
   "id": "3a03ed2f",
   "metadata": {
    "slideshow": {
     "slide_type": "fragment"
    }
   },
   "source": [
    "![Supervised Learning](classification.png)"
   ]
  },
  {
   "cell_type": "markdown",
   "id": "1f11d385-9cfa-4e4c-b681-b64712a6fe78",
   "metadata": {
    "slideshow": {
     "slide_type": "slide"
    }
   },
   "source": [
    "### Training set and testing set\n",
    "\n",
    "Machine learning is about learning some properties of a data set and then testing those properties against another data set. A common practice in machine learning is to evaluate an algorithm by splitting a data set into two. We call one of those sets the training set, on which we learn some properties; we call the other set the testing set, on which we test the learned properties."
   ]
  },
  {
   "cell_type": "markdown",
   "id": "1770147c-0a87-4c07-8d82-80347af44647",
   "metadata": {
    "slideshow": {
     "slide_type": "slide"
    }
   },
   "source": [
    "## Unsupervised learning\n",
    "\n",
    "- no known labels (outputs)\n",
    "- tries to learn the natural structure present in the dataset\n",
    "- clustering, density estimation, dimensionality reduction\n",
    "- exploratory data analysis"
   ]
  },
  {
   "cell_type": "markdown",
   "id": "048f3fb9",
   "metadata": {
    "slideshow": {
     "slide_type": "slide"
    }
   },
   "source": [
    "![Unsupervised](unsupervised.png)"
   ]
  },
  {
   "cell_type": "markdown",
   "id": "99086d18-a719-41bc-9619-0fbc5b81c58a",
   "metadata": {
    "slideshow": {
     "slide_type": "slide"
    }
   },
   "source": [
    "## Model complexity\n",
    "\n",
    "- refers to the complexity of function we learn from the data (think degree of a polynomial)\n",
    "- high complexity model tend to overfit (good for training data but do not generalize)\n",
    "- bias-variance tradeoff:\n",
    "    - high bias low variance model: consistently 20% wrong\n",
    "    - low bias high variance model: 5-50% wrong"
   ]
  },
  {
   "cell_type": "markdown",
   "id": "be862142",
   "metadata": {
    "slideshow": {
     "slide_type": "subslide"
    }
   },
   "source": [
    "![Overfitting](overfitting.jpeg)"
   ]
  },
  {
   "cell_type": "markdown",
   "id": "1ec2a2eb",
   "metadata": {
    "slideshow": {
     "slide_type": "subslide"
    }
   },
   "source": [
    "![Very overfitting](data.jpeg)"
   ]
  },
  {
   "cell_type": "markdown",
   "id": "3225686c",
   "metadata": {
    "slideshow": {
     "slide_type": "slide"
    }
   },
   "source": [
    "## `scikit-learn` ML map\n",
    "\n",
    "![ML map](ml_map.png)"
   ]
  },
  {
   "cell_type": "code",
   "execution_count": null,
   "id": "4e761f6d",
   "metadata": {},
   "outputs": [],
   "source": []
  }
 ],
 "metadata": {
  "celltoolbar": "Slideshow",
  "kernelspec": {
   "display_name": "Python 3",
   "language": "python",
   "name": "python3"
  },
  "language_info": {
   "codemirror_mode": {
    "name": "ipython",
    "version": 3
   },
   "file_extension": ".py",
   "mimetype": "text/x-python",
   "name": "python",
   "nbconvert_exporter": "python",
   "pygments_lexer": "ipython3",
   "version": "3.8.10"
  }
 },
 "nbformat": 4,
 "nbformat_minor": 5
}
