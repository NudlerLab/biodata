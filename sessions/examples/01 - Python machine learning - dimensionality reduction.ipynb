{
 "cells": [
  {
   "cell_type": "code",
   "execution_count": 1,
   "metadata": {
    "deletable": true,
    "editable": true,
    "tags": []
   },
   "outputs": [],
   "source": [
    "%matplotlib inline"
   ]
  },
  {
   "cell_type": "code",
   "execution_count": 2,
   "metadata": {
    "deletable": true,
    "editable": true,
    "tags": []
   },
   "outputs": [],
   "source": [
    "import pandas as pd\n",
    "import numpy as np\n",
    "import csv\n",
    "from sklearn.preprocessing import StandardScaler\n",
    "from sklearn.decomposition import PCA as sklearnPCA\n",
    "from plotnine import *"
   ]
  },
  {
   "cell_type": "markdown",
   "metadata": {},
   "source": [
    "# Example 1: E.coli `5'UTRs`"
   ]
  },
  {
   "cell_type": "markdown",
   "metadata": {
    "deletable": true,
    "editable": true
   },
   "source": [
    "## Utility functions to parse experiment metadata"
   ]
  },
  {
   "cell_type": "code",
   "execution_count": 3,
   "metadata": {
    "deletable": true,
    "editable": true,
    "tags": []
   },
   "outputs": [],
   "source": [
    "def parse_barcodes(bcfile, bc_id='BC'):\n",
    "    res = {}\n",
    "    with open(bcfile, 'r') as fi:\n",
    "        for line in fi:\n",
    "            fields = line.strip().split(',')\n",
    "            if fields[0].startswith(bc_id):\n",
    "                res[fields[0]] = fields[1]\n",
    "    return res\n",
    "\n",
    "\n",
    "def parse_exp_config(expfile, bc_dict):\n",
    "    res = []\n",
    "    fieldnames = ['id', 'sample', 'cond', 'barcode', 'size', 'region', 'Qbit', 'conc', 'dilution']\n",
    "    with open(expfile) as fi:\n",
    "        reader = csv.DictReader(fi, fieldnames=fieldnames)\n",
    "        for rec in reader:\n",
    "            if rec['id']:\n",
    "                res.append({\n",
    "                    'sample': rec['sample'],\n",
    "                    'bc_id': rec['barcode'],\n",
    "                    'bc_seq': bc_dict[rec['barcode']],\n",
    "                    'temp': int(rec['cond'][:2]),\n",
    "                    'bcm': '+' in rec['cond'],\n",
    "                })\n",
    "    return pd.DataFrame.from_records(res)"
   ]
  },
  {
   "cell_type": "markdown",
   "metadata": {
    "deletable": true,
    "editable": true
   },
   "source": [
    "## Read the counts table\n",
    "\n",
    "This is bacterial mRNA-Seq with samples at 4 different temperatures with or without the addition of BCM. Each condition is sequenced in triplicates. And we are interested in `5'UTRs` transcription levels."
   ]
  },
  {
   "cell_type": "code",
   "execution_count": 7,
   "metadata": {
    "collapsed": false,
    "deletable": true,
    "editable": true,
    "jupyter": {
     "outputs_hidden": false
    }
   },
   "outputs": [
    {
     "data": {
      "text/html": [
       "<div>\n",
       "<style scoped>\n",
       "    .dataframe tbody tr th:only-of-type {\n",
       "        vertical-align: middle;\n",
       "    }\n",
       "\n",
       "    .dataframe tbody tr th {\n",
       "        vertical-align: top;\n",
       "    }\n",
       "\n",
       "    .dataframe thead th {\n",
       "        text-align: right;\n",
       "    }\n",
       "</style>\n",
       "<table border=\"1\" class=\"dataframe\">\n",
       "  <thead>\n",
       "    <tr style=\"text-align: right;\">\n",
       "      <th></th>\n",
       "      <th>Unnamed: 0</th>\n",
       "      <th>gene</th>\n",
       "      <th>TSS</th>\n",
       "      <th>end</th>\n",
       "      <th>start</th>\n",
       "      <th>UTR_length</th>\n",
       "      <th>utr_counts</th>\n",
       "      <th>sample</th>\n",
       "    </tr>\n",
       "  </thead>\n",
       "  <tbody>\n",
       "    <tr>\n",
       "      <th>0</th>\n",
       "      <td>0</td>\n",
       "      <td>C0343</td>\n",
       "      <td>2818676</td>\n",
       "      <td>2818728</td>\n",
       "      <td>2818676</td>\n",
       "      <td>52</td>\n",
       "      <td>4</td>\n",
       "      <td>utRho01</td>\n",
       "    </tr>\n",
       "    <tr>\n",
       "      <th>1</th>\n",
       "      <td>1</td>\n",
       "      <td>aaeB</td>\n",
       "      <td>6776526</td>\n",
       "      <td>6776526</td>\n",
       "      <td>6776376</td>\n",
       "      <td>150</td>\n",
       "      <td>20</td>\n",
       "      <td>utRho01</td>\n",
       "    </tr>\n",
       "    <tr>\n",
       "      <th>2</th>\n",
       "      <td>2</td>\n",
       "      <td>aaeR</td>\n",
       "      <td>6778762</td>\n",
       "      <td>6779040</td>\n",
       "      <td>6778762</td>\n",
       "      <td>278</td>\n",
       "      <td>136</td>\n",
       "      <td>utRho01</td>\n",
       "    </tr>\n",
       "    <tr>\n",
       "      <th>3</th>\n",
       "      <td>3</td>\n",
       "      <td>aaeX</td>\n",
       "      <td>6778860</td>\n",
       "      <td>6778860</td>\n",
       "      <td>6778674</td>\n",
       "      <td>186</td>\n",
       "      <td>170</td>\n",
       "      <td>utRho01</td>\n",
       "    </tr>\n",
       "    <tr>\n",
       "      <th>4</th>\n",
       "      <td>4</td>\n",
       "      <td>aat</td>\n",
       "      <td>1854920</td>\n",
       "      <td>1854920</td>\n",
       "      <td>1854864</td>\n",
       "      <td>56</td>\n",
       "      <td>32</td>\n",
       "      <td>utRho01</td>\n",
       "    </tr>\n",
       "    <tr>\n",
       "      <th>...</th>\n",
       "      <td>...</td>\n",
       "      <td>...</td>\n",
       "      <td>...</td>\n",
       "      <td>...</td>\n",
       "      <td>...</td>\n",
       "      <td>...</td>\n",
       "      <td>...</td>\n",
       "      <td>...</td>\n",
       "    </tr>\n",
       "    <tr>\n",
       "      <th>71575</th>\n",
       "      <td>2381</td>\n",
       "      <td>zraP</td>\n",
       "      <td>8403424</td>\n",
       "      <td>8403424</td>\n",
       "      <td>8403376</td>\n",
       "      <td>48</td>\n",
       "      <td>2</td>\n",
       "      <td>utRho30</td>\n",
       "    </tr>\n",
       "    <tr>\n",
       "      <th>71576</th>\n",
       "      <td>2382</td>\n",
       "      <td>zraS</td>\n",
       "      <td>8403810</td>\n",
       "      <td>8403852</td>\n",
       "      <td>8403810</td>\n",
       "      <td>42</td>\n",
       "      <td>82</td>\n",
       "      <td>utRho30</td>\n",
       "    </tr>\n",
       "    <tr>\n",
       "      <th>71577</th>\n",
       "      <td>2383</td>\n",
       "      <td>zupT</td>\n",
       "      <td>6364866</td>\n",
       "      <td>6365100</td>\n",
       "      <td>6364866</td>\n",
       "      <td>234</td>\n",
       "      <td>366</td>\n",
       "      <td>utRho30</td>\n",
       "    </tr>\n",
       "    <tr>\n",
       "      <th>71578</th>\n",
       "      <td>2384</td>\n",
       "      <td>zur</td>\n",
       "      <td>8520282</td>\n",
       "      <td>8520282</td>\n",
       "      <td>8520006</td>\n",
       "      <td>276</td>\n",
       "      <td>628</td>\n",
       "      <td>utRho30</td>\n",
       "    </tr>\n",
       "    <tr>\n",
       "      <th>71579</th>\n",
       "      <td>2385</td>\n",
       "      <td>zwf</td>\n",
       "      <td>3872752</td>\n",
       "      <td>3872752</td>\n",
       "      <td>3872628</td>\n",
       "      <td>124</td>\n",
       "      <td>70</td>\n",
       "      <td>utRho30</td>\n",
       "    </tr>\n",
       "  </tbody>\n",
       "</table>\n",
       "<p>71580 rows × 8 columns</p>\n",
       "</div>"
      ],
      "text/plain": [
       "       Unnamed: 0   gene      TSS      end    start  UTR_length  utr_counts  \\\n",
       "0               0  C0343  2818676  2818728  2818676          52           4   \n",
       "1               1   aaeB  6776526  6776526  6776376         150          20   \n",
       "2               2   aaeR  6778762  6779040  6778762         278         136   \n",
       "3               3   aaeX  6778860  6778860  6778674         186         170   \n",
       "4               4    aat  1854920  1854920  1854864          56          32   \n",
       "...           ...    ...      ...      ...      ...         ...         ...   \n",
       "71575        2381   zraP  8403424  8403424  8403376          48           2   \n",
       "71576        2382   zraS  8403810  8403852  8403810          42          82   \n",
       "71577        2383   zupT  6364866  6365100  6364866         234         366   \n",
       "71578        2384    zur  8520282  8520282  8520006         276         628   \n",
       "71579        2385    zwf  3872752  3872752  3872628         124          70   \n",
       "\n",
       "        sample  \n",
       "0      utRho01  \n",
       "1      utRho01  \n",
       "2      utRho01  \n",
       "3      utRho01  \n",
       "4      utRho01  \n",
       "...        ...  \n",
       "71575  utRho30  \n",
       "71576  utRho30  \n",
       "71577  utRho30  \n",
       "71578  utRho30  \n",
       "71579  utRho30  \n",
       "\n",
       "[71580 rows x 8 columns]"
      ]
     },
     "execution_count": 7,
     "metadata": {},
     "output_type": "execute_result"
    }
   ],
   "source": [
    "bc_dict = parse_barcodes('../../data/Lexogen_Sense_RNA-Seq.csv')\n",
    "exp_df = parse_exp_config('../../data/2017-03-09_NextSeq.csv', bc_dict)\n",
    "agg_utr = pd.read_csv('../../data/utr.counts.csv')\n",
    "agg_utr"
   ]
  },
  {
   "cell_type": "markdown",
   "metadata": {
    "deletable": true,
    "editable": true
   },
   "source": [
    "## Normalize to `UTR` length"
   ]
  },
  {
   "cell_type": "code",
   "execution_count": 8,
   "metadata": {
    "deletable": true,
    "editable": true,
    "tags": []
   },
   "outputs": [],
   "source": [
    "def normalize(df, edf, columns=None):\n",
    "    '''\n",
    "    Prepares the UTR dataframe (`df`) for log transformation.\n",
    "    \n",
    "    Adds experiment metadata from `edf`.\n",
    "    Adds pseudocounts to `utr_counts` and `UTR_length`.\n",
    "    Normalizes counts to UTR length.\n",
    "    '''\n",
    "    def pseudo_counts(x):\n",
    "        return x + 1 if x == 0 else x\n",
    "\n",
    "    df = df.merge(edf, how='left', on='sample')\n",
    "    if columns is not None:\n",
    "        df = df[columns]\n",
    "    # Add pseudocounts to allow log transform later\n",
    "    df['utr_counts'] = df['utr_counts'].apply(pseudo_counts)\n",
    "    df['UTR_length'] = df['UTR_length'].apply(pseudo_counts)\n",
    "    df['utr_norm'] = df['utr_counts'] / df['UTR_length']\n",
    "    return df"
   ]
  },
  {
   "cell_type": "code",
   "execution_count": 9,
   "metadata": {
    "collapsed": false,
    "deletable": true,
    "editable": true,
    "jupyter": {
     "outputs_hidden": false
    }
   },
   "outputs": [
    {
     "data": {
      "text/html": [
       "<div>\n",
       "<style scoped>\n",
       "    .dataframe tbody tr th:only-of-type {\n",
       "        vertical-align: middle;\n",
       "    }\n",
       "\n",
       "    .dataframe tbody tr th {\n",
       "        vertical-align: top;\n",
       "    }\n",
       "\n",
       "    .dataframe thead th {\n",
       "        text-align: right;\n",
       "    }\n",
       "</style>\n",
       "<table border=\"1\" class=\"dataframe\">\n",
       "  <thead>\n",
       "    <tr style=\"text-align: right;\">\n",
       "      <th></th>\n",
       "      <th>gene</th>\n",
       "      <th>TSS</th>\n",
       "      <th>start</th>\n",
       "      <th>end</th>\n",
       "      <th>UTR_length</th>\n",
       "      <th>utr_counts</th>\n",
       "      <th>sample</th>\n",
       "      <th>bcm</th>\n",
       "      <th>temp</th>\n",
       "      <th>utr_norm</th>\n",
       "    </tr>\n",
       "  </thead>\n",
       "  <tbody>\n",
       "    <tr>\n",
       "      <th>0</th>\n",
       "      <td>C0343</td>\n",
       "      <td>2818676</td>\n",
       "      <td>2818676</td>\n",
       "      <td>2818728</td>\n",
       "      <td>52</td>\n",
       "      <td>4</td>\n",
       "      <td>utRho01</td>\n",
       "      <td>False</td>\n",
       "      <td>10</td>\n",
       "      <td>0.076923</td>\n",
       "    </tr>\n",
       "    <tr>\n",
       "      <th>1</th>\n",
       "      <td>aaeB</td>\n",
       "      <td>6776526</td>\n",
       "      <td>6776376</td>\n",
       "      <td>6776526</td>\n",
       "      <td>150</td>\n",
       "      <td>20</td>\n",
       "      <td>utRho01</td>\n",
       "      <td>False</td>\n",
       "      <td>10</td>\n",
       "      <td>0.133333</td>\n",
       "    </tr>\n",
       "    <tr>\n",
       "      <th>2</th>\n",
       "      <td>aaeR</td>\n",
       "      <td>6778762</td>\n",
       "      <td>6778762</td>\n",
       "      <td>6779040</td>\n",
       "      <td>278</td>\n",
       "      <td>136</td>\n",
       "      <td>utRho01</td>\n",
       "      <td>False</td>\n",
       "      <td>10</td>\n",
       "      <td>0.489209</td>\n",
       "    </tr>\n",
       "    <tr>\n",
       "      <th>3</th>\n",
       "      <td>aaeX</td>\n",
       "      <td>6778860</td>\n",
       "      <td>6778674</td>\n",
       "      <td>6778860</td>\n",
       "      <td>186</td>\n",
       "      <td>170</td>\n",
       "      <td>utRho01</td>\n",
       "      <td>False</td>\n",
       "      <td>10</td>\n",
       "      <td>0.913978</td>\n",
       "    </tr>\n",
       "    <tr>\n",
       "      <th>4</th>\n",
       "      <td>aat</td>\n",
       "      <td>1854920</td>\n",
       "      <td>1854864</td>\n",
       "      <td>1854920</td>\n",
       "      <td>56</td>\n",
       "      <td>32</td>\n",
       "      <td>utRho01</td>\n",
       "      <td>False</td>\n",
       "      <td>10</td>\n",
       "      <td>0.571429</td>\n",
       "    </tr>\n",
       "    <tr>\n",
       "      <th>...</th>\n",
       "      <td>...</td>\n",
       "      <td>...</td>\n",
       "      <td>...</td>\n",
       "      <td>...</td>\n",
       "      <td>...</td>\n",
       "      <td>...</td>\n",
       "      <td>...</td>\n",
       "      <td>...</td>\n",
       "      <td>...</td>\n",
       "      <td>...</td>\n",
       "    </tr>\n",
       "    <tr>\n",
       "      <th>71575</th>\n",
       "      <td>zraP</td>\n",
       "      <td>8403424</td>\n",
       "      <td>8403376</td>\n",
       "      <td>8403424</td>\n",
       "      <td>48</td>\n",
       "      <td>2</td>\n",
       "      <td>utRho30</td>\n",
       "      <td>True</td>\n",
       "      <td>51</td>\n",
       "      <td>0.041667</td>\n",
       "    </tr>\n",
       "    <tr>\n",
       "      <th>71576</th>\n",
       "      <td>zraS</td>\n",
       "      <td>8403810</td>\n",
       "      <td>8403810</td>\n",
       "      <td>8403852</td>\n",
       "      <td>42</td>\n",
       "      <td>82</td>\n",
       "      <td>utRho30</td>\n",
       "      <td>True</td>\n",
       "      <td>51</td>\n",
       "      <td>1.952381</td>\n",
       "    </tr>\n",
       "    <tr>\n",
       "      <th>71577</th>\n",
       "      <td>zupT</td>\n",
       "      <td>6364866</td>\n",
       "      <td>6364866</td>\n",
       "      <td>6365100</td>\n",
       "      <td>234</td>\n",
       "      <td>366</td>\n",
       "      <td>utRho30</td>\n",
       "      <td>True</td>\n",
       "      <td>51</td>\n",
       "      <td>1.564103</td>\n",
       "    </tr>\n",
       "    <tr>\n",
       "      <th>71578</th>\n",
       "      <td>zur</td>\n",
       "      <td>8520282</td>\n",
       "      <td>8520006</td>\n",
       "      <td>8520282</td>\n",
       "      <td>276</td>\n",
       "      <td>628</td>\n",
       "      <td>utRho30</td>\n",
       "      <td>True</td>\n",
       "      <td>51</td>\n",
       "      <td>2.275362</td>\n",
       "    </tr>\n",
       "    <tr>\n",
       "      <th>71579</th>\n",
       "      <td>zwf</td>\n",
       "      <td>3872752</td>\n",
       "      <td>3872628</td>\n",
       "      <td>3872752</td>\n",
       "      <td>124</td>\n",
       "      <td>70</td>\n",
       "      <td>utRho30</td>\n",
       "      <td>True</td>\n",
       "      <td>51</td>\n",
       "      <td>0.564516</td>\n",
       "    </tr>\n",
       "  </tbody>\n",
       "</table>\n",
       "<p>71580 rows × 10 columns</p>\n",
       "</div>"
      ],
      "text/plain": [
       "        gene      TSS    start      end  UTR_length  utr_counts   sample  \\\n",
       "0      C0343  2818676  2818676  2818728          52           4  utRho01   \n",
       "1       aaeB  6776526  6776376  6776526         150          20  utRho01   \n",
       "2       aaeR  6778762  6778762  6779040         278         136  utRho01   \n",
       "3       aaeX  6778860  6778674  6778860         186         170  utRho01   \n",
       "4        aat  1854920  1854864  1854920          56          32  utRho01   \n",
       "...      ...      ...      ...      ...         ...         ...      ...   \n",
       "71575   zraP  8403424  8403376  8403424          48           2  utRho30   \n",
       "71576   zraS  8403810  8403810  8403852          42          82  utRho30   \n",
       "71577   zupT  6364866  6364866  6365100         234         366  utRho30   \n",
       "71578    zur  8520282  8520006  8520282         276         628  utRho30   \n",
       "71579    zwf  3872752  3872628  3872752         124          70  utRho30   \n",
       "\n",
       "         bcm  temp  utr_norm  \n",
       "0      False    10  0.076923  \n",
       "1      False    10  0.133333  \n",
       "2      False    10  0.489209  \n",
       "3      False    10  0.913978  \n",
       "4      False    10  0.571429  \n",
       "...      ...   ...       ...  \n",
       "71575   True    51  0.041667  \n",
       "71576   True    51  1.952381  \n",
       "71577   True    51  1.564103  \n",
       "71578   True    51  2.275362  \n",
       "71579   True    51  0.564516  \n",
       "\n",
       "[71580 rows x 10 columns]"
      ]
     },
     "execution_count": 9,
     "metadata": {},
     "output_type": "execute_result"
    }
   ],
   "source": [
    "columns = ['gene', 'TSS', 'start', 'end', 'UTR_length',\n",
    "               'utr_counts', 'sample', 'bcm', 'temp']\n",
    "utr = normalize(agg_utr, exp_df, columns)\n",
    "utr"
   ]
  },
  {
   "cell_type": "markdown",
   "metadata": {},
   "source": [
    "## Notation\n",
    "\n",
    "`X` : data (features)\n",
    "`Y` : predicted value"
   ]
  },
  {
   "cell_type": "markdown",
   "metadata": {
    "deletable": true,
    "editable": true
   },
   "source": [
    "## `-BCM` samples\n",
    "\n",
    "From `scikit-learn` docs:\n",
    "\n",
    "Standardize features by removing the mean and scaling to unit variance\n",
    "\n",
    "The standard score of a sample `x` is calculated as:\n",
    "\n",
    "`z = (x - u) / s`\n",
    "\n",
    "where `u` is the mean of the training samples or zero if `with_mean=False`, and `s` is the standard deviation of the training samples or one if `with_std=False`."
   ]
  },
  {
   "cell_type": "code",
   "execution_count": 12,
   "metadata": {
    "collapsed": false,
    "deletable": true,
    "editable": true,
    "jupyter": {
     "outputs_hidden": false
    }
   },
   "outputs": [
    {
     "data": {
      "text/plain": [
       "array([[-0.41182215, -0.35767468,  0.89567674, ..., -0.35521186,\n",
       "         1.25630607, -0.56361468],\n",
       "       [ 0.32677193, -0.2821096 , -1.55450278, ...,  0.5837574 ,\n",
       "        -0.35981582,  0.27105777],\n",
       "       [-0.41182215, -0.35767468, -0.451922  , ..., -0.38672089,\n",
       "        -1.10689103, -0.47508882],\n",
       "       ...,\n",
       "       [-0.41182215, -0.35767468,  1.67156692, ...,  0.52073933,\n",
       "         1.89284464, -0.26009743],\n",
       "       [-0.41182215, -0.35767468,  1.18153101, ..., -1.16499407,\n",
       "        -0.96586152, -0.60155434],\n",
       "       [ 1.18622686, -0.35767468,  0.77316776, ..., -0.02121608,\n",
       "         0.19667898,  0.59986813]])"
      ]
     },
     "execution_count": 12,
     "metadata": {},
     "output_type": "execute_result"
    }
   ],
   "source": [
    "# build expression matrix\n",
    "X = pd.DataFrame()\n",
    "samples = []\n",
    "\n",
    "for sample in set(utr['sample']):\n",
    "    mask = (utr['sample']==sample) & (utr['bcm']==False)\n",
    "    if not utr[mask].empty:\n",
    "        X[sample] = utr[mask]['utr_norm'].values\n",
    "        samples.append(sample)\n",
    "    \n",
    "# Same as .fit() and then .transform()\n",
    "X_std = StandardScaler().fit_transform(X.values.T)\n",
    "X_std"
   ]
  },
  {
   "cell_type": "markdown",
   "metadata": {},
   "source": [
    "## Principal Component Analisys (PCA)\n",
    "\n",
    "Linear dimensionality reduction using Singular Value Decomposition of the data to project it to a lower dimensional space. The input data is centered but not scaled for each feature before applying the `SVD`.\n",
    "\n",
    "The resulting components are ranked by the amount of variance explained in the data."
   ]
  },
  {
   "cell_type": "code",
   "execution_count": 14,
   "metadata": {
    "collapsed": false,
    "deletable": true,
    "editable": true,
    "jupyter": {
     "outputs_hidden": false
    },
    "scrolled": true
   },
   "outputs": [
    {
     "name": "stdout",
     "output_type": "stream",
     "text": [
      "[[-1.84180228e+01  3.85455760e+01  1.92714166e+01  6.26492351e+00\n",
      "   1.86267009e+00  5.30749058e+00 -6.67070495e+00  3.99260993e+00\n",
      "   2.66448186e+01  5.31618792e-01]\n",
      " [-9.78874751e+00 -2.54150007e+01  1.56823598e+01 -6.96971149e+00\n",
      "  -3.27985907e+00 -1.34188260e+01 -7.40965258e+00  3.12682974e+01\n",
      "  -2.03404727e+00 -3.63381541e+00]\n",
      " [ 3.54256587e+01 -4.56606239e-01 -6.99848301e+00 -1.99915608e+01\n",
      "  -1.59964938e+01  2.27071931e+01 -2.02312021e+01 -1.06909320e+00\n",
      "   1.76973752e-01 -1.75425170e+00]\n",
      " [ 9.29415499e-01 -6.18164499e+00 -1.72009951e+01 -3.90190886e+00\n",
      "  -5.49493463e-01 -7.52610254e-01  1.34938215e+00  2.20760005e+00\n",
      "  -1.01838153e-01  1.09447231e+01]\n",
      " [-1.56183019e+01  3.27010705e+01  1.57258209e+01  2.39271922e+00\n",
      "  -1.24396235e+00 -3.60139174e-02 -2.84315780e+00 -2.24028420e+00\n",
      "  -2.13476234e+01 -2.61147263e+00]\n",
      " [-7.99866732e+00  4.65800825e+00 -2.05751541e+01 -9.64108660e+00\n",
      "  -3.11100542e+00 -6.44702476e+00  1.26195813e+01 -2.70665691e+00\n",
      "   6.65875165e+00 -1.06594761e+01]\n",
      " [-6.30080559e+00  3.73924036e+00 -1.85311316e+01 -8.79861815e+00\n",
      "  -2.30236523e+00 -5.50160579e+00  9.13970912e+00 -1.75330517e+00\n",
      "   7.95371836e-01 -1.49936590e+00]\n",
      " [-1.63770971e+01 -1.42055558e+01 -1.94036942e+01  2.83652115e+01\n",
      "   7.34057762e+00  8.77246258e+00 -1.59174890e+01 -1.81838557e+00\n",
      "  -4.49529756e+00 -1.54266350e+01]\n",
      " [-8.53029322e+00  6.16438977e+00 -1.87802275e+01 -6.37857148e+00\n",
      "  -2.25020072e+00 -5.74290050e+00  1.07597623e+01 -6.26823183e-01\n",
      "   1.89630839e+00 -6.92440994e+00]\n",
      " [-1.14384673e+01 -9.40841117e+00 -1.90377592e+01  1.18198791e+01\n",
      "   3.46392884e+00  1.92667035e+00 -3.75850722e+00  2.00741120e+00\n",
      "   1.25170924e+00  2.48891244e+01]\n",
      " [ 4.48813417e+01  1.17560631e+00  6.25214231e+00 -3.13785712e+00\n",
      "   3.61479679e+01  4.86635758e+00  7.39432182e+00  3.59829611e+00\n",
      "  -6.60974656e-01 -1.67956375e+00]\n",
      " [-1.75999761e+01 -3.26667898e+01  2.62626684e+01  3.34977237e+00\n",
      "  -7.20226639e+00  2.31513457e+01  2.25837793e+01 -4.44320645e+00\n",
      "   3.02761258e-01 -1.86420082e-02]\n",
      " [-8.85287112e+00  2.66860968e+01  7.71628630e+00 -4.43763624e+00\n",
      "  -8.98042851e-01 -5.98833845e-01  2.39387886e+00 -7.29854305e-01\n",
      "  -1.43123719e+01  6.69087755e+00]\n",
      " [ 5.25240992e+01  7.68853451e-01  1.02664303e+01  2.31281590e+01\n",
      "  -1.92723192e+01 -1.62651057e+01  5.94072735e+00 -4.06960233e+00\n",
      "   1.86289169e+00  1.95025704e-01]\n",
      " [-1.28372652e+01 -2.61048327e+01  1.93503200e+01 -1.20637139e+01\n",
      "   7.29086404e+00 -1.79685991e+01 -1.53504285e+01 -2.36170034e+01\n",
      "   3.36256650e+00  9.56262920e-01]]\n",
      "[559.7394198  433.29728533 309.71766462 170.35646317 152.98738793\n",
      " 146.95347208 141.85873175 116.45420798 104.30987398  86.6416105 ]\n",
      "[0.22743729 0.17606043 0.12584668 0.06922045 0.06216292 0.05971118\n",
      " 0.05764105 0.0473185  0.04238393 0.03520483]\n"
     ]
    }
   ],
   "source": [
    "sklearn_pca = sklearnPCA(n_components=10)\n",
    "Y = sklearn_pca.fit_transform(X_std)\n",
    "print(Y)\n",
    "print(sklearn_pca.explained_variance_)\n",
    "print(sklearn_pca.explained_variance_ratio_)"
   ]
  },
  {
   "cell_type": "markdown",
   "metadata": {},
   "source": [
    "## Aside: `ggplot` terminology\n",
    "\n",
    "from: https://beanumber.github.io/sds192/lab-ggplot2.html\n",
    "\n",
    "### Geometric Objects (geom)\n",
    "\n",
    "Geometric objects or geoms are the actual marks we put on a plot. Examples include:\n",
    "\n",
    "- points (`geom_point`, for scatter plots, dot plots, etc)\n",
    "- lines (`geom_line`, for time series, trend lines, etc)\n",
    "- boxplot (`geom_boxplot`, for, well, boxplots!)\n",
    "- … and many more!\n",
    "\n",
    "A plot should have at least one geom, but there is no upper limit. You can add a geom to a plot using the + operator.\n",
    "\n",
    "### Aesthetic Mapping (aes)\n",
    "\n",
    "In `ggplot2`, aesthetic means “something you can see”. Each aesthetic is a mapping between a visual cue and a variable. Examples include:\n",
    "\n",
    "- position (i.e., on the x and y axes)\n",
    "- color (“outside” color)\n",
    "- fill (“inside” color)\n",
    "- shape (of points)\n",
    "- line type\n",
    "- size\n",
    "\n",
    "Each type of geom accepts only a subset of all aesthetics—refer to the geom help pages to see what mappings each geom accepts. Aesthetic mappings are set with the `aes()` function."
   ]
  },
  {
   "cell_type": "code",
   "execution_count": 17,
   "metadata": {
    "collapsed": false,
    "deletable": true,
    "editable": true,
    "jupyter": {
     "outputs_hidden": false
    }
   },
   "outputs": [
    {
     "data": {
      "image/png": "[encoded data removed]",
      "text/plain": [
       "<Figure size 640x480 with 1 Axes>"
      ]
     },
     "metadata": {},
     "output_type": "display_data"
    },
    {
     "data": {
      "text/plain": [
       "<ggplot: (8791823645832)>"
      ]
     },
     "execution_count": 17,
     "metadata": {},
     "output_type": "execute_result"
    }
   ],
   "source": [
    "vdf = pd.DataFrame()\n",
    "vdf['PC'] = [(i+1) for i,x in enumerate(sklearn_pca.explained_variance_ratio_)]\n",
    "vdf['var'] = sklearn_pca.explained_variance_ratio_\n",
    "\n",
    "(ggplot(vdf, aes(x='PC', y='var'))\n",
    "    + geom_point(size=5, alpha=0.3)\n",
    "    + ylab('Explained variance')\n",
    "    + ggtitle('Unfiltered -BCM')\n",
    ")"
   ]
  },
  {
   "cell_type": "code",
   "execution_count": 18,
   "metadata": {
    "collapsed": false,
    "deletable": true,
    "editable": true,
    "jupyter": {
     "outputs_hidden": false
    }
   },
   "outputs": [
    {
     "data": {
      "text/html": [
       "<div>\n",
       "<style scoped>\n",
       "    .dataframe tbody tr th:only-of-type {\n",
       "        vertical-align: middle;\n",
       "    }\n",
       "\n",
       "    .dataframe tbody tr th {\n",
       "        vertical-align: top;\n",
       "    }\n",
       "\n",
       "    .dataframe thead th {\n",
       "        text-align: right;\n",
       "    }\n",
       "</style>\n",
       "<table border=\"1\" class=\"dataframe\">\n",
       "  <thead>\n",
       "    <tr style=\"text-align: right;\">\n",
       "      <th></th>\n",
       "      <th>cond</th>\n",
       "      <th>PC1</th>\n",
       "      <th>PC2</th>\n",
       "    </tr>\n",
       "  </thead>\n",
       "  <tbody>\n",
       "    <tr>\n",
       "      <th>0</th>\n",
       "      <td>10oC</td>\n",
       "      <td>-18.418023</td>\n",
       "      <td>38.545576</td>\n",
       "    </tr>\n",
       "    <tr>\n",
       "      <th>1</th>\n",
       "      <td>44oC</td>\n",
       "      <td>-9.788748</td>\n",
       "      <td>-25.415001</td>\n",
       "    </tr>\n",
       "    <tr>\n",
       "      <th>2</th>\n",
       "      <td>51oC</td>\n",
       "      <td>35.425659</td>\n",
       "      <td>-0.456606</td>\n",
       "    </tr>\n",
       "    <tr>\n",
       "      <th>3</th>\n",
       "      <td>37oC</td>\n",
       "      <td>0.929415</td>\n",
       "      <td>-6.181645</td>\n",
       "    </tr>\n",
       "    <tr>\n",
       "      <th>4</th>\n",
       "      <td>10oC</td>\n",
       "      <td>-15.618302</td>\n",
       "      <td>32.701070</td>\n",
       "    </tr>\n",
       "    <tr>\n",
       "      <th>5</th>\n",
       "      <td>25oC</td>\n",
       "      <td>-7.998667</td>\n",
       "      <td>4.658008</td>\n",
       "    </tr>\n",
       "    <tr>\n",
       "      <th>6</th>\n",
       "      <td>25oC</td>\n",
       "      <td>-6.300806</td>\n",
       "      <td>3.739240</td>\n",
       "    </tr>\n",
       "    <tr>\n",
       "      <th>7</th>\n",
       "      <td>37oC</td>\n",
       "      <td>-16.377097</td>\n",
       "      <td>-14.205556</td>\n",
       "    </tr>\n",
       "    <tr>\n",
       "      <th>8</th>\n",
       "      <td>25oC</td>\n",
       "      <td>-8.530293</td>\n",
       "      <td>6.164390</td>\n",
       "    </tr>\n",
       "    <tr>\n",
       "      <th>9</th>\n",
       "      <td>37oC</td>\n",
       "      <td>-11.438467</td>\n",
       "      <td>-9.408411</td>\n",
       "    </tr>\n",
       "    <tr>\n",
       "      <th>10</th>\n",
       "      <td>51oC</td>\n",
       "      <td>44.881342</td>\n",
       "      <td>1.175606</td>\n",
       "    </tr>\n",
       "    <tr>\n",
       "      <th>11</th>\n",
       "      <td>44oC</td>\n",
       "      <td>-17.599976</td>\n",
       "      <td>-32.666790</td>\n",
       "    </tr>\n",
       "    <tr>\n",
       "      <th>12</th>\n",
       "      <td>10oC</td>\n",
       "      <td>-8.852871</td>\n",
       "      <td>26.686097</td>\n",
       "    </tr>\n",
       "    <tr>\n",
       "      <th>13</th>\n",
       "      <td>51oC</td>\n",
       "      <td>52.524099</td>\n",
       "      <td>0.768853</td>\n",
       "    </tr>\n",
       "    <tr>\n",
       "      <th>14</th>\n",
       "      <td>44oC</td>\n",
       "      <td>-12.837265</td>\n",
       "      <td>-26.104833</td>\n",
       "    </tr>\n",
       "  </tbody>\n",
       "</table>\n",
       "</div>"
      ],
      "text/plain": [
       "    cond        PC1        PC2\n",
       "0   10oC -18.418023  38.545576\n",
       "1   44oC  -9.788748 -25.415001\n",
       "2   51oC  35.425659  -0.456606\n",
       "3   37oC   0.929415  -6.181645\n",
       "4   10oC -15.618302  32.701070\n",
       "5   25oC  -7.998667   4.658008\n",
       "6   25oC  -6.300806   3.739240\n",
       "7   37oC -16.377097 -14.205556\n",
       "8   25oC  -8.530293   6.164390\n",
       "9   37oC -11.438467  -9.408411\n",
       "10  51oC  44.881342   1.175606\n",
       "11  44oC -17.599976 -32.666790\n",
       "12  10oC  -8.852871  26.686097\n",
       "13  51oC  52.524099   0.768853\n",
       "14  44oC -12.837265 -26.104833"
      ]
     },
     "execution_count": 18,
     "metadata": {},
     "output_type": "execute_result"
    }
   ],
   "source": [
    "pca_df = pd.DataFrame()\n",
    "pca_df['cond'] = ['%doC' % exp_df[exp_df['sample']==sample]['temp'] for sample in samples]\n",
    "pca_df['PC1'] = Y[:,0]\n",
    "pca_df['PC2'] = Y[:,1]\n",
    "\n",
    "pca_df"
   ]
  },
  {
   "cell_type": "code",
   "execution_count": 19,
   "metadata": {
    "collapsed": false,
    "deletable": true,
    "editable": true,
    "jupyter": {
     "outputs_hidden": false
    }
   },
   "outputs": [
    {
     "data": {
      "image/png": "[encoded data removed]",
      "text/plain": [
       "<Figure size 640x480 with 1 Axes>"
      ]
     },
     "metadata": {},
     "output_type": "display_data"
    },
    {
     "data": {
      "text/plain": [
       "<ggplot: (8791823731321)>"
      ]
     },
     "execution_count": 19,
     "metadata": {},
     "output_type": "execute_result"
    }
   ],
   "source": [
    "(ggplot(pca_df, aes(x='PC1', y='PC2', color='cond'))\n",
    "    + geom_point(size=5, alpha=0.3)\n",
    "    + ggtitle('Unfiltered -BCM')\n",
    ")"
   ]
  },
  {
   "cell_type": "markdown",
   "metadata": {
    "deletable": true,
    "editable": true,
    "jupyter": {
     "outputs_hidden": true
    }
   },
   "source": [
    "# Example 2: Single worm RNA-Seq"
   ]
  },
  {
   "cell_type": "markdown",
   "metadata": {
    "editable": true
   },
   "source": [
    "## Read in expression matrix\n",
    "\n",
    "mRNA-Seq from 10 individual C.elegans worms. Processed with CEL-Seq-pipeline (https://github.com/eco32i/CEL-Seq-pipeline)"
   ]
  },
  {
   "cell_type": "code",
   "execution_count": 3,
   "metadata": {
    "collapsed": false,
    "editable": true,
    "jupyter": {
     "outputs_hidden": false
    }
   },
   "outputs": [
    {
     "name": "stdout",
     "output_type": "stream",
     "text": [
      "#Sample:\tCE_1.genome\tCE_10.genome\tCE_2.genome\tCE_3.genome\tCE_4.genome\tCE_5.genome\tCE_6.genome\tCE_7.genome\tCE_8.genome\tCE_9.genome\n",
      "2L52.1\t0\t0\t1\t0\t0\t0\t1\t0\t0\t1\n",
      "2L52.2\t0\t0\t0\t0\t0\t0\t0\t0\t0\t0\n",
      "2RSSE.1\t0\t0\t0\t0\t0\t0\t0\t0\t0\t0\n",
      "2RSSE.2\t0\t0\t0\t0\t0\t0\t0\t0\t0\t0\n",
      "2RSSE.3\t0\t0\t0\t0\t0\t0\t0\t0\t0\t0\n",
      "2RSSE.4\t0\t0\t0\t0\t0\t0\t0\t0\t0\t0\n",
      "2RSSE.5\t0\t0\t0\t0\t0\t0\t0\t0\t0\t0\n",
      "2RSSE.6\t0\t0\t0\t0\t0\t0\t0\t0\t0\t0\n",
      "2RSSE.7\t0\t0\t0\t0\t0\t0\t0\t0\t0\t0\n"
     ]
    }
   ],
   "source": [
    "!head ../../data/CE_exp.umi.tab"
   ]
  },
  {
   "cell_type": "code",
   "execution_count": 4,
   "metadata": {
    "collapsed": false,
    "editable": true,
    "jupyter": {
     "outputs_hidden": false
    }
   },
   "outputs": [
    {
     "name": "stdout",
     "output_type": "stream",
     "text": [
      "cTel79B.1\t0\t0\t0\t0\t0\t0\t0\t0\t0\t0\n",
      "cTel79B.2\t0\t0\t0\t0\t0\t0\t0\t0\t0\t0\n",
      "cTel7X.1\t0\t0\t0\t0\t0\t0\t0\t0\t0\t0\n",
      "cTel7X.2\t0\t0\t0\t0\t0\t0\t0\t0\t0\t0\n",
      "cTel7X.3\t0\t0\t0\t0\t0\t0\t0\t0\t0\t0\n",
      "no_feature\t95783\t220207\t141693\t205679\t121649\t110638\t214017\t124854\t205614\t245706\n",
      "ambiguous\t12297\t28554\t18978\t27900\t15310\t15638\t28616\t16450\t28160\t36154\n",
      "too_low_aQual\t0\t0\t0\t0\t0\t0\t0\t0\t0\t0\n",
      "not_aligned\t0\t0\t0\t0\t0\t0\t0\t0\t0\t0\n",
      "alignment_not_unique\t0\t0\t0\t0\t0\t0\t0\t0\t0\t0\n"
     ]
    }
   ],
   "source": [
    "!tail ../../data/CE_exp.umi.tab"
   ]
  },
  {
   "cell_type": "markdown",
   "metadata": {
    "editable": true
   },
   "source": [
    "## Expression matrix contains read counts in genes. Columns are worms rows are genes."
   ]
  },
  {
   "cell_type": "code",
   "execution_count": 6,
   "metadata": {
    "collapsed": false,
    "editable": true,
    "jupyter": {
     "outputs_hidden": false
    }
   },
   "outputs": [
    {
     "data": {
      "text/html": [
       "<div>\n",
       "<style scoped>\n",
       "    .dataframe tbody tr th:only-of-type {\n",
       "        vertical-align: middle;\n",
       "    }\n",
       "\n",
       "    .dataframe tbody tr th {\n",
       "        vertical-align: top;\n",
       "    }\n",
       "\n",
       "    .dataframe thead th {\n",
       "        text-align: right;\n",
       "    }\n",
       "</style>\n",
       "<table border=\"1\" class=\"dataframe\">\n",
       "  <thead>\n",
       "    <tr style=\"text-align: right;\">\n",
       "      <th></th>\n",
       "      <th>#Sample:</th>\n",
       "      <th>CE_1.genome</th>\n",
       "      <th>CE_10.genome</th>\n",
       "      <th>CE_2.genome</th>\n",
       "      <th>CE_3.genome</th>\n",
       "      <th>CE_4.genome</th>\n",
       "      <th>CE_5.genome</th>\n",
       "      <th>CE_6.genome</th>\n",
       "      <th>CE_7.genome</th>\n",
       "      <th>CE_8.genome</th>\n",
       "      <th>CE_9.genome</th>\n",
       "    </tr>\n",
       "  </thead>\n",
       "  <tbody>\n",
       "    <tr>\n",
       "      <th>0</th>\n",
       "      <td>2L52.1</td>\n",
       "      <td>0</td>\n",
       "      <td>0</td>\n",
       "      <td>1</td>\n",
       "      <td>0</td>\n",
       "      <td>0</td>\n",
       "      <td>0</td>\n",
       "      <td>1</td>\n",
       "      <td>0</td>\n",
       "      <td>0</td>\n",
       "      <td>1</td>\n",
       "    </tr>\n",
       "    <tr>\n",
       "      <th>1</th>\n",
       "      <td>2L52.2</td>\n",
       "      <td>0</td>\n",
       "      <td>0</td>\n",
       "      <td>0</td>\n",
       "      <td>0</td>\n",
       "      <td>0</td>\n",
       "      <td>0</td>\n",
       "      <td>0</td>\n",
       "      <td>0</td>\n",
       "      <td>0</td>\n",
       "      <td>0</td>\n",
       "    </tr>\n",
       "    <tr>\n",
       "      <th>2</th>\n",
       "      <td>2RSSE.1</td>\n",
       "      <td>0</td>\n",
       "      <td>0</td>\n",
       "      <td>0</td>\n",
       "      <td>0</td>\n",
       "      <td>0</td>\n",
       "      <td>0</td>\n",
       "      <td>0</td>\n",
       "      <td>0</td>\n",
       "      <td>0</td>\n",
       "      <td>0</td>\n",
       "    </tr>\n",
       "    <tr>\n",
       "      <th>3</th>\n",
       "      <td>2RSSE.2</td>\n",
       "      <td>0</td>\n",
       "      <td>0</td>\n",
       "      <td>0</td>\n",
       "      <td>0</td>\n",
       "      <td>0</td>\n",
       "      <td>0</td>\n",
       "      <td>0</td>\n",
       "      <td>0</td>\n",
       "      <td>0</td>\n",
       "      <td>0</td>\n",
       "    </tr>\n",
       "    <tr>\n",
       "      <th>4</th>\n",
       "      <td>2RSSE.3</td>\n",
       "      <td>0</td>\n",
       "      <td>0</td>\n",
       "      <td>0</td>\n",
       "      <td>0</td>\n",
       "      <td>0</td>\n",
       "      <td>0</td>\n",
       "      <td>0</td>\n",
       "      <td>0</td>\n",
       "      <td>0</td>\n",
       "      <td>0</td>\n",
       "    </tr>\n",
       "    <tr>\n",
       "      <th>...</th>\n",
       "      <td>...</td>\n",
       "      <td>...</td>\n",
       "      <td>...</td>\n",
       "      <td>...</td>\n",
       "      <td>...</td>\n",
       "      <td>...</td>\n",
       "      <td>...</td>\n",
       "      <td>...</td>\n",
       "      <td>...</td>\n",
       "      <td>...</td>\n",
       "      <td>...</td>\n",
       "    </tr>\n",
       "    <tr>\n",
       "      <th>45456</th>\n",
       "      <td>cTel79B.1</td>\n",
       "      <td>0</td>\n",
       "      <td>0</td>\n",
       "      <td>0</td>\n",
       "      <td>0</td>\n",
       "      <td>0</td>\n",
       "      <td>0</td>\n",
       "      <td>0</td>\n",
       "      <td>0</td>\n",
       "      <td>0</td>\n",
       "      <td>0</td>\n",
       "    </tr>\n",
       "    <tr>\n",
       "      <th>45457</th>\n",
       "      <td>cTel79B.2</td>\n",
       "      <td>0</td>\n",
       "      <td>0</td>\n",
       "      <td>0</td>\n",
       "      <td>0</td>\n",
       "      <td>0</td>\n",
       "      <td>0</td>\n",
       "      <td>0</td>\n",
       "      <td>0</td>\n",
       "      <td>0</td>\n",
       "      <td>0</td>\n",
       "    </tr>\n",
       "    <tr>\n",
       "      <th>45458</th>\n",
       "      <td>cTel7X.1</td>\n",
       "      <td>0</td>\n",
       "      <td>0</td>\n",
       "      <td>0</td>\n",
       "      <td>0</td>\n",
       "      <td>0</td>\n",
       "      <td>0</td>\n",
       "      <td>0</td>\n",
       "      <td>0</td>\n",
       "      <td>0</td>\n",
       "      <td>0</td>\n",
       "    </tr>\n",
       "    <tr>\n",
       "      <th>45459</th>\n",
       "      <td>cTel7X.2</td>\n",
       "      <td>0</td>\n",
       "      <td>0</td>\n",
       "      <td>0</td>\n",
       "      <td>0</td>\n",
       "      <td>0</td>\n",
       "      <td>0</td>\n",
       "      <td>0</td>\n",
       "      <td>0</td>\n",
       "      <td>0</td>\n",
       "      <td>0</td>\n",
       "    </tr>\n",
       "    <tr>\n",
       "      <th>45460</th>\n",
       "      <td>cTel7X.3</td>\n",
       "      <td>0</td>\n",
       "      <td>0</td>\n",
       "      <td>0</td>\n",
       "      <td>0</td>\n",
       "      <td>0</td>\n",
       "      <td>0</td>\n",
       "      <td>0</td>\n",
       "      <td>0</td>\n",
       "      <td>0</td>\n",
       "      <td>0</td>\n",
       "    </tr>\n",
       "  </tbody>\n",
       "</table>\n",
       "<p>45461 rows × 11 columns</p>\n",
       "</div>"
      ],
      "text/plain": [
       "        #Sample:  CE_1.genome  CE_10.genome  CE_2.genome  CE_3.genome  \\\n",
       "0         2L52.1            0             0            1            0   \n",
       "1         2L52.2            0             0            0            0   \n",
       "2        2RSSE.1            0             0            0            0   \n",
       "3        2RSSE.2            0             0            0            0   \n",
       "4        2RSSE.3            0             0            0            0   \n",
       "...          ...          ...           ...          ...          ...   \n",
       "45456  cTel79B.1            0             0            0            0   \n",
       "45457  cTel79B.2            0             0            0            0   \n",
       "45458   cTel7X.1            0             0            0            0   \n",
       "45459   cTel7X.2            0             0            0            0   \n",
       "45460   cTel7X.3            0             0            0            0   \n",
       "\n",
       "       CE_4.genome  CE_5.genome  CE_6.genome  CE_7.genome  CE_8.genome  \\\n",
       "0                0            0            1            0            0   \n",
       "1                0            0            0            0            0   \n",
       "2                0            0            0            0            0   \n",
       "3                0            0            0            0            0   \n",
       "4                0            0            0            0            0   \n",
       "...            ...          ...          ...          ...          ...   \n",
       "45456            0            0            0            0            0   \n",
       "45457            0            0            0            0            0   \n",
       "45458            0            0            0            0            0   \n",
       "45459            0            0            0            0            0   \n",
       "45460            0            0            0            0            0   \n",
       "\n",
       "       CE_9.genome  \n",
       "0                1  \n",
       "1                0  \n",
       "2                0  \n",
       "3                0  \n",
       "4                0  \n",
       "...            ...  \n",
       "45456            0  \n",
       "45457            0  \n",
       "45458            0  \n",
       "45459            0  \n",
       "45460            0  \n",
       "\n",
       "[45461 rows x 11 columns]"
      ]
     },
     "execution_count": 6,
     "metadata": {},
     "output_type": "execute_result"
    }
   ],
   "source": [
    "ce = pd.read_csv('../../data/CE_exp.umi.tab', sep='\\t', skipfooter=5, engine='python')\n",
    "ce"
   ]
  },
  {
   "cell_type": "markdown",
   "metadata": {
    "editable": true
   },
   "source": [
    "PCA is sensitive to variable scaling. Therefore before performing the analysis we need to normalize the data. `StandardScaler` will transform every variable to unti space (mean 0, variance 1). Note also that `sklearn` expects columns to be genes (features) and rows to be worms (samples, or observations). Therefore we transpose the matrix before doing anything."
   ]
  },
  {
   "cell_type": "code",
   "execution_count": 8,
   "metadata": {
    "collapsed": false,
    "editable": true,
    "jupyter": {
     "outputs_hidden": false
    }
   },
   "outputs": [
    {
     "data": {
      "text/plain": [
       "array([[-0.65465367,  0.        ,  0.        , ...,  0.        ,\n",
       "         0.        ,  0.        ],\n",
       "       [-0.65465367,  0.        ,  0.        , ...,  0.        ,\n",
       "         0.        ,  0.        ],\n",
       "       [ 1.52752523,  0.        ,  0.        , ...,  0.        ,\n",
       "         0.        ,  0.        ],\n",
       "       ...,\n",
       "       [-0.65465367,  0.        ,  0.        , ...,  0.        ,\n",
       "         0.        ,  0.        ],\n",
       "       [-0.65465367,  0.        ,  0.        , ...,  0.        ,\n",
       "         0.        ,  0.        ],\n",
       "       [ 1.52752523,  0.        ,  0.        , ...,  0.        ,\n",
       "         0.        ,  0.        ]])"
      ]
     },
     "execution_count": 8,
     "metadata": {},
     "output_type": "execute_result"
    }
   ],
   "source": [
    "X_std = StandardScaler().fit_transform(ce.iloc[:,1:].values.T)\n",
    "X_std"
   ]
  },
  {
   "cell_type": "code",
   "execution_count": 9,
   "metadata": {
    "collapsed": false,
    "editable": true,
    "jupyter": {
     "outputs_hidden": false
    }
   },
   "outputs": [
    {
     "data": {
      "text/plain": [
       "array([[-1.07546376e+02,  4.63864340e+00, -8.96436965e+00,\n",
       "         1.74959571e+00, -5.84279506e+00, -3.64185213e+01,\n",
       "        -4.97689548e+01, -4.14305419e+01, -9.12143621e+00,\n",
       "         1.45741860e-13],\n",
       "       [ 7.77641744e+01, -8.29901734e+01, -2.03120362e+01,\n",
       "         6.66481269e+01,  5.10038587e+00, -8.95508016e+00,\n",
       "         3.46475822e+00, -1.66973996e+00, -7.01552270e-01,\n",
       "         1.45741860e-13],\n",
       "       [-3.36179150e+01,  9.16017706e+00,  1.63654260e+01,\n",
       "         2.03123487e+01,  4.29966650e+00,  7.75515474e+01,\n",
       "        -3.25176584e+01,  1.09572684e+01, -1.05471985e+01,\n",
       "         1.45741860e-13],\n",
       "       [ 3.76400268e+01, -1.24952448e+01, -2.99456479e+01,\n",
       "        -5.82751506e+01,  7.81762978e+01,  5.50576813e+00,\n",
       "         4.93608408e+00, -6.96783833e+00, -1.97547133e+00,\n",
       "         1.45741860e-13],\n",
       "       [-8.43712970e+01,  7.85590075e+00,  2.77664314e+00,\n",
       "         8.37739348e+00, -3.92919991e-01,  4.24752998e+00,\n",
       "         1.90791736e+01, -1.57587810e+00,  6.98659115e+01,\n",
       "         1.45741860e-13],\n",
       "       [-8.43210890e+01,  1.85271086e+01,  1.77668949e+01,\n",
       "         1.73906779e+01, -2.55728861e-01,  4.09465479e+00,\n",
       "         5.93272681e+01, -2.24907466e+01, -3.58779136e+01,\n",
       "         1.45741860e-13],\n",
       "       [ 7.42276449e+01, -2.42989805e+01,  9.47912540e+01,\n",
       "        -3.63997991e+01, -1.42317994e+01, -1.42164758e+01,\n",
       "        -4.62953882e+00,  1.05048650e+00,  2.07310201e+00,\n",
       "         1.45741860e-13],\n",
       "       [-8.12814638e+01,  3.42275602e+00, -1.19913537e+01,\n",
       "        -4.74455895e+00, -2.38797453e+00, -3.11294041e+01,\n",
       "        -3.56876769e+00,  6.79489740e+01, -1.45785413e+01,\n",
       "         1.45741860e-13],\n",
       "       [ 5.42756272e+01, -8.83970945e+00, -5.29276284e+01,\n",
       "        -4.93592923e+01, -6.96660877e+01,  1.60469460e+01,\n",
       "         8.35345972e+00, -6.21332461e+00, -2.11770771e+00,\n",
       "         1.45741860e-13],\n",
       "       [ 1.47230668e+02,  8.50195222e+01, -7.55918226e+00,\n",
       "         3.43006583e+01,  5.20095538e+00, -1.67269649e+01,\n",
       "        -4.67582402e+00,  3.91340607e-01,  2.98080745e+00,\n",
       "         1.45741860e-13]])"
      ]
     },
     "execution_count": 9,
     "metadata": {},
     "output_type": "execute_result"
    }
   ],
   "source": [
    "sklearn_pca = sklearnPCA(n_components=10)\n",
    "Y_sklearn = sklearn_pca.fit_transform(X_std)\n",
    "Y_sklearn"
   ]
  },
  {
   "cell_type": "markdown",
   "metadata": {
    "editable": true
   },
   "source": [
    "`Y_sklearn` is a `numpy` array of the shape `(num_samples, n_components)` where original `X` data is projected onto the number of extracted principal components"
   ]
  },
  {
   "cell_type": "markdown",
   "metadata": {
    "editable": true
   },
   "source": [
    "## Plot explained variance"
   ]
  },
  {
   "cell_type": "code",
   "execution_count": 10,
   "metadata": {
    "collapsed": false,
    "editable": true,
    "jupyter": {
     "outputs_hidden": false
    }
   },
   "outputs": [
    {
     "data": {
      "text/plain": [
       "array([7.90312448e+03, 1.71805668e+03, 1.55205884e+03, 1.50961846e+03,\n",
       "       1.25322810e+03, 1.02158996e+03, 8.42252045e+02, 7.83681394e+02,\n",
       "       7.33056716e+02, 2.36007665e-26])"
      ]
     },
     "execution_count": 10,
     "metadata": {},
     "output_type": "execute_result"
    }
   ],
   "source": [
    "sklearn_pca.explained_variance_"
   ]
  },
  {
   "cell_type": "code",
   "execution_count": 11,
   "metadata": {
    "collapsed": false,
    "editable": true,
    "jupyter": {
     "outputs_hidden": false
    }
   },
   "outputs": [
    {
     "data": {
      "text/plain": [
       "array([4.56388324e-01, 9.92140529e-02, 8.96280367e-02, 8.71771966e-02,\n",
       "       7.23712087e-02, 5.89946081e-02, 4.86382317e-02, 4.52559034e-02,\n",
       "       4.23324379e-02, 1.36289316e-30])"
      ]
     },
     "execution_count": 11,
     "metadata": {},
     "output_type": "execute_result"
    }
   ],
   "source": [
    "sklearn_pca.explained_variance_ratio_"
   ]
  },
  {
   "cell_type": "code",
   "execution_count": 14,
   "metadata": {
    "collapsed": false,
    "editable": true,
    "jupyter": {
     "outputs_hidden": false
    }
   },
   "outputs": [
    {
     "data": {
      "image/png": "[encoded data removed]",
      "text/plain": [
       "<Figure size 1200x1000 with 1 Axes>"
      ]
     },
     "metadata": {},
     "output_type": "display_data"
    },
    {
     "data": {
      "text/plain": [
       "<ggplot: (8785268428942)>"
      ]
     },
     "execution_count": 14,
     "metadata": {},
     "output_type": "execute_result"
    }
   ],
   "source": [
    "vdf = pd.DataFrame()\n",
    "vdf['PC'] = [(i+1) for i,x in enumerate(sklearn_pca.explained_variance_ratio_)]\n",
    "vdf['var'] = sklearn_pca.explained_variance_ratio_\n",
    "\n",
    "(ggplot(vdf, aes(x='PC', y='var'))\n",
    "    + geom_point(size=5, alpha=0.4)\n",
    "    + ylab('Explained variance')\n",
    "    + theme(figure_size=(12,10))\n",
    ")"
   ]
  },
  {
   "cell_type": "code",
   "execution_count": 16,
   "metadata": {
    "collapsed": false,
    "editable": true,
    "jupyter": {
     "outputs_hidden": false
    }
   },
   "outputs": [
    {
     "data": {
      "image/png": "[encoded data removed]",
      "text/plain": [
       "<Figure size 1200x1000 with 1 Axes>"
      ]
     },
     "metadata": {},
     "output_type": "display_data"
    },
    {
     "data": {
      "text/plain": [
       "<ggplot: (8785268248781)>"
      ]
     },
     "execution_count": 16,
     "metadata": {},
     "output_type": "execute_result"
    }
   ],
   "source": [
    "pca_df = pd.DataFrame()\n",
    "pca_df['sample'] = ['CE_%i' % (x+1) for x in range(10)]\n",
    "pca_df['PC1'] = Y_sklearn[:,0]\n",
    "pca_df['PC2'] = Y_sklearn[:,1]\n",
    "\n",
    "(ggplot(pca_df, aes(x='PC1', y='PC2', color='sample'))\n",
    "    + geom_point(size=5, alpha=0.5)\n",
    "    + theme(figure_size=(12,10))\n",
    ")"
   ]
  },
  {
   "cell_type": "code",
   "execution_count": 17,
   "metadata": {
    "collapsed": false,
    "editable": true,
    "jupyter": {
     "outputs_hidden": false
    }
   },
   "outputs": [
    {
     "data": {
      "image/png": "[encoded data removed]",
      "text/plain": [
       "<Figure size 1200x1000 with 1 Axes>"
      ]
     },
     "metadata": {},
     "output_type": "display_data"
    },
    {
     "data": {
      "text/plain": [
       "<ggplot: (8785243827336)>"
      ]
     },
     "execution_count": 17,
     "metadata": {},
     "output_type": "execute_result"
    }
   ],
   "source": [
    "pca_df = pd.DataFrame()\n",
    "pca_df['sample'] = ['CE_%i' % (x+1) for x in range(10)]\n",
    "pca_df['PC1'] = Y_sklearn[:,0]\n",
    "pca_df['PC3'] = Y_sklearn[:,2]\n",
    "\n",
    "(ggplot(pca_df, aes(x='PC1', y='PC3', color='sample'))\n",
    "    + geom_point(size=5, alpha=0.5)\n",
    "    + theme(figure_size=(12,10))\n",
    ")"
   ]
  },
  {
   "cell_type": "code",
   "execution_count": 18,
   "metadata": {
    "collapsed": false,
    "editable": true,
    "jupyter": {
     "outputs_hidden": false
    }
   },
   "outputs": [
    {
     "data": {
      "image/png": "[encoded data removed]",
      "text/plain": [
       "<Figure size 1200x1000 with 1 Axes>"
      ]
     },
     "metadata": {},
     "output_type": "display_data"
    },
    {
     "data": {
      "text/plain": [
       "<ggplot: (8785244068946)>"
      ]
     },
     "execution_count": 18,
     "metadata": {},
     "output_type": "execute_result"
    }
   ],
   "source": [
    "pca_df = pd.DataFrame()\n",
    "pca_df['sample'] = ['CE_%i' % (x+1) for x in range(10)]\n",
    "pca_df['PCA2'] = Y_sklearn[:,1]\n",
    "pca_df['PCA4'] = Y_sklearn[:,3]\n",
    "\n",
    "(ggplot(pca_df, aes(x='PCA2', y='PCA4', color='sample'))\n",
    "    + geom_point(size=5, alpha=0.5)\n",
    "    + theme(figure_size=(12,10))\n",
    ")"
   ]
  }
 ],
 "metadata": {
  "kernelspec": {
   "display_name": "Python 3",
   "language": "python",
   "name": "python3"
  },
  "language_info": {
   "codemirror_mode": {
    "name": "ipython",
    "version": 3
   },
   "file_extension": ".py",
   "mimetype": "text/x-python",
   "name": "python",
   "nbconvert_exporter": "python",
   "pygments_lexer": "ipython3",
   "version": "3.8.10"
  }
 },
 "nbformat": 4,
 "nbformat_minor": 4
}
