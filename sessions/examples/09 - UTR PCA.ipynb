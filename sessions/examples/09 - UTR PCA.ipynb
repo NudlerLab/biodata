{
 "cells": [
  {
   "cell_type": "code",
   "execution_count": 1,
   "metadata": {
    "deletable": true,
    "editable": true,
    "tags": []
   },
   "outputs": [],
   "source": [
    "%matplotlib inline"
   ]
  },
  {
   "cell_type": "code",
   "execution_count": 2,
   "metadata": {
    "deletable": true,
    "editable": true,
    "tags": []
   },
   "outputs": [],
   "source": [
    "import pandas as pd\n",
    "import numpy as np\n",
    "import csv\n",
    "from sklearn.preprocessing import StandardScaler\n",
    "from sklearn.decomposition import PCA as sklearnPCA\n",
    "from plotnine import *"
   ]
  },
  {
   "cell_type": "markdown",
   "metadata": {
    "deletable": true,
    "editable": true
   },
   "source": [
    "## Utility functions to parse experiment metadata"
   ]
  },
  {
   "cell_type": "code",
   "execution_count": 3,
   "metadata": {
    "deletable": true,
    "editable": true,
    "tags": []
   },
   "outputs": [],
   "source": [
    "def parse_barcodes(bcfile, bc_id='BC'):\n",
    "    res = {}\n",
    "    with open(bcfile, 'r') as fi:\n",
    "        for line in fi:\n",
    "            fields = line.strip().split(',')\n",
    "            if fields[0].startswith(bc_id):\n",
    "                res[fields[0]] = fields[1]\n",
    "    return res\n",
    "\n",
    "\n",
    "def parse_exp_config(expfile, bc_dict):\n",
    "    res = []\n",
    "    fieldnames = ['id', 'sample', 'cond', 'barcode', 'size', 'region', 'Qbit', 'conc', 'dilution']\n",
    "    with open(expfile) as fi:\n",
    "        reader = csv.DictReader(fi, fieldnames=fieldnames)\n",
    "        for rec in reader:\n",
    "            if rec['id']:\n",
    "                res.append({\n",
    "                    'sample': rec['sample'],\n",
    "                    'bc_id': rec['barcode'],\n",
    "                    'bc_seq': bc_dict[rec['barcode']],\n",
    "                    'temp': int(rec['cond'][:2]),\n",
    "                    'bcm': '+' in rec['cond'],\n",
    "                })\n",
    "    return pd.DataFrame.from_records(res)"
   ]
  },
  {
   "cell_type": "markdown",
   "metadata": {
    "deletable": true,
    "editable": true
   },
   "source": [
    "## Read the counts table\n",
    "\n",
    "This is bacterial mRNA-Seq with samples at 4 different temperatures with or without the addition of BCM. Each condition is sequenced in triplicates. And we are interested in `5'UTRs` transcription levels."
   ]
  },
  {
   "cell_type": "code",
   "execution_count": 7,
   "metadata": {
    "collapsed": false,
    "deletable": true,
    "editable": true,
    "jupyter": {
     "outputs_hidden": false
    }
   },
   "outputs": [
    {
     "data": {
      "text/html": [
       "<div>\n",
       "<style scoped>\n",
       "    .dataframe tbody tr th:only-of-type {\n",
       "        vertical-align: middle;\n",
       "    }\n",
       "\n",
       "    .dataframe tbody tr th {\n",
       "        vertical-align: top;\n",
       "    }\n",
       "\n",
       "    .dataframe thead th {\n",
       "        text-align: right;\n",
       "    }\n",
       "</style>\n",
       "<table border=\"1\" class=\"dataframe\">\n",
       "  <thead>\n",
       "    <tr style=\"text-align: right;\">\n",
       "      <th></th>\n",
       "      <th>Unnamed: 0</th>\n",
       "      <th>gene</th>\n",
       "      <th>TSS</th>\n",
       "      <th>end</th>\n",
       "      <th>start</th>\n",
       "      <th>UTR_length</th>\n",
       "      <th>utr_counts</th>\n",
       "      <th>sample</th>\n",
       "    </tr>\n",
       "  </thead>\n",
       "  <tbody>\n",
       "    <tr>\n",
       "      <th>0</th>\n",
       "      <td>0</td>\n",
       "      <td>C0343</td>\n",
       "      <td>2818676</td>\n",
       "      <td>2818728</td>\n",
       "      <td>2818676</td>\n",
       "      <td>52</td>\n",
       "      <td>4</td>\n",
       "      <td>utRho01</td>\n",
       "    </tr>\n",
       "    <tr>\n",
       "      <th>1</th>\n",
       "      <td>1</td>\n",
       "      <td>aaeB</td>\n",
       "      <td>6776526</td>\n",
       "      <td>6776526</td>\n",
       "      <td>6776376</td>\n",
       "      <td>150</td>\n",
       "      <td>20</td>\n",
       "      <td>utRho01</td>\n",
       "    </tr>\n",
       "    <tr>\n",
       "      <th>2</th>\n",
       "      <td>2</td>\n",
       "      <td>aaeR</td>\n",
       "      <td>6778762</td>\n",
       "      <td>6779040</td>\n",
       "      <td>6778762</td>\n",
       "      <td>278</td>\n",
       "      <td>136</td>\n",
       "      <td>utRho01</td>\n",
       "    </tr>\n",
       "    <tr>\n",
       "      <th>3</th>\n",
       "      <td>3</td>\n",
       "      <td>aaeX</td>\n",
       "      <td>6778860</td>\n",
       "      <td>6778860</td>\n",
       "      <td>6778674</td>\n",
       "      <td>186</td>\n",
       "      <td>170</td>\n",
       "      <td>utRho01</td>\n",
       "    </tr>\n",
       "    <tr>\n",
       "      <th>4</th>\n",
       "      <td>4</td>\n",
       "      <td>aat</td>\n",
       "      <td>1854920</td>\n",
       "      <td>1854920</td>\n",
       "      <td>1854864</td>\n",
       "      <td>56</td>\n",
       "      <td>32</td>\n",
       "      <td>utRho01</td>\n",
       "    </tr>\n",
       "    <tr>\n",
       "      <th>...</th>\n",
       "      <td>...</td>\n",
       "      <td>...</td>\n",
       "      <td>...</td>\n",
       "      <td>...</td>\n",
       "      <td>...</td>\n",
       "      <td>...</td>\n",
       "      <td>...</td>\n",
       "      <td>...</td>\n",
       "    </tr>\n",
       "    <tr>\n",
       "      <th>71575</th>\n",
       "      <td>2381</td>\n",
       "      <td>zraP</td>\n",
       "      <td>8403424</td>\n",
       "      <td>8403424</td>\n",
       "      <td>8403376</td>\n",
       "      <td>48</td>\n",
       "      <td>2</td>\n",
       "      <td>utRho30</td>\n",
       "    </tr>\n",
       "    <tr>\n",
       "      <th>71576</th>\n",
       "      <td>2382</td>\n",
       "      <td>zraS</td>\n",
       "      <td>8403810</td>\n",
       "      <td>8403852</td>\n",
       "      <td>8403810</td>\n",
       "      <td>42</td>\n",
       "      <td>82</td>\n",
       "      <td>utRho30</td>\n",
       "    </tr>\n",
       "    <tr>\n",
       "      <th>71577</th>\n",
       "      <td>2383</td>\n",
       "      <td>zupT</td>\n",
       "      <td>6364866</td>\n",
       "      <td>6365100</td>\n",
       "      <td>6364866</td>\n",
       "      <td>234</td>\n",
       "      <td>366</td>\n",
       "      <td>utRho30</td>\n",
       "    </tr>\n",
       "    <tr>\n",
       "      <th>71578</th>\n",
       "      <td>2384</td>\n",
       "      <td>zur</td>\n",
       "      <td>8520282</td>\n",
       "      <td>8520282</td>\n",
       "      <td>8520006</td>\n",
       "      <td>276</td>\n",
       "      <td>628</td>\n",
       "      <td>utRho30</td>\n",
       "    </tr>\n",
       "    <tr>\n",
       "      <th>71579</th>\n",
       "      <td>2385</td>\n",
       "      <td>zwf</td>\n",
       "      <td>3872752</td>\n",
       "      <td>3872752</td>\n",
       "      <td>3872628</td>\n",
       "      <td>124</td>\n",
       "      <td>70</td>\n",
       "      <td>utRho30</td>\n",
       "    </tr>\n",
       "  </tbody>\n",
       "</table>\n",
       "<p>71580 rows × 8 columns</p>\n",
       "</div>"
      ],
      "text/plain": [
       "       Unnamed: 0   gene      TSS      end    start  UTR_length  utr_counts  \\\n",
       "0               0  C0343  2818676  2818728  2818676          52           4   \n",
       "1               1   aaeB  6776526  6776526  6776376         150          20   \n",
       "2               2   aaeR  6778762  6779040  6778762         278         136   \n",
       "3               3   aaeX  6778860  6778860  6778674         186         170   \n",
       "4               4    aat  1854920  1854920  1854864          56          32   \n",
       "...           ...    ...      ...      ...      ...         ...         ...   \n",
       "71575        2381   zraP  8403424  8403424  8403376          48           2   \n",
       "71576        2382   zraS  8403810  8403852  8403810          42          82   \n",
       "71577        2383   zupT  6364866  6365100  6364866         234         366   \n",
       "71578        2384    zur  8520282  8520282  8520006         276         628   \n",
       "71579        2385    zwf  3872752  3872752  3872628         124          70   \n",
       "\n",
       "        sample  \n",
       "0      utRho01  \n",
       "1      utRho01  \n",
       "2      utRho01  \n",
       "3      utRho01  \n",
       "4      utRho01  \n",
       "...        ...  \n",
       "71575  utRho30  \n",
       "71576  utRho30  \n",
       "71577  utRho30  \n",
       "71578  utRho30  \n",
       "71579  utRho30  \n",
       "\n",
       "[71580 rows x 8 columns]"
      ]
     },
     "execution_count": 7,
     "metadata": {},
     "output_type": "execute_result"
    }
   ],
   "source": [
    "bc_dict = parse_barcodes('../../data/Lexogen_Sense_RNA-Seq.csv')\n",
    "exp_df = parse_exp_config('../../data/2017-03-09_NextSeq.csv', bc_dict)\n",
    "agg_utr = pd.read_csv('../../data/utr.counts.csv')\n",
    "agg_utr"
   ]
  },
  {
   "cell_type": "markdown",
   "metadata": {
    "deletable": true,
    "editable": true
   },
   "source": [
    "## Normalize to `UTR` length"
   ]
  },
  {
   "cell_type": "code",
   "execution_count": 8,
   "metadata": {
    "deletable": true,
    "editable": true,
    "tags": []
   },
   "outputs": [],
   "source": [
    "def normalize(df, edf, columns=None):\n",
    "    '''\n",
    "    Prepares the UTR dataframe (`df`) for log transformation.\n",
    "    \n",
    "    Adds experiment metadata from `edf`.\n",
    "    Adds pseudocounts to `utr_counts` and `UTR_length`.\n",
    "    Normalizes counts to UTR length.\n",
    "    '''\n",
    "    def pseudo_counts(x):\n",
    "        return x + 1 if x == 0 else x\n",
    "\n",
    "    df = df.merge(edf, how='left', on='sample')\n",
    "    if columns is not None:\n",
    "        df = df[columns]\n",
    "    # Add pseudocounts to allow log transform later\n",
    "    df['utr_counts'] = df['utr_counts'].apply(pseudo_counts)\n",
    "    df['UTR_length'] = df['UTR_length'].apply(pseudo_counts)\n",
    "    df['utr_norm'] = df['utr_counts'] / df['UTR_length']\n",
    "    return df"
   ]
  },
  {
   "cell_type": "code",
   "execution_count": 9,
   "metadata": {
    "collapsed": false,
    "deletable": true,
    "editable": true,
    "jupyter": {
     "outputs_hidden": false
    }
   },
   "outputs": [
    {
     "data": {
      "text/html": [
       "<div>\n",
       "<style scoped>\n",
       "    .dataframe tbody tr th:only-of-type {\n",
       "        vertical-align: middle;\n",
       "    }\n",
       "\n",
       "    .dataframe tbody tr th {\n",
       "        vertical-align: top;\n",
       "    }\n",
       "\n",
       "    .dataframe thead th {\n",
       "        text-align: right;\n",
       "    }\n",
       "</style>\n",
       "<table border=\"1\" class=\"dataframe\">\n",
       "  <thead>\n",
       "    <tr style=\"text-align: right;\">\n",
       "      <th></th>\n",
       "      <th>gene</th>\n",
       "      <th>TSS</th>\n",
       "      <th>start</th>\n",
       "      <th>end</th>\n",
       "      <th>UTR_length</th>\n",
       "      <th>utr_counts</th>\n",
       "      <th>sample</th>\n",
       "      <th>bcm</th>\n",
       "      <th>temp</th>\n",
       "      <th>utr_norm</th>\n",
       "    </tr>\n",
       "  </thead>\n",
       "  <tbody>\n",
       "    <tr>\n",
       "      <th>0</th>\n",
       "      <td>C0343</td>\n",
       "      <td>2818676</td>\n",
       "      <td>2818676</td>\n",
       "      <td>2818728</td>\n",
       "      <td>52</td>\n",
       "      <td>4</td>\n",
       "      <td>utRho01</td>\n",
       "      <td>False</td>\n",
       "      <td>10</td>\n",
       "      <td>0.076923</td>\n",
       "    </tr>\n",
       "    <tr>\n",
       "      <th>1</th>\n",
       "      <td>aaeB</td>\n",
       "      <td>6776526</td>\n",
       "      <td>6776376</td>\n",
       "      <td>6776526</td>\n",
       "      <td>150</td>\n",
       "      <td>20</td>\n",
       "      <td>utRho01</td>\n",
       "      <td>False</td>\n",
       "      <td>10</td>\n",
       "      <td>0.133333</td>\n",
       "    </tr>\n",
       "    <tr>\n",
       "      <th>2</th>\n",
       "      <td>aaeR</td>\n",
       "      <td>6778762</td>\n",
       "      <td>6778762</td>\n",
       "      <td>6779040</td>\n",
       "      <td>278</td>\n",
       "      <td>136</td>\n",
       "      <td>utRho01</td>\n",
       "      <td>False</td>\n",
       "      <td>10</td>\n",
       "      <td>0.489209</td>\n",
       "    </tr>\n",
       "    <tr>\n",
       "      <th>3</th>\n",
       "      <td>aaeX</td>\n",
       "      <td>6778860</td>\n",
       "      <td>6778674</td>\n",
       "      <td>6778860</td>\n",
       "      <td>186</td>\n",
       "      <td>170</td>\n",
       "      <td>utRho01</td>\n",
       "      <td>False</td>\n",
       "      <td>10</td>\n",
       "      <td>0.913978</td>\n",
       "    </tr>\n",
       "    <tr>\n",
       "      <th>4</th>\n",
       "      <td>aat</td>\n",
       "      <td>1854920</td>\n",
       "      <td>1854864</td>\n",
       "      <td>1854920</td>\n",
       "      <td>56</td>\n",
       "      <td>32</td>\n",
       "      <td>utRho01</td>\n",
       "      <td>False</td>\n",
       "      <td>10</td>\n",
       "      <td>0.571429</td>\n",
       "    </tr>\n",
       "    <tr>\n",
       "      <th>...</th>\n",
       "      <td>...</td>\n",
       "      <td>...</td>\n",
       "      <td>...</td>\n",
       "      <td>...</td>\n",
       "      <td>...</td>\n",
       "      <td>...</td>\n",
       "      <td>...</td>\n",
       "      <td>...</td>\n",
       "      <td>...</td>\n",
       "      <td>...</td>\n",
       "    </tr>\n",
       "    <tr>\n",
       "      <th>71575</th>\n",
       "      <td>zraP</td>\n",
       "      <td>8403424</td>\n",
       "      <td>8403376</td>\n",
       "      <td>8403424</td>\n",
       "      <td>48</td>\n",
       "      <td>2</td>\n",
       "      <td>utRho30</td>\n",
       "      <td>True</td>\n",
       "      <td>51</td>\n",
       "      <td>0.041667</td>\n",
       "    </tr>\n",
       "    <tr>\n",
       "      <th>71576</th>\n",
       "      <td>zraS</td>\n",
       "      <td>8403810</td>\n",
       "      <td>8403810</td>\n",
       "      <td>8403852</td>\n",
       "      <td>42</td>\n",
       "      <td>82</td>\n",
       "      <td>utRho30</td>\n",
       "      <td>True</td>\n",
       "      <td>51</td>\n",
       "      <td>1.952381</td>\n",
       "    </tr>\n",
       "    <tr>\n",
       "      <th>71577</th>\n",
       "      <td>zupT</td>\n",
       "      <td>6364866</td>\n",
       "      <td>6364866</td>\n",
       "      <td>6365100</td>\n",
       "      <td>234</td>\n",
       "      <td>366</td>\n",
       "      <td>utRho30</td>\n",
       "      <td>True</td>\n",
       "      <td>51</td>\n",
       "      <td>1.564103</td>\n",
       "    </tr>\n",
       "    <tr>\n",
       "      <th>71578</th>\n",
       "      <td>zur</td>\n",
       "      <td>8520282</td>\n",
       "      <td>8520006</td>\n",
       "      <td>8520282</td>\n",
       "      <td>276</td>\n",
       "      <td>628</td>\n",
       "      <td>utRho30</td>\n",
       "      <td>True</td>\n",
       "      <td>51</td>\n",
       "      <td>2.275362</td>\n",
       "    </tr>\n",
       "    <tr>\n",
       "      <th>71579</th>\n",
       "      <td>zwf</td>\n",
       "      <td>3872752</td>\n",
       "      <td>3872628</td>\n",
       "      <td>3872752</td>\n",
       "      <td>124</td>\n",
       "      <td>70</td>\n",
       "      <td>utRho30</td>\n",
       "      <td>True</td>\n",
       "      <td>51</td>\n",
       "      <td>0.564516</td>\n",
       "    </tr>\n",
       "  </tbody>\n",
       "</table>\n",
       "<p>71580 rows × 10 columns</p>\n",
       "</div>"
      ],
      "text/plain": [
       "        gene      TSS    start      end  UTR_length  utr_counts   sample  \\\n",
       "0      C0343  2818676  2818676  2818728          52           4  utRho01   \n",
       "1       aaeB  6776526  6776376  6776526         150          20  utRho01   \n",
       "2       aaeR  6778762  6778762  6779040         278         136  utRho01   \n",
       "3       aaeX  6778860  6778674  6778860         186         170  utRho01   \n",
       "4        aat  1854920  1854864  1854920          56          32  utRho01   \n",
       "...      ...      ...      ...      ...         ...         ...      ...   \n",
       "71575   zraP  8403424  8403376  8403424          48           2  utRho30   \n",
       "71576   zraS  8403810  8403810  8403852          42          82  utRho30   \n",
       "71577   zupT  6364866  6364866  6365100         234         366  utRho30   \n",
       "71578    zur  8520282  8520006  8520282         276         628  utRho30   \n",
       "71579    zwf  3872752  3872628  3872752         124          70  utRho30   \n",
       "\n",
       "         bcm  temp  utr_norm  \n",
       "0      False    10  0.076923  \n",
       "1      False    10  0.133333  \n",
       "2      False    10  0.489209  \n",
       "3      False    10  0.913978  \n",
       "4      False    10  0.571429  \n",
       "...      ...   ...       ...  \n",
       "71575   True    51  0.041667  \n",
       "71576   True    51  1.952381  \n",
       "71577   True    51  1.564103  \n",
       "71578   True    51  2.275362  \n",
       "71579   True    51  0.564516  \n",
       "\n",
       "[71580 rows x 10 columns]"
      ]
     },
     "execution_count": 9,
     "metadata": {},
     "output_type": "execute_result"
    }
   ],
   "source": [
    "columns = ['gene', 'TSS', 'start', 'end', 'UTR_length',\n",
    "               'utr_counts', 'sample', 'bcm', 'temp']\n",
    "utr = normalize(agg_utr, exp_df, columns)\n",
    "utr"
   ]
  },
  {
   "cell_type": "markdown",
   "metadata": {},
   "source": [
    "## Notation\n",
    "\n",
    "`X` : data (features)\n",
    "`Y` : predicted value"
   ]
  },
  {
   "cell_type": "markdown",
   "metadata": {
    "deletable": true,
    "editable": true
   },
   "source": [
    "## `-BCM` samples\n",
    "\n",
    "From `scikit-learn` docs:\n",
    "\n",
    "Standardize features by removing the mean and scaling to unit variance\n",
    "\n",
    "The standard score of a sample `x` is calculated as:\n",
    "\n",
    "`z = (x - u) / s`\n",
    "\n",
    "where `u` is the mean of the training samples or zero if `with_mean=False`, and `s` is the standard deviation of the training samples or one if `with_std=False`."
   ]
  },
  {
   "cell_type": "code",
   "execution_count": 12,
   "metadata": {
    "collapsed": false,
    "deletable": true,
    "editable": true,
    "jupyter": {
     "outputs_hidden": false
    }
   },
   "outputs": [
    {
     "data": {
      "text/plain": [
       "array([[-0.41182215, -0.35767468,  0.89567674, ..., -0.35521186,\n",
       "         1.25630607, -0.56361468],\n",
       "       [ 0.32677193, -0.2821096 , -1.55450278, ...,  0.5837574 ,\n",
       "        -0.35981582,  0.27105777],\n",
       "       [-0.41182215, -0.35767468, -0.451922  , ..., -0.38672089,\n",
       "        -1.10689103, -0.47508882],\n",
       "       ...,\n",
       "       [-0.41182215, -0.35767468,  1.67156692, ...,  0.52073933,\n",
       "         1.89284464, -0.26009743],\n",
       "       [-0.41182215, -0.35767468,  1.18153101, ..., -1.16499407,\n",
       "        -0.96586152, -0.60155434],\n",
       "       [ 1.18622686, -0.35767468,  0.77316776, ..., -0.02121608,\n",
       "         0.19667898,  0.59986813]])"
      ]
     },
     "execution_count": 12,
     "metadata": {},
     "output_type": "execute_result"
    }
   ],
   "source": [
    "# build expression matrix\n",
    "X = pd.DataFrame()\n",
    "samples = []\n",
    "\n",
    "for sample in set(utr['sample']):\n",
    "    mask = (utr['sample']==sample) & (utr['bcm']==False)\n",
    "    if not utr[mask].empty:\n",
    "        X[sample] = utr[mask]['utr_norm'].values\n",
    "        samples.append(sample)\n",
    "    \n",
    "# Same as .fit() and then .transform()\n",
    "X_std = StandardScaler().fit_transform(X.values.T)\n",
    "X_std"
   ]
  },
  {
   "cell_type": "markdown",
   "metadata": {},
   "source": [
    "## Principal Component Analisys (PCA)\n",
    "\n",
    "Linear dimensionality reduction using Singular Value Decomposition of the data to project it to a lower dimensional space. The input data is centered but not scaled for each feature before applying the `SVD`.\n",
    "\n",
    "The resulting components are ranked by the amount of variance explained in the data."
   ]
  },
  {
   "cell_type": "code",
   "execution_count": 14,
   "metadata": {
    "collapsed": false,
    "deletable": true,
    "editable": true,
    "jupyter": {
     "outputs_hidden": false
    },
    "scrolled": true
   },
   "outputs": [
    {
     "name": "stdout",
     "output_type": "stream",
     "text": [
      "[[-1.84180228e+01  3.85455760e+01  1.92714166e+01  6.26492351e+00\n",
      "   1.86267009e+00  5.30749058e+00 -6.67070495e+00  3.99260993e+00\n",
      "   2.66448186e+01  5.31618792e-01]\n",
      " [-9.78874751e+00 -2.54150007e+01  1.56823598e+01 -6.96971149e+00\n",
      "  -3.27985907e+00 -1.34188260e+01 -7.40965258e+00  3.12682974e+01\n",
      "  -2.03404727e+00 -3.63381541e+00]\n",
      " [ 3.54256587e+01 -4.56606239e-01 -6.99848301e+00 -1.99915608e+01\n",
      "  -1.59964938e+01  2.27071931e+01 -2.02312021e+01 -1.06909320e+00\n",
      "   1.76973752e-01 -1.75425170e+00]\n",
      " [ 9.29415499e-01 -6.18164499e+00 -1.72009951e+01 -3.90190886e+00\n",
      "  -5.49493463e-01 -7.52610254e-01  1.34938215e+00  2.20760005e+00\n",
      "  -1.01838153e-01  1.09447231e+01]\n",
      " [-1.56183019e+01  3.27010705e+01  1.57258209e+01  2.39271922e+00\n",
      "  -1.24396235e+00 -3.60139174e-02 -2.84315780e+00 -2.24028420e+00\n",
      "  -2.13476234e+01 -2.61147263e+00]\n",
      " [-7.99866732e+00  4.65800825e+00 -2.05751541e+01 -9.64108660e+00\n",
      "  -3.11100542e+00 -6.44702476e+00  1.26195813e+01 -2.70665691e+00\n",
      "   6.65875165e+00 -1.06594761e+01]\n",
      " [-6.30080559e+00  3.73924036e+00 -1.85311316e+01 -8.79861815e+00\n",
      "  -2.30236523e+00 -5.50160579e+00  9.13970912e+00 -1.75330517e+00\n",
      "   7.95371836e-01 -1.49936590e+00]\n",
      " [-1.63770971e+01 -1.42055558e+01 -1.94036942e+01  2.83652115e+01\n",
      "   7.34057762e+00  8.77246258e+00 -1.59174890e+01 -1.81838557e+00\n",
      "  -4.49529756e+00 -1.54266350e+01]\n",
      " [-8.53029322e+00  6.16438977e+00 -1.87802275e+01 -6.37857148e+00\n",
      "  -2.25020072e+00 -5.74290050e+00  1.07597623e+01 -6.26823183e-01\n",
      "   1.89630839e+00 -6.92440994e+00]\n",
      " [-1.14384673e+01 -9.40841117e+00 -1.90377592e+01  1.18198791e+01\n",
      "   3.46392884e+00  1.92667035e+00 -3.75850722e+00  2.00741120e+00\n",
      "   1.25170924e+00  2.48891244e+01]\n",
      " [ 4.48813417e+01  1.17560631e+00  6.25214231e+00 -3.13785712e+00\n",
      "   3.61479679e+01  4.86635758e+00  7.39432182e+00  3.59829611e+00\n",
      "  -6.60974656e-01 -1.67956375e+00]\n",
      " [-1.75999761e+01 -3.26667898e+01  2.62626684e+01  3.34977237e+00\n",
      "  -7.20226639e+00  2.31513457e+01  2.25837793e+01 -4.44320645e+00\n",
      "   3.02761258e-01 -1.86420082e-02]\n",
      " [-8.85287112e+00  2.66860968e+01  7.71628630e+00 -4.43763624e+00\n",
      "  -8.98042851e-01 -5.98833845e-01  2.39387886e+00 -7.29854305e-01\n",
      "  -1.43123719e+01  6.69087755e+00]\n",
      " [ 5.25240992e+01  7.68853451e-01  1.02664303e+01  2.31281590e+01\n",
      "  -1.92723192e+01 -1.62651057e+01  5.94072735e+00 -4.06960233e+00\n",
      "   1.86289169e+00  1.95025704e-01]\n",
      " [-1.28372652e+01 -2.61048327e+01  1.93503200e+01 -1.20637139e+01\n",
      "   7.29086404e+00 -1.79685991e+01 -1.53504285e+01 -2.36170034e+01\n",
      "   3.36256650e+00  9.56262920e-01]]\n",
      "[559.7394198  433.29728533 309.71766462 170.35646317 152.98738793\n",
      " 146.95347208 141.85873175 116.45420798 104.30987398  86.6416105 ]\n",
      "[0.22743729 0.17606043 0.12584668 0.06922045 0.06216292 0.05971118\n",
      " 0.05764105 0.0473185  0.04238393 0.03520483]\n"
     ]
    }
   ],
   "source": [
    "sklearn_pca = sklearnPCA(n_components=10)\n",
    "Y = sklearn_pca.fit_transform(X_std)\n",
    "print(Y)\n",
    "print(sklearn_pca.explained_variance_)\n",
    "print(sklearn_pca.explained_variance_ratio_)"
   ]
  },
  {
   "cell_type": "markdown",
   "metadata": {},
   "source": [
    "## Aside: `ggplot` terminology\n",
    "\n",
    "from: https://beanumber.github.io/sds192/lab-ggplot2.html\n",
    "\n",
    "### Geometric Objects (geom)\n",
    "\n",
    "Geometric objects or geoms are the actual marks we put on a plot. Examples include:\n",
    "\n",
    "- points (`geom_point`, for scatter plots, dot plots, etc)\n",
    "- lines (`geom_line`, for time series, trend lines, etc)\n",
    "- boxplot (`geom_boxplot`, for, well, boxplots!)\n",
    "- … and many more!\n",
    "\n",
    "A plot should have at least one geom, but there is no upper limit. You can add a geom to a plot using the + operator.\n",
    "\n",
    "### Aesthetic Mapping (aes)\n",
    "\n",
    "In `ggplot2`, aesthetic means “something you can see”. Each aesthetic is a mapping between a visual cue and a variable. Examples include:\n",
    "\n",
    "- position (i.e., on the x and y axes)\n",
    "- color (“outside” color)\n",
    "- fill (“inside” color)\n",
    "- shape (of points)\n",
    "- line type\n",
    "- size\n",
    "\n",
    "Each type of geom accepts only a subset of all aesthetics—refer to the geom help pages to see what mappings each geom accepts. Aesthetic mappings are set with the `aes()` function."
   ]
  },
  {
   "cell_type": "code",
   "execution_count": 17,
   "metadata": {
    "collapsed": false,
    "deletable": true,
    "editable": true,
    "jupyter": {
     "outputs_hidden": false
    }
   },
   "outputs": [
    {
     "data": {
      "image/png": "[encoded data removed]",
      "text/plain": [
       "<Figure size 640x480 with 1 Axes>"
      ]
     },
     "metadata": {},
     "output_type": "display_data"
    },
    {
     "data": {
      "text/plain": [
       "<ggplot: (8791823645832)>"
      ]
     },
     "execution_count": 17,
     "metadata": {},
     "output_type": "execute_result"
    }
   ],
   "source": [
    "vdf = pd.DataFrame()\n",
    "vdf['PC'] = [(i+1) for i,x in enumerate(sklearn_pca.explained_variance_ratio_)]\n",
    "vdf['var'] = sklearn_pca.explained_variance_ratio_\n",
    "\n",
    "(ggplot(vdf, aes(x='PC', y='var'))\n",
    "    + geom_point(size=5, alpha=0.3)\n",
    "    + ylab('Explained variance')\n",
    "    + ggtitle('Unfiltered -BCM')\n",
    ")"
   ]
  },
  {
   "cell_type": "code",
   "execution_count": 18,
   "metadata": {
    "collapsed": false,
    "deletable": true,
    "editable": true,
    "jupyter": {
     "outputs_hidden": false
    }
   },
   "outputs": [
    {
     "data": {
      "text/html": [
       "<div>\n",
       "<style scoped>\n",
       "    .dataframe tbody tr th:only-of-type {\n",
       "        vertical-align: middle;\n",
       "    }\n",
       "\n",
       "    .dataframe tbody tr th {\n",
       "        vertical-align: top;\n",
       "    }\n",
       "\n",
       "    .dataframe thead th {\n",
       "        text-align: right;\n",
       "    }\n",
       "</style>\n",
       "<table border=\"1\" class=\"dataframe\">\n",
       "  <thead>\n",
       "    <tr style=\"text-align: right;\">\n",
       "      <th></th>\n",
       "      <th>cond</th>\n",
       "      <th>PC1</th>\n",
       "      <th>PC2</th>\n",
       "    </tr>\n",
       "  </thead>\n",
       "  <tbody>\n",
       "    <tr>\n",
       "      <th>0</th>\n",
       "      <td>10oC</td>\n",
       "      <td>-18.418023</td>\n",
       "      <td>38.545576</td>\n",
       "    </tr>\n",
       "    <tr>\n",
       "      <th>1</th>\n",
       "      <td>44oC</td>\n",
       "      <td>-9.788748</td>\n",
       "      <td>-25.415001</td>\n",
       "    </tr>\n",
       "    <tr>\n",
       "      <th>2</th>\n",
       "      <td>51oC</td>\n",
       "      <td>35.425659</td>\n",
       "      <td>-0.456606</td>\n",
       "    </tr>\n",
       "    <tr>\n",
       "      <th>3</th>\n",
       "      <td>37oC</td>\n",
       "      <td>0.929415</td>\n",
       "      <td>-6.181645</td>\n",
       "    </tr>\n",
       "    <tr>\n",
       "      <th>4</th>\n",
       "      <td>10oC</td>\n",
       "      <td>-15.618302</td>\n",
       "      <td>32.701070</td>\n",
       "    </tr>\n",
       "    <tr>\n",
       "      <th>5</th>\n",
       "      <td>25oC</td>\n",
       "      <td>-7.998667</td>\n",
       "      <td>4.658008</td>\n",
       "    </tr>\n",
       "    <tr>\n",
       "      <th>6</th>\n",
       "      <td>25oC</td>\n",
       "      <td>-6.300806</td>\n",
       "      <td>3.739240</td>\n",
       "    </tr>\n",
       "    <tr>\n",
       "      <th>7</th>\n",
       "      <td>37oC</td>\n",
       "      <td>-16.377097</td>\n",
       "      <td>-14.205556</td>\n",
       "    </tr>\n",
       "    <tr>\n",
       "      <th>8</th>\n",
       "      <td>25oC</td>\n",
       "      <td>-8.530293</td>\n",
       "      <td>6.164390</td>\n",
       "    </tr>\n",
       "    <tr>\n",
       "      <th>9</th>\n",
       "      <td>37oC</td>\n",
       "      <td>-11.438467</td>\n",
       "      <td>-9.408411</td>\n",
       "    </tr>\n",
       "    <tr>\n",
       "      <th>10</th>\n",
       "      <td>51oC</td>\n",
       "      <td>44.881342</td>\n",
       "      <td>1.175606</td>\n",
       "    </tr>\n",
       "    <tr>\n",
       "      <th>11</th>\n",
       "      <td>44oC</td>\n",
       "      <td>-17.599976</td>\n",
       "      <td>-32.666790</td>\n",
       "    </tr>\n",
       "    <tr>\n",
       "      <th>12</th>\n",
       "      <td>10oC</td>\n",
       "      <td>-8.852871</td>\n",
       "      <td>26.686097</td>\n",
       "    </tr>\n",
       "    <tr>\n",
       "      <th>13</th>\n",
       "      <td>51oC</td>\n",
       "      <td>52.524099</td>\n",
       "      <td>0.768853</td>\n",
       "    </tr>\n",
       "    <tr>\n",
       "      <th>14</th>\n",
       "      <td>44oC</td>\n",
       "      <td>-12.837265</td>\n",
       "      <td>-26.104833</td>\n",
       "    </tr>\n",
       "  </tbody>\n",
       "</table>\n",
       "</div>"
      ],
      "text/plain": [
       "    cond        PC1        PC2\n",
       "0   10oC -18.418023  38.545576\n",
       "1   44oC  -9.788748 -25.415001\n",
       "2   51oC  35.425659  -0.456606\n",
       "3   37oC   0.929415  -6.181645\n",
       "4   10oC -15.618302  32.701070\n",
       "5   25oC  -7.998667   4.658008\n",
       "6   25oC  -6.300806   3.739240\n",
       "7   37oC -16.377097 -14.205556\n",
       "8   25oC  -8.530293   6.164390\n",
       "9   37oC -11.438467  -9.408411\n",
       "10  51oC  44.881342   1.175606\n",
       "11  44oC -17.599976 -32.666790\n",
       "12  10oC  -8.852871  26.686097\n",
       "13  51oC  52.524099   0.768853\n",
       "14  44oC -12.837265 -26.104833"
      ]
     },
     "execution_count": 18,
     "metadata": {},
     "output_type": "execute_result"
    }
   ],
   "source": [
    "pca_df = pd.DataFrame()\n",
    "pca_df['cond'] = ['%doC' % exp_df[exp_df['sample']==sample]['temp'] for sample in samples]\n",
    "pca_df['PC1'] = Y[:,0]\n",
    "pca_df['PC2'] = Y[:,1]\n",
    "\n",
    "pca_df"
   ]
  },
  {
   "cell_type": "code",
   "execution_count": 19,
   "metadata": {
    "collapsed": false,
    "deletable": true,
    "editable": true,
    "jupyter": {
     "outputs_hidden": false
    }
   },
   "outputs": [
    {
     "data": {
      "image/png": "[encoded data removed]",
      "text/plain": [
       "<Figure size 640x480 with 1 Axes>"
      ]
     },
     "metadata": {},
     "output_type": "display_data"
    },
    {
     "data": {
      "text/plain": [
       "<ggplot: (8791823731321)>"
      ]
     },
     "execution_count": 19,
     "metadata": {},
     "output_type": "execute_result"
    }
   ],
   "source": [
    "(ggplot(pca_df, aes(x='PC1', y='PC2', color='cond'))\n",
    "    + geom_point(size=5, alpha=0.3)\n",
    "    + ggtitle('Unfiltered -BCM')\n",
    ")"
   ]
  },
  {
   "cell_type": "markdown",
   "metadata": {
    "deletable": true,
    "editable": true
   },
   "source": [
    "## `+BCM` samples"
   ]
  },
  {
   "cell_type": "code",
   "execution_count": 20,
   "metadata": {
    "collapsed": false,
    "deletable": true,
    "editable": true,
    "jupyter": {
     "outputs_hidden": false
    }
   },
   "outputs": [
    {
     "data": {
      "text/plain": [
       "array([[-0.52008826,  1.17547922,  1.15653883, ...,  0.62746817,\n",
       "        -0.34979294,  0.22119731],\n",
       "       [-0.52008826, -0.15449156,  0.23438162, ..., -0.93971649,\n",
       "        -0.26849422, -0.32827371],\n",
       "       [-0.52008826, -1.01091213, -1.23792619, ..., -0.93258482,\n",
       "         0.76962785,  0.0732628 ],\n",
       "       ...,\n",
       "       [-0.52008826,  1.09487493,  0.30249551, ...,  0.21561418,\n",
       "         0.24118619,  0.28459781],\n",
       "       [-0.52008826,  1.43744317, -0.93927301, ..., -0.9914211 ,\n",
       "        -0.4373454 , -1.05737949],\n",
       "       [-0.52008826, -1.01091213, -0.61442217, ...,  1.67582378,\n",
       "        -0.78130151, -0.85661123]])"
      ]
     },
     "execution_count": 20,
     "metadata": {},
     "output_type": "execute_result"
    }
   ],
   "source": [
    "# build expression matrix\n",
    "\n",
    "X = pd.DataFrame()\n",
    "samples = []\n",
    "\n",
    "for sample in set(utr['sample']):\n",
    "    mask = (utr['sample']==sample) & (utr['bcm']==True)\n",
    "    if not utr[mask].empty:\n",
    "        X[sample] = utr[mask]['utr_norm'].values\n",
    "        samples.append(sample)\n",
    "    \n",
    "X_std = StandardScaler().fit_transform(X.values.T)\n",
    "X_std"
   ]
  },
  {
   "cell_type": "code",
   "execution_count": 21,
   "metadata": {
    "collapsed": false,
    "deletable": true,
    "editable": true,
    "jupyter": {
     "outputs_hidden": false
    }
   },
   "outputs": [
    {
     "name": "stdout",
     "output_type": "stream",
     "text": [
      "[[ 4.74180259e+01 -9.08036850e+00 -1.62634715e+01  1.35681210e-01\n",
      "  -1.45628099e+00 -1.26294188e+00  2.74038292e+01 -1.12232518e+00\n",
      "  -1.08444851e+01 -4.02323791e+00]\n",
      " [ 2.05065646e+01  5.18780897e+01  1.48239121e+01  1.99096312e+01\n",
      "   1.78205917e+01 -2.77971883e+00  2.25903297e+00 -5.77262475e+00\n",
      "   3.36518392e+00  1.42890617e+00]\n",
      " [-3.37130881e+01  1.45851207e+00 -1.50862874e+01 -7.44624740e+00\n",
      "   4.59009537e+00 -3.41488872e+00 -1.13385653e+00  2.40747633e-01\n",
      "   1.22180934e+00 -2.05261769e+00]\n",
      " [-8.78856974e+00 -1.96462669e+01  1.04786501e+01  2.71477743e+01\n",
      "  -1.13018073e+01 -2.54687602e-01 -1.70625294e+00  8.31674727e-01\n",
      "   5.79318851e+00 -2.08666240e+01]\n",
      " [ 5.29157260e+01 -1.04140908e+01 -1.44177855e+01  1.46101195e+00\n",
      "   8.09263992e+00  5.08741562e+00 -2.46875550e+01  2.22325112e+00\n",
      "  -1.18849767e+01 -2.91030154e+00]\n",
      " [-3.57625874e+01 -4.95493660e+00 -1.79735303e+01 -6.98976532e-01\n",
      "   2.07800007e+01 -2.81147455e+00  1.15278649e+00 -3.43364181e+00\n",
      "   4.53323771e+00 -3.65106073e+00]\n",
      " [ 3.96839817e+01 -6.48702588e+00 -1.33659410e+01 -2.54137225e+00\n",
      "  -8.57790929e+00  1.31991483e+00 -1.00540944e+00  1.14373662e+00\n",
      "   2.65532381e+01  9.11077593e+00]\n",
      " [ 7.85176166e+00 -1.19658145e+01  1.62812788e+01 -1.26490068e+01\n",
      "  -7.75591539e+00 -2.13983233e+01 -4.85400865e+00 -2.21908282e+01\n",
      "  -3.04025964e+00  2.76640785e+00]\n",
      " [-2.47509806e+01 -9.52081998e+00  6.06360934e-01  9.91147698e+00\n",
      "  -8.49525176e+00  4.19711051e+00 -9.18443433e-01  2.10811422e-01\n",
      "  -2.75447540e+00  1.89707697e+00]\n",
      " [-1.49913955e+00 -1.14836795e+01  2.25292058e+01 -1.89403268e+01\n",
      "   7.10782450e+00  2.68500257e+01  3.60198207e+00 -9.36635082e+00\n",
      "   1.97976650e+00 -2.66883480e+00]\n",
      " [-3.41735772e+01  3.26795451e+00 -1.49952207e+01 -8.82829573e+00\n",
      "   2.14583285e+00 -3.31467391e+00  2.15015872e-02 -2.94061093e-01\n",
      "  -1.29858919e-01 -2.31296945e+00]\n",
      " [-7.37895274e+00  3.14524814e+01 -1.53248587e+00 -8.45269632e+00\n",
      "  -1.62903287e+01  2.86310145e+00 -2.97026252e+00  5.89293771e+00\n",
      "  -3.31983300e+00  1.32239116e+00]\n",
      " [ 7.12197320e+00 -1.53701758e+01  2.50897415e+01 -1.24911798e+01\n",
      "   1.03378225e+01 -1.22931627e+01  2.09553576e+00  2.46703191e+01\n",
      "   9.55383614e-01  3.65992534e-01]\n",
      " [-8.22252517e+00  3.07492327e+01  6.82653705e-02 -7.81845317e+00\n",
      "  -1.58126013e+01  2.91932101e+00 -8.55182776e-01  5.55095481e+00\n",
      "  -5.08618231e+00 -1.68767722e+00]\n",
      " [-2.12086124e+01 -1.98830920e+01  3.75730772e+00  2.13009791e+01\n",
      "  -1.18471279e+00  4.29298238e+00  1.59630324e+00  1.41539866e+00\n",
      "  -7.34173664e+00  2.32817727e+01]]\n",
      "[857.39881145 448.55094507 226.78934978 188.2277766  132.17931627\n",
      " 103.59020032 101.85414823  93.55953134  81.66639932  80.94000528]\n",
      "[0.34256802 0.17921556 0.09061218 0.07520516 0.05281137 0.04138878\n",
      " 0.04069515 0.03738109 0.03262927 0.03233904]\n"
     ]
    }
   ],
   "source": [
    "sklearn_pca = sklearnPCA(n_components=10)\n",
    "Y = sklearn_pca.fit_transform(X_std)\n",
    "\n",
    "print(Y)\n",
    "print(sklearn_pca.explained_variance_)\n",
    "print(sklearn_pca.explained_variance_ratio_)"
   ]
  },
  {
   "cell_type": "code",
   "execution_count": 23,
   "metadata": {
    "collapsed": false,
    "deletable": true,
    "editable": true,
    "jupyter": {
     "outputs_hidden": false
    }
   },
   "outputs": [
    {
     "data": {
      "image/png": "[encoded data removed]",
      "text/plain": [
       "<Figure size 640x480 with 1 Axes>"
      ]
     },
     "metadata": {},
     "output_type": "display_data"
    },
    {
     "data": {
      "text/plain": [
       "<ggplot: (8791823593741)>"
      ]
     },
     "execution_count": 23,
     "metadata": {},
     "output_type": "execute_result"
    }
   ],
   "source": [
    "vdf = pd.DataFrame()\n",
    "vdf['PC'] = [(i+1) for i,x in enumerate(sklearn_pca.explained_variance_ratio_)]\n",
    "vdf['var'] = sklearn_pca.explained_variance_ratio_\n",
    "\n",
    "(ggplot(vdf, aes(x='PC', y='var'))\n",
    "    + geom_point(size=5, alpha=0.3)\n",
    "    + ylab('Explained variance')\n",
    "    + ggtitle('Unfiltered +BCM')\n",
    ")"
   ]
  },
  {
   "cell_type": "code",
   "execution_count": 24,
   "metadata": {
    "collapsed": false,
    "deletable": true,
    "editable": true,
    "jupyter": {
     "outputs_hidden": false
    }
   },
   "outputs": [
    {
     "data": {
      "text/html": [
       "<div>\n",
       "<style scoped>\n",
       "    .dataframe tbody tr th:only-of-type {\n",
       "        vertical-align: middle;\n",
       "    }\n",
       "\n",
       "    .dataframe tbody tr th {\n",
       "        vertical-align: top;\n",
       "    }\n",
       "\n",
       "    .dataframe thead th {\n",
       "        text-align: right;\n",
       "    }\n",
       "</style>\n",
       "<table border=\"1\" class=\"dataframe\">\n",
       "  <thead>\n",
       "    <tr style=\"text-align: right;\">\n",
       "      <th></th>\n",
       "      <th>cond</th>\n",
       "      <th>PC1</th>\n",
       "      <th>PC2</th>\n",
       "    </tr>\n",
       "  </thead>\n",
       "  <tbody>\n",
       "    <tr>\n",
       "      <th>0</th>\n",
       "      <td>44oC</td>\n",
       "      <td>47.418026</td>\n",
       "      <td>-9.080368</td>\n",
       "    </tr>\n",
       "    <tr>\n",
       "      <th>1</th>\n",
       "      <td>51oC</td>\n",
       "      <td>20.506565</td>\n",
       "      <td>51.878090</td>\n",
       "    </tr>\n",
       "    <tr>\n",
       "      <th>2</th>\n",
       "      <td>10oC</td>\n",
       "      <td>-33.713088</td>\n",
       "      <td>1.458512</td>\n",
       "    </tr>\n",
       "    <tr>\n",
       "      <th>3</th>\n",
       "      <td>25oC</td>\n",
       "      <td>-8.788570</td>\n",
       "      <td>-19.646267</td>\n",
       "    </tr>\n",
       "    <tr>\n",
       "      <th>4</th>\n",
       "      <td>44oC</td>\n",
       "      <td>52.915726</td>\n",
       "      <td>-10.414091</td>\n",
       "    </tr>\n",
       "    <tr>\n",
       "      <th>5</th>\n",
       "      <td>10oC</td>\n",
       "      <td>-35.762587</td>\n",
       "      <td>-4.954937</td>\n",
       "    </tr>\n",
       "    <tr>\n",
       "      <th>6</th>\n",
       "      <td>44oC</td>\n",
       "      <td>39.683982</td>\n",
       "      <td>-6.487026</td>\n",
       "    </tr>\n",
       "    <tr>\n",
       "      <th>7</th>\n",
       "      <td>37oC</td>\n",
       "      <td>7.851762</td>\n",
       "      <td>-11.965814</td>\n",
       "    </tr>\n",
       "    <tr>\n",
       "      <th>8</th>\n",
       "      <td>25oC</td>\n",
       "      <td>-24.750981</td>\n",
       "      <td>-9.520820</td>\n",
       "    </tr>\n",
       "    <tr>\n",
       "      <th>9</th>\n",
       "      <td>37oC</td>\n",
       "      <td>-1.499140</td>\n",
       "      <td>-11.483680</td>\n",
       "    </tr>\n",
       "    <tr>\n",
       "      <th>10</th>\n",
       "      <td>10oC</td>\n",
       "      <td>-34.173577</td>\n",
       "      <td>3.267955</td>\n",
       "    </tr>\n",
       "    <tr>\n",
       "      <th>11</th>\n",
       "      <td>51oC</td>\n",
       "      <td>-7.378953</td>\n",
       "      <td>31.452481</td>\n",
       "    </tr>\n",
       "    <tr>\n",
       "      <th>12</th>\n",
       "      <td>37oC</td>\n",
       "      <td>7.121973</td>\n",
       "      <td>-15.370176</td>\n",
       "    </tr>\n",
       "    <tr>\n",
       "      <th>13</th>\n",
       "      <td>51oC</td>\n",
       "      <td>-8.222525</td>\n",
       "      <td>30.749233</td>\n",
       "    </tr>\n",
       "    <tr>\n",
       "      <th>14</th>\n",
       "      <td>25oC</td>\n",
       "      <td>-21.208612</td>\n",
       "      <td>-19.883092</td>\n",
       "    </tr>\n",
       "  </tbody>\n",
       "</table>\n",
       "</div>"
      ],
      "text/plain": [
       "    cond        PC1        PC2\n",
       "0   44oC  47.418026  -9.080368\n",
       "1   51oC  20.506565  51.878090\n",
       "2   10oC -33.713088   1.458512\n",
       "3   25oC  -8.788570 -19.646267\n",
       "4   44oC  52.915726 -10.414091\n",
       "5   10oC -35.762587  -4.954937\n",
       "6   44oC  39.683982  -6.487026\n",
       "7   37oC   7.851762 -11.965814\n",
       "8   25oC -24.750981  -9.520820\n",
       "9   37oC  -1.499140 -11.483680\n",
       "10  10oC -34.173577   3.267955\n",
       "11  51oC  -7.378953  31.452481\n",
       "12  37oC   7.121973 -15.370176\n",
       "13  51oC  -8.222525  30.749233\n",
       "14  25oC -21.208612 -19.883092"
      ]
     },
     "execution_count": 24,
     "metadata": {},
     "output_type": "execute_result"
    }
   ],
   "source": [
    "pca_df = pd.DataFrame()\n",
    "pca_df['cond'] = ['%doC' % exp_df[exp_df['sample']==sample]['temp'] for sample in samples]\n",
    "pca_df['PC1'] = Y[:,0]\n",
    "pca_df['PC2'] = Y[:,1]\n",
    "\n",
    "pca_df"
   ]
  },
  {
   "cell_type": "code",
   "execution_count": 26,
   "metadata": {
    "collapsed": false,
    "deletable": true,
    "editable": true,
    "jupyter": {
     "outputs_hidden": false
    }
   },
   "outputs": [
    {
     "data": {
      "image/png": "[encoded data removed]",
      "text/plain": [
       "<Figure size 640x480 with 1 Axes>"
      ]
     },
     "metadata": {},
     "output_type": "display_data"
    },
    {
     "data": {
      "text/plain": [
       "<ggplot: (8791823666014)>"
      ]
     },
     "execution_count": 26,
     "metadata": {},
     "output_type": "execute_result"
    }
   ],
   "source": [
    "(ggplot(pca_df, aes(x='PC1', y='PC2', color='cond'))\n",
    "    + geom_point(size=5, alpha=0.3)\n",
    "    + ggtitle('Unfiltered +BCM')\n",
    ")"
   ]
  },
  {
   "cell_type": "code",
   "execution_count": null,
   "metadata": {
    "collapsed": true,
    "deletable": true,
    "editable": true,
    "jupyter": {
     "outputs_hidden": true
    }
   },
   "outputs": [],
   "source": []
  }
 ],
 "metadata": {
  "kernelspec": {
   "display_name": "Python 3",
   "language": "python",
   "name": "python3"
  },
  "language_info": {
   "codemirror_mode": {
    "name": "ipython",
    "version": 3
   },
   "file_extension": ".py",
   "mimetype": "text/x-python",
   "name": "python",
   "nbconvert_exporter": "python",
   "pygments_lexer": "ipython3",
   "version": "3.8.10"
  }
 },
 "nbformat": 4,
 "nbformat_minor": 4
}
