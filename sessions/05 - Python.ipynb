{
 "cells": [
  {
   "cell_type": "markdown",
   "metadata": {},
   "source": [
    "# Python"
   ]
  },
  {
   "cell_type": "markdown",
   "metadata": {},
   "source": [
    "Dynamically typed language created by Guido van Rossum (BDFL) in mid-90.\n",
    "\n",
    "- code blocks are defined by INDENTATION\n",
    "- everything is an object\n",
    "- everything is a reference\n",
    "- first class functions\n",
    "- garbage collected\n",
    "- batteries included\n",
    "\n",
    "### OBJECT:\n",
    "> A data structure that holds (encapsulates) both data and actions that can be performed on these data\n",
    "\n",
    "### REFERENCE:\n",
    "> A pointer to specific memory location that holds the actual value (object)\n",
    "\n",
    "### FIRST-CLASS FUNCTIONS:\n",
    "> Functions (reusable blocks of code that compute something) can be manipulated (assigned and passed around) as any other object\n",
    "\n",
    "### BATTERIES:\n",
    "> Python's standard library (things that come with language) and docs _are_ tremendous resources\n",
    "\n",
    "To save later aggravation, set your editors to use 4 spaces indents and _NEVER EVER_ mix tabs and spaces."
   ]
  },
  {
   "cell_type": "code",
   "execution_count": 1,
   "metadata": {},
   "outputs": [
    {
     "name": "stdout",
     "output_type": "stream",
     "text": [
      "The Zen of Python, by Tim Peters\n",
      "\n",
      "Beautiful is better than ugly.\n",
      "Explicit is better than implicit.\n",
      "Simple is better than complex.\n",
      "Complex is better than complicated.\n",
      "Flat is better than nested.\n",
      "Sparse is better than dense.\n",
      "Readability counts.\n",
      "Special cases aren't special enough to break the rules.\n",
      "Although practicality beats purity.\n",
      "Errors should never pass silently.\n",
      "Unless explicitly silenced.\n",
      "In the face of ambiguity, refuse the temptation to guess.\n",
      "There should be one-- and preferably only one --obvious way to do it.\n",
      "Although that way may not be obvious at first unless you're Dutch.\n",
      "Now is better than never.\n",
      "Although never is often better than *right* now.\n",
      "If the implementation is hard to explain, it's a bad idea.\n",
      "If the implementation is easy to explain, it may be a good idea.\n",
      "Namespaces are one honking great idea -- let's do more of those!\n"
     ]
    }
   ],
   "source": [
    "import this"
   ]
  },
  {
   "cell_type": "markdown",
   "metadata": {},
   "source": [
    "### The takehome message\n",
    "\n",
    "Python was _designed_ to be concise, high-level multi-paradigm language. You can write Java or C++ like code in python but it'll look ugly. There is a _pythonic_ way of doing things. Often it _is_ the best way, but not always.\n",
    "\n",
    "The tradeoffs:\n",
    "\n",
    "- speed\n",
    "- lack of easy(true) concurrency"
   ]
  },
  {
   "cell_type": "markdown",
   "metadata": {},
   "source": [
    "## Code is written once but read many times"
   ]
  },
  {
   "cell_type": "markdown",
   "metadata": {},
   "source": [
    "### You're collaborating with yourself in the future"
   ]
  },
  {
   "cell_type": "markdown",
   "metadata": {},
   "source": [
    ">**Always code as if the guy who ends up maintaining your code will be a violent psychopath who knows where you live.**\n",
    "\n",
    "_John F Woods_"
   ]
  },
  {
   "cell_type": "markdown",
   "metadata": {},
   "source": [
    "## Let's dive right in"
   ]
  },
  {
   "cell_type": "markdown",
   "metadata": {},
   "source": [
    "Python is interpreted language. When you launch it you find yourself in a python shell which operates the same way as `bash`."
   ]
  },
  {
   "cell_type": "markdown",
   "metadata": {},
   "source": [
    "## Types"
   ]
  },
  {
   "cell_type": "markdown",
   "metadata": {},
   "source": [
    "### Numerical types"
   ]
  },
  {
   "cell_type": "markdown",
   "metadata": {},
   "source": [
    "### `int` - integer"
   ]
  },
  {
   "cell_type": "code",
   "execution_count": 2,
   "metadata": {},
   "outputs": [
    {
     "data": {
      "text/plain": [
       "['__abs__',\n",
       " '__add__',\n",
       " '__and__',\n",
       " '__bool__',\n",
       " '__ceil__',\n",
       " '__class__',\n",
       " '__delattr__',\n",
       " '__dir__',\n",
       " '__divmod__',\n",
       " '__doc__',\n",
       " '__eq__',\n",
       " '__float__',\n",
       " '__floor__',\n",
       " '__floordiv__',\n",
       " '__format__',\n",
       " '__ge__',\n",
       " '__getattribute__',\n",
       " '__getnewargs__',\n",
       " '__gt__',\n",
       " '__hash__',\n",
       " '__index__',\n",
       " '__init__',\n",
       " '__init_subclass__',\n",
       " '__int__',\n",
       " '__invert__',\n",
       " '__le__',\n",
       " '__lshift__',\n",
       " '__lt__',\n",
       " '__mod__',\n",
       " '__mul__',\n",
       " '__ne__',\n",
       " '__neg__',\n",
       " '__new__',\n",
       " '__or__',\n",
       " '__pos__',\n",
       " '__pow__',\n",
       " '__radd__',\n",
       " '__rand__',\n",
       " '__rdivmod__',\n",
       " '__reduce__',\n",
       " '__reduce_ex__',\n",
       " '__repr__',\n",
       " '__rfloordiv__',\n",
       " '__rlshift__',\n",
       " '__rmod__',\n",
       " '__rmul__',\n",
       " '__ror__',\n",
       " '__round__',\n",
       " '__rpow__',\n",
       " '__rrshift__',\n",
       " '__rshift__',\n",
       " '__rsub__',\n",
       " '__rtruediv__',\n",
       " '__rxor__',\n",
       " '__setattr__',\n",
       " '__sizeof__',\n",
       " '__str__',\n",
       " '__sub__',\n",
       " '__subclasshook__',\n",
       " '__truediv__',\n",
       " '__trunc__',\n",
       " '__xor__',\n",
       " 'as_integer_ratio',\n",
       " 'bit_length',\n",
       " 'conjugate',\n",
       " 'denominator',\n",
       " 'from_bytes',\n",
       " 'imag',\n",
       " 'numerator',\n",
       " 'real',\n",
       " 'to_bytes']"
      ]
     },
     "execution_count": 2,
     "metadata": {},
     "output_type": "execute_result"
    }
   ],
   "source": [
    "a = 1\n",
    "dir(a)"
   ]
  },
  {
   "cell_type": "markdown",
   "metadata": {},
   "source": [
    "### Integer division gotcha (python 2 specific)"
   ]
  },
  {
   "cell_type": "code",
   "execution_count": 3,
   "metadata": {},
   "outputs": [
    {
     "data": {
      "text/plain": [
       "0.5"
      ]
     },
     "execution_count": 3,
     "metadata": {},
     "output_type": "execute_result"
    }
   ],
   "source": [
    "b = 2\n",
    "\n",
    "a / b"
   ]
  },
  {
   "cell_type": "code",
   "execution_count": 4,
   "metadata": {},
   "outputs": [
    {
     "data": {
      "text/plain": [
       "0.5"
      ]
     },
     "execution_count": 4,
     "metadata": {},
     "output_type": "execute_result"
    }
   ],
   "source": [
    "a / float(b)"
   ]
  },
  {
   "cell_type": "code",
   "execution_count": 5,
   "metadata": {},
   "outputs": [
    {
     "data": {
      "text/plain": [
       "0.5"
      ]
     },
     "execution_count": 5,
     "metadata": {},
     "output_type": "execute_result"
    }
   ],
   "source": [
    "float(a) / b"
   ]
  },
  {
   "cell_type": "markdown",
   "metadata": {},
   "source": [
    "### `float` - floating point (real) number\n",
    "\n",
    "In Python this means 64-bit `float`:\n",
    "\n",
    "1-bit fraction + 11-bit exponent + 53-bit fraction"
   ]
  },
  {
   "cell_type": "code",
   "execution_count": 6,
   "metadata": {},
   "outputs": [
    {
     "data": {
      "text/plain": [
       "1.23456001"
      ]
     },
     "execution_count": 6,
     "metadata": {},
     "output_type": "execute_result"
    }
   ],
   "source": [
    "# Float can be written in two ways\n",
    "f = 1.23456\n",
    "g = 1e-8\n",
    "f + g"
   ]
  },
  {
   "cell_type": "markdown",
   "metadata": {},
   "source": [
    "### `complex` - complex number"
   ]
  },
  {
   "cell_type": "code",
   "execution_count": 7,
   "metadata": {},
   "outputs": [
    {
     "data": {
      "text/plain": [
       "(-1.092+3.98003j)"
      ]
     },
     "execution_count": 7,
     "metadata": {},
     "output_type": "execute_result"
    }
   ],
   "source": [
    "c = 1j # same as (0 + 1j)\n",
    "i = 1.092 - 2.98003j\n",
    "c - i"
   ]
  },
  {
   "cell_type": "markdown",
   "metadata": {},
   "source": [
    "### Sequence (iterable) types"
   ]
  },
  {
   "cell_type": "markdown",
   "metadata": {},
   "source": [
    "### `str` - string"
   ]
  },
  {
   "cell_type": "code",
   "execution_count": 8,
   "metadata": {},
   "outputs": [
    {
     "data": {
      "text/plain": [
       "'I am a Python string. I can be \"manipulated\" in many ways.'"
      ]
     },
     "execution_count": 8,
     "metadata": {},
     "output_type": "execute_result"
    }
   ],
   "source": [
    "s = q = 'I am a Python string. I can be \"manipulated\" in many ways.'\n",
    "s"
   ]
  },
  {
   "cell_type": "code",
   "execution_count": 9,
   "metadata": {},
   "outputs": [
    {
     "data": {
      "text/plain": [
       "'>RNA\\nAGUUCGAGGCUUAAACGGGCCUUAU'"
      ]
     },
     "execution_count": 9,
     "metadata": {},
     "output_type": "execute_result"
    }
   ],
   "source": [
    "seq = '>RNA\\nAGUUCGAGGCUUAAACGGGCCUUAU'\n",
    "seq"
   ]
  },
  {
   "cell_type": "code",
   "execution_count": 10,
   "metadata": {},
   "outputs": [
    {
     "name": "stdout",
     "output_type": "stream",
     "text": [
      ">RNA\n",
      "AGUUCGAGGCUUAAACGGGCCUUAU\n"
     ]
    }
   ],
   "source": [
    "print(seq)"
   ]
  },
  {
   "cell_type": "code",
   "execution_count": 11,
   "metadata": {},
   "outputs": [
    {
     "data": {
      "text/plain": [
       "30"
      ]
     },
     "execution_count": 11,
     "metadata": {},
     "output_type": "execute_result"
    }
   ],
   "source": [
    "len(seq)"
   ]
  },
  {
   "cell_type": "code",
   "execution_count": 12,
   "metadata": {},
   "outputs": [
    {
     "name": "stdout",
     "output_type": "stream",
     "text": [
      "I\n",
      "a\n"
     ]
    }
   ],
   "source": [
    "print(s[0])\n",
    "print(s[5])"
   ]
  },
  {
   "cell_type": "code",
   "execution_count": 13,
   "metadata": {},
   "outputs": [
    {
     "name": "stdout",
     "output_type": "stream",
     "text": [
      "i am another string. and I am a new sentence.\n"
     ]
    }
   ],
   "source": [
    "# Strings are immutable!!!\n",
    "#s[3] = 'n'\n",
    "\n",
    "s = 'i am another string. and I am a new sentence.'\n",
    "print(s)"
   ]
  },
  {
   "cell_type": "code",
   "execution_count": 14,
   "metadata": {},
   "outputs": [
    {
     "name": "stdout",
     "output_type": "stream",
     "text": [
      "I am a Python string. I can be \"manipulated\" in many ways.\n"
     ]
    }
   ],
   "source": [
    "print(q)"
   ]
  },
  {
   "cell_type": "code",
   "execution_count": 15,
   "metadata": {},
   "outputs": [
    {
     "name": "stdout",
     "output_type": "stream",
     "text": [
      "['__add__', '__class__', '__contains__', '__delattr__', '__dir__', '__doc__', '__eq__', '__format__', '__ge__', '__getattribute__', '__getitem__', '__getnewargs__', '__gt__', '__hash__', '__init__', '__init_subclass__', '__iter__', '__le__', '__len__', '__lt__', '__mod__', '__mul__', '__ne__', '__new__', '__reduce__', '__reduce_ex__', '__repr__', '__rmod__', '__rmul__', '__setattr__', '__sizeof__', '__str__', '__subclasshook__', 'capitalize', 'casefold', 'center', 'count', 'encode', 'endswith', 'expandtabs', 'find', 'format', 'format_map', 'index', 'isalnum', 'isalpha', 'isascii', 'isdecimal', 'isdigit', 'isidentifier', 'islower', 'isnumeric', 'isprintable', 'isspace', 'istitle', 'isupper', 'join', 'ljust', 'lower', 'lstrip', 'maketrans', 'partition', 'removeprefix', 'removesuffix', 'replace', 'rfind', 'rindex', 'rjust', 'rpartition', 'rsplit', 'rstrip', 'split', 'splitlines', 'startswith', 'strip', 'swapcase', 'title', 'translate', 'upper', 'zfill']\n"
     ]
    }
   ],
   "source": [
    "# Let's have a look inside:\n",
    "print(dir(s))"
   ]
  },
  {
   "cell_type": "code",
   "execution_count": 16,
   "metadata": {},
   "outputs": [
    {
     "data": {
      "text/plain": [
       "'I AM ANOTHER STRING. AND I AM A NEW SENTENCE.'"
      ]
     },
     "execution_count": 16,
     "metadata": {},
     "output_type": "execute_result"
    }
   ],
   "source": [
    "s.upper()"
   ]
  },
  {
   "cell_type": "code",
   "execution_count": 17,
   "metadata": {},
   "outputs": [
    {
     "data": {
      "text/plain": [
       "'i am another string. and I am a new sentence.I am a Python string. I can be \"manipulated\" in many ways.'"
      ]
     },
     "execution_count": 17,
     "metadata": {},
     "output_type": "execute_result"
    }
   ],
   "source": [
    "s + q"
   ]
  },
  {
   "cell_type": "code",
   "execution_count": 18,
   "metadata": {},
   "outputs": [
    {
     "data": {
      "text/plain": [
       "['i', 'am', 'another', 'string.', 'and', 'I', 'am', 'a', 'new', 'sentence.']"
      ]
     },
     "execution_count": 18,
     "metadata": {},
     "output_type": "execute_result"
    }
   ],
   "source": [
    "s.split()"
   ]
  },
  {
   "cell_type": "code",
   "execution_count": 19,
   "metadata": {},
   "outputs": [
    {
     "data": {
      "text/plain": [
       "['>RNA', 'AGUUCGAGGCUUAAACGGGCCUUAU']"
      ]
     },
     "execution_count": 19,
     "metadata": {},
     "output_type": "execute_result"
    }
   ],
   "source": [
    "seq.split('\\n')"
   ]
  },
  {
   "cell_type": "code",
   "execution_count": 20,
   "metadata": {},
   "outputs": [
    {
     "data": {
      "text/plain": [
       "'I AM ANOTHER STRING. AND I AM A NEW SENTENCE.'"
      ]
     },
     "execution_count": 20,
     "metadata": {},
     "output_type": "execute_result"
    }
   ],
   "source": [
    "s.upper()"
   ]
  },
  {
   "cell_type": "code",
   "execution_count": 21,
   "metadata": {},
   "outputs": [
    {
     "data": {
      "text/plain": [
       "['>RNA', 'AGUUCGAGGCUUAAACGGGCCUUAU']"
      ]
     },
     "execution_count": 21,
     "metadata": {},
     "output_type": "execute_result"
    }
   ],
   "source": [
    "seq.split()"
   ]
  },
  {
   "cell_type": "code",
   "execution_count": 22,
   "metadata": {},
   "outputs": [
    {
     "data": {
      "text/plain": [
       "'>RNA\\nAGUUCGAGGCUUAAACGGGCCUUAU'"
      ]
     },
     "execution_count": 22,
     "metadata": {},
     "output_type": "execute_result"
    }
   ],
   "source": [
    "seq"
   ]
  },
  {
   "cell_type": "code",
   "execution_count": 23,
   "metadata": {},
   "outputs": [
    {
     "name": "stdout",
     "output_type": "stream",
     "text": [
      ">RNA\n",
      "AGUUCGAGGCUUAAACGGGCCUUAU\n"
     ]
    }
   ],
   "source": [
    "# Unpacking\n",
    "seq = '>RNA\\nAGUUCGAGGCUUAAACGGGCCUUAU'\n",
    "name, seq1 = seq.split()\n",
    "#print('Name: {}\\tSequence: {}'.format(name,seq))\n",
    "print(name)\n",
    "print(seq1)"
   ]
  },
  {
   "cell_type": "code",
   "execution_count": 24,
   "metadata": {},
   "outputs": [
    {
     "data": {
      "text/plain": [
       "' am  a really    stupid    long string'"
      ]
     },
     "execution_count": 24,
     "metadata": {},
     "output_type": "execute_result"
    }
   ],
   "source": [
    "s = '               i am  a really    stupid    long string   '.strip()\n",
    "s.strip('i')"
   ]
  },
  {
   "cell_type": "code",
   "execution_count": 25,
   "metadata": {},
   "outputs": [
    {
     "name": "stdout",
     "output_type": "stream",
     "text": [
      "i\n",
      "am\n",
      "a\n",
      "really\n",
      "stupid\n",
      "long\n",
      "string\n"
     ]
    }
   ],
   "source": [
    "sl = s.split()\n",
    "print('\\n'.join(sl))"
   ]
  },
  {
   "cell_type": "markdown",
   "metadata": {},
   "source": [
    "### `list` - (ordered) collection of elements"
   ]
  },
  {
   "cell_type": "code",
   "execution_count": 26,
   "metadata": {},
   "outputs": [
    {
     "data": {
      "text/plain": [
       "(['i', 'am', 'a', 'really', 'stupid', 'long', 'string'], 7)"
      ]
     },
     "execution_count": 26,
     "metadata": {},
     "output_type": "execute_result"
    }
   ],
   "source": [
    "sl, len(sl)"
   ]
  },
  {
   "cell_type": "code",
   "execution_count": 27,
   "metadata": {},
   "outputs": [
    {
     "data": {
      "text/plain": [
       "['a', 'really', 'stupid', 'long', 'string']"
      ]
     },
     "execution_count": 27,
     "metadata": {},
     "output_type": "execute_result"
    }
   ],
   "source": [
    "sl[2:]"
   ]
  },
  {
   "cell_type": "code",
   "execution_count": 28,
   "metadata": {},
   "outputs": [
    {
     "data": {
      "text/plain": [
       "['i', 'am']"
      ]
     },
     "execution_count": 28,
     "metadata": {},
     "output_type": "execute_result"
    }
   ],
   "source": [
    "sl[:2]"
   ]
  },
  {
   "cell_type": "code",
   "execution_count": 29,
   "metadata": {},
   "outputs": [
    {
     "data": {
      "text/plain": [
       "['string', 'long', 'stupid', 'really', 'a', 'am', 'i']"
      ]
     },
     "execution_count": 29,
     "metadata": {},
     "output_type": "execute_result"
    }
   ],
   "source": [
    "sl[::-1]"
   ]
  },
  {
   "cell_type": "code",
   "execution_count": 30,
   "metadata": {},
   "outputs": [
    {
     "data": {
      "text/plain": [
       "'string'"
      ]
     },
     "execution_count": 30,
     "metadata": {},
     "output_type": "execute_result"
    }
   ],
   "source": [
    "sl[-1]"
   ]
  },
  {
   "cell_type": "code",
   "execution_count": 31,
   "metadata": {},
   "outputs": [
    {
     "data": {
      "text/plain": [
       "['string']"
      ]
     },
     "execution_count": 31,
     "metadata": {},
     "output_type": "execute_result"
    }
   ],
   "source": [
    "sl[-1:]"
   ]
  },
  {
   "cell_type": "code",
   "execution_count": 32,
   "metadata": {},
   "outputs": [
    {
     "data": {
      "text/plain": [
       "['i', 'am', 'a', 'really', 'stupid', 'long']"
      ]
     },
     "execution_count": 32,
     "metadata": {},
     "output_type": "execute_result"
    }
   ],
   "source": [
    "sl[:-1]"
   ]
  },
  {
   "cell_type": "code",
   "execution_count": 33,
   "metadata": {},
   "outputs": [
    {
     "name": "stdout",
     "output_type": "stream",
     "text": [
      "['__add__', '__class__', '__class_getitem__', '__contains__', '__delattr__', '__delitem__', '__dir__', '__doc__', '__eq__', '__format__', '__ge__', '__getattribute__', '__getitem__', '__gt__', '__hash__', '__iadd__', '__imul__', '__init__', '__init_subclass__', '__iter__', '__le__', '__len__', '__lt__', '__mul__', '__ne__', '__new__', '__reduce__', '__reduce_ex__', '__repr__', '__reversed__', '__rmul__', '__setattr__', '__setitem__', '__sizeof__', '__str__', '__subclasshook__', 'append', 'clear', 'copy', 'count', 'extend', 'index', 'insert', 'pop', 'remove', 'reverse', 'sort']\n"
     ]
    }
   ],
   "source": [
    "print(dir(sl))"
   ]
  },
  {
   "cell_type": "code",
   "execution_count": 34,
   "metadata": {},
   "outputs": [
    {
     "data": {
      "text/plain": [
       "['i', 'am', 'a', 'really', 'stupid', 'long', 'string']"
      ]
     },
     "execution_count": 34,
     "metadata": {},
     "output_type": "execute_result"
    }
   ],
   "source": [
    "sl"
   ]
  },
  {
   "cell_type": "code",
   "execution_count": 35,
   "metadata": {},
   "outputs": [
    {
     "data": {
      "text/plain": [
       "['i', 'am', 'another', 'a', 'really', 'stupid', 'long', 'string']"
      ]
     },
     "execution_count": 35,
     "metadata": {},
     "output_type": "execute_result"
    }
   ],
   "source": [
    "sl.insert(2, 'another')\n",
    "sl"
   ]
  },
  {
   "cell_type": "code",
   "execution_count": 36,
   "metadata": {},
   "outputs": [
    {
     "data": {
      "text/plain": [
       "['i',\n",
       " 'am',\n",
       " 'another',\n",
       " 'a',\n",
       " 'really',\n",
       " 'stupid',\n",
       " 'long',\n",
       " 'string',\n",
       " 'another',\n",
       " 'item']"
      ]
     },
     "execution_count": 36,
     "metadata": {},
     "output_type": "execute_result"
    }
   ],
   "source": [
    "sl.extend(['another', 'item'])\n",
    "sl"
   ]
  },
  {
   "cell_type": "code",
   "execution_count": 37,
   "metadata": {},
   "outputs": [],
   "source": [
    "sl.remove('another')"
   ]
  },
  {
   "cell_type": "code",
   "execution_count": 38,
   "metadata": {},
   "outputs": [
    {
     "data": {
      "text/plain": [
       "['i', 'am', 'a', 'really', 'stupid', 'long', 'string', 'item']"
      ]
     },
     "execution_count": 38,
     "metadata": {},
     "output_type": "execute_result"
    }
   ],
   "source": [
    "sl.remove('another')\n",
    "sl"
   ]
  },
  {
   "cell_type": "code",
   "execution_count": 39,
   "metadata": {},
   "outputs": [
    {
     "name": "stdout",
     "output_type": "stream",
     "text": [
      "['ITEM', 'ANOTHER ITEM']\n",
      "['ITEM', 'ANOTHER ITEM']\n"
     ]
    }
   ],
   "source": [
    "# Lists are mutable!!!\n",
    "lst = ['item', 'another item']\n",
    "\n",
    "lst1 = [item.upper() for item in lst]\n",
    "\n",
    "print(lst1)\n",
    "\n",
    "lst.append('add to lst')\n",
    "print(lst1)"
   ]
  },
  {
   "cell_type": "code",
   "execution_count": 40,
   "metadata": {},
   "outputs": [
    {
     "name": "stdout",
     "output_type": "stream",
     "text": [
      "['item', 'another item', 'add to lst', 'YAY']\n",
      "['ITEM', 'ANOTHER ITEM']\n"
     ]
    }
   ],
   "source": [
    "lst.append('YAY')\n",
    "print(lst)\n",
    "print(lst1)"
   ]
  },
  {
   "cell_type": "code",
   "execution_count": 41,
   "metadata": {},
   "outputs": [
    {
     "name": "stdout",
     "output_type": "stream",
     "text": [
      "['ITEM', 'ANOTHER ITEM', 'ADD TO LST', 'YAY']\n"
     ]
    }
   ],
   "source": [
    "# Lists are ordered and iterable:\n",
    "lst1 = []\n",
    "for item in lst:\n",
    "    lst1.append(item.upper())\n",
    "    \n",
    "print(lst1)"
   ]
  },
  {
   "cell_type": "code",
   "execution_count": 42,
   "metadata": {},
   "outputs": [
    {
     "name": "stdout",
     "output_type": "stream",
     "text": [
      ">\n",
      "R\n",
      "N\n",
      "A\n",
      "\n",
      "\n",
      "A\n",
      "G\n",
      "U\n",
      "U\n",
      "C\n",
      "G\n",
      "A\n",
      "G\n",
      "G\n",
      "C\n",
      "U\n",
      "U\n",
      "A\n",
      "A\n",
      "A\n",
      "C\n",
      "G\n",
      "G\n",
      "G\n",
      "C\n",
      "C\n",
      "U\n",
      "U\n",
      "A\n",
      "U\n"
     ]
    }
   ],
   "source": [
    "for c in seq:\n",
    "    print(c)"
   ]
  },
  {
   "cell_type": "code",
   "execution_count": 43,
   "metadata": {},
   "outputs": [
    {
     "name": "stdout",
     "output_type": "stream",
     "text": [
      "item\n",
      "another item\n",
      "add to lst\n",
      "YAY\n",
      "0 item\n",
      "1 another item\n",
      "2 add to lst\n",
      "3 YAY\n"
     ]
    }
   ],
   "source": [
    "# Don't do this:\n",
    "for i in range(len(lst)):\n",
    "    print(lst[i])\n",
    "    \n",
    "# If you need index of each element:\n",
    "for ind,item in enumerate(lst):\n",
    "    print(ind, item)"
   ]
  },
  {
   "cell_type": "code",
   "execution_count": 44,
   "metadata": {},
   "outputs": [
    {
     "name": "stdout",
     "output_type": "stream",
     "text": [
      "True\n",
      "False\n",
      "Item in list!\n"
     ]
    }
   ],
   "source": [
    "# To check that an element is in list:\n",
    "\n",
    "print('item' in lst)\n",
    "print('Item' in lst)\n",
    "\n",
    "if 'item' in lst:\n",
    "    print('Item in list!')\n",
    "else:\n",
    "    print('Not in list')"
   ]
  },
  {
   "cell_type": "markdown",
   "metadata": {},
   "source": [
    "### `tuple` is a immutable list"
   ]
  },
  {
   "cell_type": "code",
   "execution_count": 45,
   "metadata": {},
   "outputs": [
    {
     "name": "stdout",
     "output_type": "stream",
     "text": [
      "name position\n"
     ]
    }
   ],
   "source": [
    "t = ('name', 'position')\n",
    "name, position = t\n",
    "print(name, position)"
   ]
  },
  {
   "cell_type": "code",
   "execution_count": 46,
   "metadata": {},
   "outputs": [],
   "source": [
    "seq = '>RNA\\nAGUUCGAGGCUUAAACGGGCCUUAU\\n>RNA1\\nUGGUAUU'\n",
    "*rest, name, seq1  = seq.split()"
   ]
  },
  {
   "cell_type": "code",
   "execution_count": 47,
   "metadata": {},
   "outputs": [
    {
     "name": "stdout",
     "output_type": "stream",
     "text": [
      ">RNA1\n",
      "UGGUAUU\n",
      "['>RNA', 'AGUUCGAGGCUUAAACGGGCCUUAU']\n"
     ]
    }
   ],
   "source": [
    "print(name)\n",
    "print(seq1)\n",
    "print(rest)"
   ]
  },
  {
   "cell_type": "code",
   "execution_count": 48,
   "metadata": {},
   "outputs": [
    {
     "name": "stdout",
     "output_type": "stream",
     "text": [
      "0 0\n",
      "1 5\n",
      "2 10\n",
      "3 15\n",
      "4 20\n",
      "5 25\n",
      "6 30\n",
      "7 35\n",
      "8 40\n",
      "9 45\n",
      "10 50\n"
     ]
    }
   ],
   "source": [
    "# From the earlier example:\n",
    "r1 = range(11)\n",
    "r2 = range(0, 100, 5)\n",
    "for i1,i2 in zip(r1,r2):\n",
    "    print(i1,i2)"
   ]
  },
  {
   "cell_type": "markdown",
   "metadata": {},
   "source": [
    "### DIFFERENCE FROM ARRAYS:\n",
    ">Elements of list do not need to be of the same type"
   ]
  },
  {
   "cell_type": "markdown",
   "metadata": {},
   "source": [
    "### `sets`  - unordered collections of unique elements"
   ]
  },
  {
   "cell_type": "code",
   "execution_count": 49,
   "metadata": {},
   "outputs": [
    {
     "data": {
      "text/plain": [
       "['i', 'am', 'a', 'really', 'stupid', 'long', 'string', 'item']"
      ]
     },
     "execution_count": 49,
     "metadata": {},
     "output_type": "execute_result"
    }
   ],
   "source": [
    "sl"
   ]
  },
  {
   "cell_type": "code",
   "execution_count": 50,
   "metadata": {},
   "outputs": [
    {
     "data": {
      "text/plain": [
       "['am', 'really', 'a', 'string', 'item', 'stupid', 'i', 'long']"
      ]
     },
     "execution_count": 50,
     "metadata": {},
     "output_type": "execute_result"
    }
   ],
   "source": [
    "list(set(sl))"
   ]
  },
  {
   "cell_type": "code",
   "execution_count": 52,
   "metadata": {},
   "outputs": [],
   "source": [
    "# Nice optimization trick:\n",
    "huge_list = range(1000000)\n",
    "huge_set = set(huge_list)\n",
    "\n",
    "def check_list(elem, lst=None):\n",
    "    if lst:\n",
    "        pass\n",
    "        # DO smth\n",
    "    return elem in huge_list\n",
    "\n",
    "def check_set(elem):\n",
    "    return elem in huge_set\n",
    "\n",
    "# And let's refactor this into one function and talk about variable scopes"
   ]
  },
  {
   "cell_type": "code",
   "execution_count": 53,
   "metadata": {},
   "outputs": [
    {
     "name": "stdout",
     "output_type": "stream",
     "text": [
      "CPU times: user 3 µs, sys: 1 µs, total: 4 µs\n",
      "Wall time: 8.11 µs\n"
     ]
    },
    {
     "data": {
      "text/plain": [
       "True"
      ]
     },
     "execution_count": 53,
     "metadata": {},
     "output_type": "execute_result"
    }
   ],
   "source": [
    "%time check_list(10000)"
   ]
  },
  {
   "cell_type": "code",
   "execution_count": 54,
   "metadata": {},
   "outputs": [
    {
     "name": "stdout",
     "output_type": "stream",
     "text": [
      "CPU times: user 3 µs, sys: 0 ns, total: 3 µs\n",
      "Wall time: 5.96 µs\n"
     ]
    },
    {
     "data": {
      "text/plain": [
       "True"
      ]
     },
     "execution_count": 54,
     "metadata": {},
     "output_type": "execute_result"
    }
   ],
   "source": [
    "%time check_set(10000)"
   ]
  },
  {
   "cell_type": "markdown",
   "metadata": {},
   "source": [
    "### `dictionary` - key/value pairs"
   ]
  },
  {
   "cell_type": "markdown",
   "metadata": {},
   "source": [
    "AKA hashtable, associative array. In general, mapping type."
   ]
  },
  {
   "cell_type": "code",
   "execution_count": 55,
   "metadata": {},
   "outputs": [
    {
     "data": {
      "text/plain": [
       "{'key1': 1, 'key2': 20, 'key3': 345}"
      ]
     },
     "execution_count": 55,
     "metadata": {},
     "output_type": "execute_result"
    }
   ],
   "source": [
    "d = {'key1': 1, 'key2': 20, 'key3': 345}\n",
    "d"
   ]
  },
  {
   "cell_type": "markdown",
   "metadata": {},
   "source": [
    "`key` can be any *hashable* type. What it means in practical terms is that it must be immutable."
   ]
  },
  {
   "cell_type": "code",
   "execution_count": 56,
   "metadata": {},
   "outputs": [
    {
     "name": "stdout",
     "output_type": "stream",
     "text": [
      "['__class__', '__class_getitem__', '__contains__', '__delattr__', '__delitem__', '__dir__', '__doc__', '__eq__', '__format__', '__ge__', '__getattribute__', '__getitem__', '__gt__', '__hash__', '__init__', '__init_subclass__', '__ior__', '__iter__', '__le__', '__len__', '__lt__', '__ne__', '__new__', '__or__', '__reduce__', '__reduce_ex__', '__repr__', '__reversed__', '__ror__', '__setattr__', '__setitem__', '__sizeof__', '__str__', '__subclasshook__', 'clear', 'copy', 'fromkeys', 'get', 'items', 'keys', 'pop', 'popitem', 'setdefault', 'update', 'values']\n"
     ]
    }
   ],
   "source": [
    "print(dir(d))"
   ]
  },
  {
   "cell_type": "markdown",
   "metadata": {},
   "source": [
    "### `dict` is mutable!"
   ]
  },
  {
   "cell_type": "code",
   "execution_count": 57,
   "metadata": {},
   "outputs": [
    {
     "name": "stdout",
     "output_type": "stream",
     "text": [
      "{'key2': 20, 'key3': 345}\n"
     ]
    }
   ],
   "source": [
    "d.pop('key1')\n",
    "print(d)\n",
    "# Note also that dict is unordered"
   ]
  },
  {
   "cell_type": "code",
   "execution_count": 58,
   "metadata": {},
   "outputs": [
    {
     "data": {
      "text/plain": [
       "{'key2': 202, 'key3': 345, 'key1': 101}"
      ]
     },
     "execution_count": 58,
     "metadata": {},
     "output_type": "execute_result"
    }
   ],
   "source": [
    "# Assignment\n",
    "d['key1'] = 101\n",
    "d['key2'] = 202\n",
    "d"
   ]
  },
  {
   "cell_type": "code",
   "execution_count": 59,
   "metadata": {},
   "outputs": [
    {
     "name": "stdout",
     "output_type": "stream",
     "text": [
      "True\n",
      "False\n"
     ]
    }
   ],
   "source": [
    "# Membership test operates on keys\n",
    "print('key3' in d)\n",
    "print('key4' in d)"
   ]
  },
  {
   "cell_type": "code",
   "execution_count": 60,
   "metadata": {},
   "outputs": [
    {
     "name": "stdout",
     "output_type": "stream",
     "text": [
      "key2 202\n",
      "key3 345\n",
      "key1 101\n"
     ]
    }
   ],
   "source": [
    "# Looping over key:value pairs\n",
    "\n",
    "for key,val in d.items():\n",
    "    print(key,val)"
   ]
  },
  {
   "cell_type": "code",
   "execution_count": 61,
   "metadata": {},
   "outputs": [
    {
     "data": {
      "text/plain": [
       "547"
      ]
     },
     "execution_count": 61,
     "metadata": {},
     "output_type": "execute_result"
    }
   ],
   "source": [
    "d['key2'] + d['key3']"
   ]
  },
  {
   "cell_type": "code",
   "execution_count": 62,
   "metadata": {},
   "outputs": [
    {
     "data": {
      "text/plain": [
       "{'b', 'd'}"
      ]
     },
     "execution_count": 62,
     "metadata": {},
     "output_type": "execute_result"
    }
   ],
   "source": [
    "s1 = {'a', 'b', 'c', 'd'}\n",
    "s2 = {'b', 'e', 'd', 'f'}\n",
    "\n",
    "s1 & s2"
   ]
  },
  {
   "cell_type": "markdown",
   "metadata": {},
   "source": [
    "### Working with files. "
   ]
  },
  {
   "cell_type": "code",
   "execution_count": 63,
   "metadata": {},
   "outputs": [
    {
     "name": "stdout",
     "output_type": "stream",
     "text": [
      "total 16M\n",
      "drwxrwxr-x 2 ilya ilya  12K Aug  4 12:47 \u001b[0m\u001b[01;34m.\u001b[0m/\n",
      "drwxrwxr-x 6 ilya ilya 4.0K Oct  7 17:23 \u001b[01;34m..\u001b[0m/\n",
      "-rw-rw-r-- 1 ilya ilya 1.6K Jul 29 13:08 2017-03-09_NextSeq.csv\n",
      "-rw-rw-r-- 1 ilya ilya 1.5M Jul 29 13:08 CE_exp.tab\n",
      "-rw-rw-r-- 1 ilya ilya 1.5M Jul 29 13:08 CE_exp.umi.tab\n",
      "-rw-rw-r-- 1 ilya ilya 500K Jul 29 13:08 contigs.fasta\n",
      "-rw-rw-r-- 1 ilya ilya 457K Jul 29 13:08 dfa_mp.offset_150.win_100.csv\n",
      "-rw-rw-r-- 1 ilya ilya 461K Jul 29 13:08 dfa_mp.offset_150.win_200.csv\n",
      "-rw-rw-r-- 1 ilya ilya 453K Jul 29 13:08 dfa_mp.offset_150.win_50.csv\n",
      "-rw-rw-r-- 1 ilya ilya 455K Jul 29 13:08 dfa_mp.offset_150.win_80.csv\n",
      "-rw-rw-r-- 1 ilya ilya 457K Jul 29 13:08 dfa_mp.offset_200.win_100.csv\n",
      "-rw-rw-r-- 1 ilya ilya 461K Jul 29 13:08 dfa_mp.offset_200.win_200.csv\n",
      "-rw-rw-r-- 1 ilya ilya 454K Jul 29 13:08 dfa_mp.offset_200.win_50.csv\n",
      "-rw-rw-r-- 1 ilya ilya 456K Jul 29 13:08 dfa_mp.offset_200.win_80.csv\n",
      "-rw-rw-r-- 1 ilya ilya 457K Jul 29 13:08 dfa_mp.offset_300.win_100.csv\n",
      "-rw-rw-r-- 1 ilya ilya 461K Jul 29 13:08 dfa_mp.offset_300.win_200.csv\n",
      "-rw-rw-r-- 1 ilya ilya 454K Jul 29 13:08 dfa_mp.offset_300.win_50.csv\n",
      "-rw-rw-r-- 1 ilya ilya 455K Jul 29 13:08 dfa_mp.offset_300.win_80.csv\n",
      "-rw-rw-r-- 1 ilya ilya 603K Jul 29 13:08 dfm.csv\n",
      "-rw-rw-r-- 1 ilya ilya  644 Jul 29 13:08 dHSR1.fa\n",
      "-rw-rw-r-- 1 ilya ilya 5.4K Jul 29 13:08 gradtimes.txt\n",
      "-rw-rw-r-- 1 ilya ilya  445 Jul 29 13:08 hHSR-435.fa\n",
      "-rw-rw-r-- 1 ilya ilya  627 Sep 15 13:48 hHSR.fa\n",
      "-rw-rw-r-- 1 ilya ilya 2.5K Jul 29 13:08 Lexogen_Sense_RNA-Seq.csv\n",
      "-rw-rw-r-- 1 ilya ilya 2.5M Aug  4 12:47 NC_000913-1.gff\n",
      "-rw-rw-r-- 1 ilya ilya 4.0K Jul 29 13:08 ROSE1_25.txt\n",
      "-rw-rw-r-- 1 ilya ilya 4.2K Jul 29 13:08 ROSE1_26.txt\n",
      "-rw-rw-r-- 1 ilya ilya 4.3K Jul 29 13:08 ROSE1_27.txt\n",
      "-rw-rw-r-- 1 ilya ilya 4.4K Jul 29 13:08 ROSE1_28.txt\n",
      "-rw-rw-r-- 1 ilya ilya 4.5K Jul 29 13:08 ROSE1_29.txt\n",
      "-rw-rw-r-- 1 ilya ilya 4.7K Jul 29 13:08 ROSE1_30.txt\n",
      "-rw-rw-r-- 1 ilya ilya 5.0K Jul 29 13:08 ROSE1_31.txt\n",
      "-rw-rw-r-- 1 ilya ilya 5.2K Jul 29 13:08 ROSE1_32.txt\n",
      "-rw-rw-r-- 1 ilya ilya 5.7K Jul 29 13:08 ROSE1_33.txt\n",
      "-rw-rw-r-- 1 ilya ilya 6.0K Jul 29 13:08 ROSE1_34.txt\n",
      "-rw-rw-r-- 1 ilya ilya 6.5K Jul 29 13:08 ROSE1_35.txt\n",
      "-rw-rw-r-- 1 ilya ilya 6.7K Jul 29 13:08 ROSE1_36.txt\n",
      "-rw-rw-r-- 1 ilya ilya 7.1K Jul 29 13:08 ROSE1_37.txt\n",
      "-rw-rw-r-- 1 ilya ilya 7.8K Jul 29 13:08 ROSE1_38.txt\n",
      "-rw-rw-r-- 1 ilya ilya 8.1K Jul 29 13:08 ROSE1_39.txt\n",
      "-rw-rw-r-- 1 ilya ilya 8.2K Jul 29 13:08 ROSE1_40.txt\n",
      "-rw-rw-r-- 1 ilya ilya 8.6K Jul 29 13:08 ROSE1_41.txt\n",
      "-rw-rw-r-- 1 ilya ilya 8.8K Jul 29 13:08 ROSE1_42.txt\n",
      "-rw-rw-r-- 1 ilya ilya 9.3K Jul 29 13:08 ROSE1_43.txt\n",
      "-rw-rw-r-- 1 ilya ilya  10K Jul 29 13:08 ROSE1_44.txt\n",
      "-rw-rw-r-- 1 ilya ilya  11K Jul 29 13:08 ROSE1_45.txt\n",
      "-rw-rw-r-- 1 ilya ilya  11K Jul 29 13:08 ROSE1_46.txt\n",
      "-rw-rw-r-- 1 ilya ilya  126 Jul 29 13:08 rose.fa\n",
      "-rw-rw-r-- 1 ilya ilya 3.3M Jul 29 13:08 utr.counts.csv\n"
     ]
    }
   ],
   "source": [
    "ls -lah ../data"
   ]
  },
  {
   "cell_type": "code",
   "execution_count": 64,
   "metadata": {
    "tags": []
   },
   "outputs": [
    {
     "name": "stdout",
     "output_type": "stream",
     "text": [
      ">hHSR\n",
      "\n",
      "CCGTCCAATTGAGGTCCGAACCGGTTTACACAAAAATTTGACACGCCCCTGTGGGGAGGCACGATGCTGCCTTAACTCTCCGGGTGATTTCATCTTCAGCGCCGAGGCGGATGCACCTCGTTAAAGTGCTCGAAGCGGCGGCCATCTGCAGCACTCCTTCGGCCTGGGCCGTGTCATAGTGTGTTGCATCGACCGGTTGAATCCGCCGCCATAAGCAGACGTTGGAGTGGTGTGAGGACTACAATCATTCTTTAGGAGATGGCATTCCTCCTTAAACCGCCTCACTAAGTGACGCTAATGATGCCTACATTGCCCCGGAGACTGGGCTGTGTAGGTGCGTTCGCCTCCAGCTTTCATCGTCCGGGTTCATGATCTAACTCGTTGTACAGATGAAGCCACGTTTCCACCTCCATGACCAGCTTGCTGCGCTGACCTATCTAGGTCGCTGGCTTGCTATCTGCATTGCAATTGCCATGCTGGTTGGCAGTGCATCCGCCATCTTTTTGCACTCGATGGAGTGGGCCACCCAAACGCGGGACGCCACACCATTGGCTGATATGGGGACTCCCATTCGCAGGCTTCGATGTCGACTGGAGTCAAGGGC\n",
      "\n",
      ">Seq1\n",
      "\n",
      "gtcgggctct\n"
     ]
    }
   ],
   "source": [
    "# This works but is not good\n",
    "\n",
    "fh = open('../data/hHSR.fa', 'r')\n",
    "for line in fh:\n",
    "    # Do something\n",
    "    print(line)\n",
    "fh.close()"
   ]
  },
  {
   "cell_type": "code",
   "execution_count": 65,
   "metadata": {},
   "outputs": [],
   "source": [
    "fh = open('../data/hHSR.fa', 'a')\n",
    "fh.write('>Seq1\\ngtcgggctct')\n",
    "fh.close()"
   ]
  },
  {
   "cell_type": "code",
   "execution_count": 66,
   "metadata": {},
   "outputs": [
    {
     "name": "stdout",
     "output_type": "stream",
     "text": [
      ">hHSR\n",
      "\n",
      "CCGTCCAATTGAGGTCCGAACCGGTTTACACAAAAATTTGACACGCCCCTGTGGGGAGGCACGATGCTGCCTTAACTCTCCGGGTGATTTCATCTTCAGCGCCGAGGCGGATGCACCTCGTTAAAGTGCTCGAAGCGGCGGCCATCTGCAGCACTCCTTCGGCCTGGGCCGTGTCATAGTGTGTTGCATCGACCGGTTGAATCCGCCGCCATAAGCAGACGTTGGAGTGGTGTGAGGACTACAATCATTCTTTAGGAGATGGCATTCCTCCTTAAACCGCCTCACTAAGTGACGCTAATGATGCCTACATTGCCCCGGAGACTGGGCTGTGTAGGTGCGTTCGCCTCCAGCTTTCATCGTCCGGGTTCATGATCTAACTCGTTGTACAGATGAAGCCACGTTTCCACCTCCATGACCAGCTTGCTGCGCTGACCTATCTAGGTCGCTGGCTTGCTATCTGCATTGCAATTGCCATGCTGGTTGGCAGTGCATCCGCCATCTTTTTGCACTCGATGGAGTGGGCCACCCAAACGCGGGACGCCACACCATTGGCTGATATGGGGACTCCCATTCGCAGGCTTCGATGTCGACTGGAGTCAAGGGC\n",
      "\n",
      ">Seq1\n",
      "\n",
      "gtcgggctct>Seq1\n",
      "\n",
      "gtcgggctct\n"
     ]
    }
   ],
   "source": [
    "# Better way (context manager)\n",
    "import os.path\n",
    "directory = '../data'\n",
    "filename = 'hHSR.fa'\n",
    "\n",
    "with open(os.path.join(directory, filename), 'r') as fh:\n",
    "    for line in fh:\n",
    "        # Do something\n",
    "        print(line)\n",
    "\n",
    "# Do something else. At this point fh.close() will be called automatically"
   ]
  },
  {
   "cell_type": "code",
   "execution_count": 69,
   "metadata": {},
   "outputs": [
    {
     "ename": "FileNotFoundError",
     "evalue": "[Errno 2] No such file or directory: 'myfile.gz'",
     "output_type": "error",
     "traceback": [
      "\u001b[0;31m---------------------------------------------------------------------------\u001b[0m",
      "\u001b[0;31mFileNotFoundError\u001b[0m                         Traceback (most recent call last)",
      "\u001b[0;32m<ipython-input-69-afc42c06806b>\u001b[0m in \u001b[0;36m<module>\u001b[0;34m\u001b[0m\n\u001b[1;32m      2\u001b[0m \u001b[0;32mimport\u001b[0m \u001b[0mgzip\u001b[0m\u001b[0;34m\u001b[0m\u001b[0;34m\u001b[0m\u001b[0m\n\u001b[1;32m      3\u001b[0m \u001b[0;34m\u001b[0m\u001b[0m\n\u001b[0;32m----> 4\u001b[0;31m \u001b[0;32mwith\u001b[0m \u001b[0mgzip\u001b[0m\u001b[0;34m.\u001b[0m\u001b[0mopen\u001b[0m\u001b[0;34m(\u001b[0m\u001b[0;34m'myfile.gz'\u001b[0m\u001b[0;34m,\u001b[0m \u001b[0;34m'rb'\u001b[0m\u001b[0;34m)\u001b[0m \u001b[0;32mas\u001b[0m \u001b[0mfh\u001b[0m\u001b[0;34m:\u001b[0m \u001b[0;31m# Note 'rb' as file opening mode\u001b[0m\u001b[0;34m\u001b[0m\u001b[0;34m\u001b[0m\u001b[0m\n\u001b[0m\u001b[1;32m      5\u001b[0m     \u001b[0;32mfor\u001b[0m \u001b[0mline\u001b[0m \u001b[0;32min\u001b[0m \u001b[0mfh\u001b[0m\u001b[0;34m:\u001b[0m\u001b[0;34m\u001b[0m\u001b[0;34m\u001b[0m\u001b[0m\n\u001b[1;32m      6\u001b[0m         \u001b[0;32mpass\u001b[0m\u001b[0;34m\u001b[0m\u001b[0;34m\u001b[0m\u001b[0m\n",
      "\u001b[0;32m~/miniconda3/envs/pydata/lib/python3.9/gzip.py\u001b[0m in \u001b[0;36mopen\u001b[0;34m(filename, mode, compresslevel, encoding, errors, newline)\u001b[0m\n\u001b[1;32m     56\u001b[0m     \u001b[0mgz_mode\u001b[0m \u001b[0;34m=\u001b[0m \u001b[0mmode\u001b[0m\u001b[0;34m.\u001b[0m\u001b[0mreplace\u001b[0m\u001b[0;34m(\u001b[0m\u001b[0;34m\"t\"\u001b[0m\u001b[0;34m,\u001b[0m \u001b[0;34m\"\"\u001b[0m\u001b[0;34m)\u001b[0m\u001b[0;34m\u001b[0m\u001b[0;34m\u001b[0m\u001b[0m\n\u001b[1;32m     57\u001b[0m     \u001b[0;32mif\u001b[0m \u001b[0misinstance\u001b[0m\u001b[0;34m(\u001b[0m\u001b[0mfilename\u001b[0m\u001b[0;34m,\u001b[0m \u001b[0;34m(\u001b[0m\u001b[0mstr\u001b[0m\u001b[0;34m,\u001b[0m \u001b[0mbytes\u001b[0m\u001b[0;34m,\u001b[0m \u001b[0mos\u001b[0m\u001b[0;34m.\u001b[0m\u001b[0mPathLike\u001b[0m\u001b[0;34m)\u001b[0m\u001b[0;34m)\u001b[0m\u001b[0;34m:\u001b[0m\u001b[0;34m\u001b[0m\u001b[0;34m\u001b[0m\u001b[0m\n\u001b[0;32m---> 58\u001b[0;31m         \u001b[0mbinary_file\u001b[0m \u001b[0;34m=\u001b[0m \u001b[0mGzipFile\u001b[0m\u001b[0;34m(\u001b[0m\u001b[0mfilename\u001b[0m\u001b[0;34m,\u001b[0m \u001b[0mgz_mode\u001b[0m\u001b[0;34m,\u001b[0m \u001b[0mcompresslevel\u001b[0m\u001b[0;34m)\u001b[0m\u001b[0;34m\u001b[0m\u001b[0;34m\u001b[0m\u001b[0m\n\u001b[0m\u001b[1;32m     59\u001b[0m     \u001b[0;32melif\u001b[0m \u001b[0mhasattr\u001b[0m\u001b[0;34m(\u001b[0m\u001b[0mfilename\u001b[0m\u001b[0;34m,\u001b[0m \u001b[0;34m\"read\"\u001b[0m\u001b[0;34m)\u001b[0m \u001b[0;32mor\u001b[0m \u001b[0mhasattr\u001b[0m\u001b[0;34m(\u001b[0m\u001b[0mfilename\u001b[0m\u001b[0;34m,\u001b[0m \u001b[0;34m\"write\"\u001b[0m\u001b[0;34m)\u001b[0m\u001b[0;34m:\u001b[0m\u001b[0;34m\u001b[0m\u001b[0;34m\u001b[0m\u001b[0m\n\u001b[1;32m     60\u001b[0m         \u001b[0mbinary_file\u001b[0m \u001b[0;34m=\u001b[0m \u001b[0mGzipFile\u001b[0m\u001b[0;34m(\u001b[0m\u001b[0;32mNone\u001b[0m\u001b[0;34m,\u001b[0m \u001b[0mgz_mode\u001b[0m\u001b[0;34m,\u001b[0m \u001b[0mcompresslevel\u001b[0m\u001b[0;34m,\u001b[0m \u001b[0mfilename\u001b[0m\u001b[0;34m)\u001b[0m\u001b[0;34m\u001b[0m\u001b[0;34m\u001b[0m\u001b[0m\n",
      "\u001b[0;32m~/miniconda3/envs/pydata/lib/python3.9/gzip.py\u001b[0m in \u001b[0;36m__init__\u001b[0;34m(self, filename, mode, compresslevel, fileobj, mtime)\u001b[0m\n\u001b[1;32m    171\u001b[0m             \u001b[0mmode\u001b[0m \u001b[0;34m+=\u001b[0m \u001b[0;34m'b'\u001b[0m\u001b[0;34m\u001b[0m\u001b[0;34m\u001b[0m\u001b[0m\n\u001b[1;32m    172\u001b[0m         \u001b[0;32mif\u001b[0m \u001b[0mfileobj\u001b[0m \u001b[0;32mis\u001b[0m \u001b[0;32mNone\u001b[0m\u001b[0;34m:\u001b[0m\u001b[0;34m\u001b[0m\u001b[0;34m\u001b[0m\u001b[0m\n\u001b[0;32m--> 173\u001b[0;31m             \u001b[0mfileobj\u001b[0m \u001b[0;34m=\u001b[0m \u001b[0mself\u001b[0m\u001b[0;34m.\u001b[0m\u001b[0mmyfileobj\u001b[0m \u001b[0;34m=\u001b[0m \u001b[0mbuiltins\u001b[0m\u001b[0;34m.\u001b[0m\u001b[0mopen\u001b[0m\u001b[0;34m(\u001b[0m\u001b[0mfilename\u001b[0m\u001b[0;34m,\u001b[0m \u001b[0mmode\u001b[0m \u001b[0;32mor\u001b[0m \u001b[0;34m'rb'\u001b[0m\u001b[0;34m)\u001b[0m\u001b[0;34m\u001b[0m\u001b[0;34m\u001b[0m\u001b[0m\n\u001b[0m\u001b[1;32m    174\u001b[0m         \u001b[0;32mif\u001b[0m \u001b[0mfilename\u001b[0m \u001b[0;32mis\u001b[0m \u001b[0;32mNone\u001b[0m\u001b[0;34m:\u001b[0m\u001b[0;34m\u001b[0m\u001b[0;34m\u001b[0m\u001b[0m\n\u001b[1;32m    175\u001b[0m             \u001b[0mfilename\u001b[0m \u001b[0;34m=\u001b[0m \u001b[0mgetattr\u001b[0m\u001b[0;34m(\u001b[0m\u001b[0mfileobj\u001b[0m\u001b[0;34m,\u001b[0m \u001b[0;34m'name'\u001b[0m\u001b[0;34m,\u001b[0m \u001b[0;34m''\u001b[0m\u001b[0;34m)\u001b[0m\u001b[0;34m\u001b[0m\u001b[0;34m\u001b[0m\u001b[0m\n",
      "\u001b[0;31mFileNotFoundError\u001b[0m: [Errno 2] No such file or directory: 'myfile.gz'"
     ]
    }
   ],
   "source": [
    "# We can also work with gzipped files\n",
    "import gzip\n",
    "\n",
    "with gzip.open('myfile.gz', 'rb') as fh: # Note 'rb' as file opening mode\n",
    "    for line in fh:\n",
    "        pass\n",
    "        # Do something"
   ]
  },
  {
   "cell_type": "code",
   "execution_count": 70,
   "metadata": {},
   "outputs": [
    {
     "name": "stdout",
     "output_type": "stream",
     "text": [
      "Outer function a: 1\n",
      "a 1 : b 8\n",
      "Outer function b: 8\n",
      "INNER y 2\n",
      "INNER a 1\n",
      "Calling inner function: 4\n",
      "18274368\n"
     ]
    }
   ],
   "source": [
    "x = 18274368\n",
    "\n",
    "def stupid_function(a, b):\n",
    "    def inner(y):\n",
    "        y += a # same as y = y + a\n",
    "        print(f'INNER y {y}')\n",
    "        print(f'INNER a {a}')\n",
    "        return y**2\n",
    "    \n",
    "    print(f'Outer function a: {a}')\n",
    "    print('a {x} : b {y}'.format(x=a, y=b))\n",
    "    print(f'Outer function b: {b}')\n",
    "    print(f'Calling inner function: {inner(a)}')\n",
    "    return a + b\n",
    "\n",
    "\n",
    "stupid_function(1, 8)\n",
    "print(x)"
   ]
  },
  {
   "cell_type": "code",
   "execution_count": 71,
   "metadata": {},
   "outputs": [
    {
     "data": {
      "text/plain": [
       "[1, 4, 9, 16, 25, 36, 49, 64, 81, 100]"
      ]
     },
     "execution_count": 71,
     "metadata": {},
     "output_type": "execute_result"
    }
   ],
   "source": [
    "def less_stupid(a, b, x=None):\n",
    "    y = a + b\n",
    "    if x is not None:\n",
    "         y = y**x\n",
    "    return y\n",
    "\n",
    "less_stupid(1, 1)\n",
    "\n",
    "[less_stupid(1,i, x=2) for i in range(10)]\n",
    "\n"
   ]
  },
  {
   "cell_type": "code",
   "execution_count": 72,
   "metadata": {},
   "outputs": [
    {
     "data": {
      "text/plain": [
       "'adkfhbsdgsfjgbdf'"
      ]
     },
     "execution_count": 72,
     "metadata": {},
     "output_type": "execute_result"
    }
   ],
   "source": [
    "s = 'adkfhbsdg'\n",
    "s = s + 'sfjgbdf'\n",
    "s"
   ]
  },
  {
   "cell_type": "code",
   "execution_count": 73,
   "metadata": {},
   "outputs": [
    {
     "name": "stdout",
     "output_type": "stream",
     "text": [
      "CTTTATCTAGGGTCTAC\n"
     ]
    },
    {
     "data": {
      "text/plain": [
       "'CATCTGGGATCTATTTC'"
      ]
     },
     "execution_count": 73,
     "metadata": {},
     "output_type": "execute_result"
    }
   ],
   "source": [
    "seq = 'GAAATAGATCCCAGATG'\n",
    "d = {'A': 'T', 'C': 'G', 'T': 'A', 'G': 'C'}\n",
    "new_seq = ''\n",
    "\n",
    "for nucleotide in seq:\n",
    "    new_seq += d[nucleotide]\n",
    "\n",
    "print(new_seq)\n",
    "    \n",
    "new_seq[::-1]"
   ]
  },
  {
   "cell_type": "code",
   "execution_count": 6,
   "metadata": {},
   "outputs": [],
   "source": [
    "\n",
    "def rc(seq):\n",
    "    DNA = {'A': 'T', 'C': 'G', 'T': 'A', 'G': 'C',}\n",
    "    RNA = {'A': 'U', 'C': 'G', 'U': 'A', 'G': 'C',}\n",
    "\n",
    "    seq = seq.upper()\n",
    "    if 'U' in seq:\n",
    "        d = RNA\n",
    "    else:\n",
    "        d = DNA\n",
    "    new_seq = ''\n",
    "    for nucleotide in seq:\n",
    "        new_seq += d[nucleotide]\n",
    "    return new_seq[::-1]"
   ]
  },
  {
   "cell_type": "code",
   "execution_count": 104,
   "metadata": {},
   "outputs": [
    {
     "data": {
      "text/plain": [
       "'GCUUGGCAACAAAU'"
      ]
     },
     "execution_count": 104,
     "metadata": {},
     "output_type": "execute_result"
    }
   ],
   "source": [
    "rc('auuuguugccaagc')"
   ]
  },
  {
   "cell_type": "code",
   "execution_count": 1,
   "metadata": {},
   "outputs": [
    {
     "data": {
      "text/plain": [
       "'/home/ilya/src/biodata/sessions'"
      ]
     },
     "execution_count": 1,
     "metadata": {},
     "output_type": "execute_result"
    }
   ],
   "source": [
    "pwd"
   ]
  },
  {
   "cell_type": "code",
   "execution_count": 2,
   "metadata": {},
   "outputs": [
    {
     "name": "stdout",
     "output_type": "stream",
     "text": [
      "-rw-rw-r-- 1 ilya ilya 500K Jul 29 13:08 contigs.fasta\n",
      "-rw-rw-r-- 1 ilya ilya 457K Jul 29 13:08 dfa_mp.offset_150.win_100.csv\n",
      "-rw-rw-r-- 1 ilya ilya 461K Jul 29 13:08 dfa_mp.offset_150.win_200.csv\n",
      "-rw-rw-r-- 1 ilya ilya 453K Jul 29 13:08 dfa_mp.offset_150.win_50.csv\n",
      "-rw-rw-r-- 1 ilya ilya 455K Jul 29 13:08 dfa_mp.offset_150.win_80.csv\n",
      "-rw-rw-r-- 1 ilya ilya 457K Jul 29 13:08 dfa_mp.offset_200.win_100.csv\n",
      "-rw-rw-r-- 1 ilya ilya 461K Jul 29 13:08 dfa_mp.offset_200.win_200.csv\n",
      "-rw-rw-r-- 1 ilya ilya 454K Jul 29 13:08 dfa_mp.offset_200.win_50.csv\n",
      "-rw-rw-r-- 1 ilya ilya 456K Jul 29 13:08 dfa_mp.offset_200.win_80.csv\n",
      "-rw-rw-r-- 1 ilya ilya 457K Jul 29 13:08 dfa_mp.offset_300.win_100.csv\n",
      "-rw-rw-r-- 1 ilya ilya 461K Jul 29 13:08 dfa_mp.offset_300.win_200.csv\n",
      "-rw-rw-r-- 1 ilya ilya 454K Jul 29 13:08 dfa_mp.offset_300.win_50.csv\n",
      "-rw-rw-r-- 1 ilya ilya 455K Jul 29 13:08 dfa_mp.offset_300.win_80.csv\n",
      "-rw-rw-r-- 1 ilya ilya  644 Jul 29 13:08 dHSR1.fa\n",
      "-rw-rw-r-- 1 ilya ilya  445 Jul 29 13:08 hHSR-435.fa\n",
      "-rw-rw-r-- 1 ilya ilya  643 Oct  7 17:43 hHSR.fa\n",
      "-rw-rw-r-- 1 ilya ilya  126 Jul 29 13:08 rose.fa\n"
     ]
    }
   ],
   "source": [
    "ls -lah ../data | grep .fa"
   ]
  },
  {
   "cell_type": "code",
   "execution_count": 3,
   "metadata": {},
   "outputs": [
    {
     "name": "stdout",
     "output_type": "stream",
     "text": [
      ">dHSR1\n",
      "TCTCGCTATGCGTCACGTTAAAAATAATGAATTGCCGGACAAAATGTTTACACGAAATCAGCGAAAAAGCCATTTGCCTAAATAAGAAAGATTGCGAAACCAAGGAGCAAGCGAGGGATACTTGCACTTCCAGCTTTACCCTTCGCGTGCAATTATGAAGATTGATAGATACATTCCTTCCGAATCCAGGCCCAGACCCCCCACCCCGCCTTCAAAAAAGCTCATGCATTTCCCGCTCCCGTTGGCTGTGTCGCCAAAGCAACTTCCTGCCACACAAGCTGCCCCAAGCCGCTCGAGTCCTTCACTCCTTTGACAAATCTGACAGCTGGCCCGAAAAAGAAGCGAGTGTTTTTGTACCTCCAACCACCAGAAGGAGCTGAACAACATAAAGCTTATGCTGGCAACAAAGGGGGTGAATGGAAGGGATGGGCTGGTTGGTTAGAGGGGCGGCAGTCATTATCAAGCCCTTCAAGGTCTCTCAAGGCAAGCGTCTGCCTCACAGATTTTTATGTTCACGACACGCACACACTCGAGTGGGGGTGGTCTCATATATTTTATGAAAATTAGGAGACCCTGACTGAGTGCGAGGGAAGTCGGAATGTGGCCATAAATAAATGGTCTCCTTTACGACTTTGG\n"
     ]
    }
   ],
   "source": [
    "!head ../data/dHSR1.fa"
   ]
  },
  {
   "cell_type": "code",
   "execution_count": 113,
   "metadata": {},
   "outputs": [
    {
     "data": {
      "text/plain": [
       "'abbf'"
      ]
     },
     "execution_count": 113,
     "metadata": {},
     "output_type": "execute_result"
    }
   ],
   "source": [
    "l = ['a','b','b','f']\n",
    "''.join(l)"
   ]
  },
  {
   "cell_type": "code",
   "execution_count": 4,
   "metadata": {},
   "outputs": [],
   "source": [
    "def rc_fasta(filename):\n",
    "    seq_lines = []\n",
    "    with open(filename, 'rt') as fh:\n",
    "        for line in fh:\n",
    "            line = line.strip()\n",
    "            if line.startswith('>'):\n",
    "                name = line\n",
    "            else:\n",
    "                seq_lines.append(line)\n",
    "    rc_seq = rc(''.join(seq_lines))\n",
    "    with open(name[1:], 'wt') as fh:\n",
    "        fh.write(f'{name}_rc\\n{rc_seq}')\n",
    "        #fh.write('{n}_rc\\n{s}'.format(n=name, s=rc_seq))"
   ]
  },
  {
   "cell_type": "code",
   "execution_count": 8,
   "metadata": {},
   "outputs": [
    {
     "name": "stdout",
     "output_type": "stream",
     "text": [
      "total 2.1M\n",
      "drwxrwxr-x 5 ilya ilya 4.0K Nov  4 16:36  \u001b[0m\u001b[01;34m.\u001b[0m/\n",
      "drwxrwxr-x 6 ilya ilya 4.0K Oct  7 17:23  \u001b[01;34m..\u001b[0m/\n",
      "-rw-rw-r-- 1 ilya ilya 2.1K Jul 29 13:08 '00 - Intro.ipynb'\n",
      "-rw-rw-r-- 1 ilya ilya  30K Aug  4 13:20 '01 - BASH basics.ipynb'\n",
      "-rw-rw-r-- 1 ilya ilya 5.7K Jul 29 13:08 '03 - Environments.ipynb'\n",
      "-rw-rw-r-- 1 ilya ilya 9.5K Jul 29 13:08 '04 - Formats and tools.ipynb'\n",
      "-rw-rw-r-- 1 ilya ilya  65K Nov  4 16:36 '05 - Python.ipynb'\n",
      "-rw-rw-r-- 1 ilya ilya  11K Jul 29 13:08 '06 - Git (version control).ipynb'\n",
      "-rw-rw-r-- 1 ilya ilya 538K Jul 29 13:08 '07.1 - Plotting (Altair).ipynb'\n",
      "-rw-rw-r-- 1 ilya ilya 1.2M Jul 29 13:08 '07.2 - Plotting (plotnine aka ggplot for python).ipynb'\n",
      "-rw-rw-r-- 1 ilya ilya  646 Nov  4 16:34  dHSR1\n",
      "drwxrwxr-x 3 ilya ilya 4.0K Sep 17 14:33  \u001b[01;34mexamples\u001b[0m/\n",
      "-rw-rw-r-- 1 ilya ilya  55K Jul 29 13:08  grad.ipynb\n",
      "drwxrwxr-x 2 ilya ilya 4.0K Jul 29 13:16  \u001b[01;34m.ipynb_checkpoints\u001b[0m/\n",
      "-rw-rw-r-- 1 ilya ilya 7.5K Jul 29 13:08  Stats.ipynb\n",
      "drwxrwxr-x 2 ilya ilya 4.0K Jul 29 13:08  \u001b[01;34mtemplates\u001b[0m/\n",
      "-rw-rw-r-- 1 ilya ilya 1.1K Jul 29 13:08  Visualization.ipynb\n"
     ]
    }
   ],
   "source": [
    "ls -lah"
   ]
  },
  {
   "cell_type": "code",
   "execution_count": 7,
   "metadata": {},
   "outputs": [
    {
     "name": "stdout",
     "output_type": "stream",
     "text": [
      ">dHSR1_rc\n",
      "CCAAAGTCGTAAAGGAGACCATTTATTTATGGCCACATTCCGACTTCCCTCGCACTCAGTCAGGGTCTCCTAATTTTCATAAAATATATGAGACCACCCCCACTCGAGTGTGTGCGTGTCGTGAACATAAAAATCTGTGAGGCAGACGCTTGCCTTGAGAGACCTTGAAGGGCTTGATAATGACTGCCGCCCCTCTAACCAACCAGCCCATCCCTTCCATTCACCCCCTTTGTTGCCAGCATAAGCTTTATGTTGTTCAGCTCCTTCTGGTGGTTGGAGGTACAAAAACACTCGCTTCTTTTTCGGGCCAGCTGTCAGATTTGTCAAAGGAGTGAAGGACTCGAGCGGCTTGGGGCAGCTTGTGTGGCAGGAAGTTGCTTTGGCGACACAGCCAACGGGAGCGGGAAATGCATGAGCTTTTTTGAAGGCGGGGTGGGGGGTCTGGGCCTGGATTCGGAAGGAATGTATCTATCAATCTTCATAATTGCACGCGAAGGGTAAAGCTGGAAGTGCAAGTATCCCTCGCTTGCTCCTTGGTTTCGCAATCTTTCTTATTTAGGCAAATGGCTTTTTCGCTGATTTCGTGTAAACATTTTGTCCGGCAATTCATTATTTTTAACGTGACGCATAGCGAGA"
     ]
    }
   ],
   "source": [
    "rc_fasta('../data/dHSR1.fa')\n",
    "!head dHSR1"
   ]
  },
  {
   "cell_type": "code",
   "execution_count": null,
   "metadata": {},
   "outputs": [],
   "source": [
    "def rc_fastas(filename):\n",
    "    sequences = {}\n",
    "    with open(filename, 'rt') as fh:\n",
    "        seq_lines = []\n",
    "        for line in fh:\n",
    "            line = line.strip()\n",
    "            if line.startswith('>'):\n",
    "                if seq_lines:\n",
    "                    sequences[name] = ''.join(seq_lines)\n",
    "                    name = line\n",
    "                    seq_lines = []\n",
    "                else:\n",
    "                    name = line\n",
    "            else:\n",
    "                seq_lines.append(line)\n",
    "                \n",
    "    with open(f'RC_{filename}', 'wt') as fh:\n",
    "        for name,seq in sequences.items():\n",
    "            rc_seq = rc(seq)\n",
    "            fh.write(f'{name}_rc\\n{rc_seq}')\n",
    "        #fh.write('{n}_rc\\n{s}'.format(n=name, s=rc_seq))"
   ]
  },
  {
   "cell_type": "code",
   "execution_count": 76,
   "metadata": {},
   "outputs": [],
   "source": [
    "def rc1(seq):\n",
    "    d = {'A': 'T', 'C': 'G', 'T': 'A', 'G': 'C'}\n",
    "    new_seq = [d[nucleotide.upper()] for nucleotide in seq]\n",
    "\n",
    "    return new_seq[::-1]"
   ]
  },
  {
   "cell_type": "code",
   "execution_count": 77,
   "metadata": {},
   "outputs": [
    {
     "data": {
      "text/plain": [
       "'AGCCCCTAGCGATC'"
      ]
     },
     "execution_count": 77,
     "metadata": {},
     "output_type": "execute_result"
    }
   ],
   "source": [
    "s = rc1('gatcgctaggggct')\n",
    "''.join(s)"
   ]
  },
  {
   "cell_type": "code",
   "execution_count": 78,
   "metadata": {},
   "outputs": [],
   "source": [
    "def rc_short(seq):\n",
    "    d = {'A': 'T', 'C': 'G', 'T': 'A', 'G': 'C'}\n",
    "    return ''.join([d[nucleotide.upper()] for nucleotide in seq])[::-1]"
   ]
  },
  {
   "cell_type": "markdown",
   "metadata": {},
   "source": [
    "## Standard library\n",
    "\n",
    "Python has expansive standard library and comprehensive, accessible documentation complete with examples. Some of the must-know modules:\n",
    "\n",
    "- `collections`\n",
    "- `itertools`\n",
    "- `os` and particularly `os.path`\n",
    "- `re`"
   ]
  },
  {
   "cell_type": "markdown",
   "metadata": {},
   "source": [
    "## Comparisons\n",
    "\n",
    "In comparison operations each operand is first cast to `boolean`.\n",
    "\n",
    "The `boolean` type is a subclass of `int` (`False ~ 0, True ~ 1`) mainly for historical reasons."
   ]
  },
  {
   "cell_type": "code",
   "execution_count": null,
   "metadata": {},
   "outputs": [],
   "source": [
    "a = 1\n",
    "b = 0\n",
    "if 0 < a < 2:\n",
    "    print('a is True!')\n",
    "if not b:\n",
    "    print('b is False!')"
   ]
  },
  {
   "cell_type": "code",
   "execution_count": null,
   "metadata": {},
   "outputs": [],
   "source": [
    "s1 = 'Fox'\n",
    "s2 = 'Dog'\n",
    "\n",
    "# Equality check\n",
    "if s1 != s2:\n",
    "    print('s1 and s2 are different')\n",
    "    \n",
    "# Identity check\n",
    "if s1 is s2:\n",
    "    pass\n",
    "else:\n",
    "    print('s1 and s2 are not the same thing!')"
   ]
  },
  {
   "cell_type": "code",
   "execution_count": null,
   "metadata": {},
   "outputs": [],
   "source": [
    "s2 = s1\n",
    "\n",
    "# Identity check\n",
    "if s1 is s2:\n",
    "    print('s1 and s2 POINT to the same thing')\n",
    "else:\n",
    "    print('s1 and s2 are not the same thing!')"
   ]
  },
  {
   "cell_type": "code",
   "execution_count": null,
   "metadata": {},
   "outputs": [],
   "source": [
    "# This however doesn't work for integers\n",
    "b = 1\n",
    "if a == b:\n",
    "    print('a and b are equal!')\n",
    "    \n",
    "if a is b:\n",
    "    print('a and b are not the same thing!')\n",
    "    \n",
    "# Implementation detail: integers from -5 to ~256 are cached (singletons)"
   ]
  },
  {
   "cell_type": "code",
   "execution_count": null,
   "metadata": {},
   "outputs": [],
   "source": [
    "# Empty sequence types evaluate to False, non-empty ones to True\n",
    "lst1 = []\n",
    "lst2 = ['a']\n",
    "\n",
    "if lst1 and lst2:\n",
    "    print('Both lists are non-empty.')\n",
    "else:\n",
    "    print('One of the lists is empty.')"
   ]
  },
  {
   "cell_type": "code",
   "execution_count": null,
   "metadata": {},
   "outputs": [],
   "source": [
    "if lst1:\n",
    "    pass\n",
    "else:\n",
    "    print('Empty')"
   ]
  },
  {
   "cell_type": "code",
   "execution_count": null,
   "metadata": {},
   "outputs": [],
   "source": [
    "# Another singleton\n",
    "a = None"
   ]
  },
  {
   "cell_type": "markdown",
   "metadata": {},
   "source": [
    "## Example"
   ]
  },
  {
   "cell_type": "code",
   "execution_count": 4,
   "metadata": {},
   "outputs": [
    {
     "name": "stdout",
     "output_type": "stream",
     "text": [
      "total 16M\n",
      "drwxrwxr-x 2 ilya ilya  12K Aug  4 12:47 .\n",
      "drwxrwxr-x 6 ilya ilya 4.0K Oct  7 17:23 ..\n",
      "-rw-rw-r-- 1 ilya ilya 1.6K Jul 29 13:08 2017-03-09_NextSeq.csv\n",
      "-rw-rw-r-- 1 ilya ilya 1.5M Jul 29 13:08 CE_exp.tab\n",
      "-rw-rw-r-- 1 ilya ilya 1.5M Jul 29 13:08 CE_exp.umi.tab\n",
      "-rw-rw-r-- 1 ilya ilya 500K Jul 29 13:08 contigs.fasta\n",
      "-rw-rw-r-- 1 ilya ilya 457K Jul 29 13:08 dfa_mp.offset_150.win_100.csv\n",
      "-rw-rw-r-- 1 ilya ilya 461K Jul 29 13:08 dfa_mp.offset_150.win_200.csv\n",
      "-rw-rw-r-- 1 ilya ilya 453K Jul 29 13:08 dfa_mp.offset_150.win_50.csv\n",
      "-rw-rw-r-- 1 ilya ilya 455K Jul 29 13:08 dfa_mp.offset_150.win_80.csv\n",
      "-rw-rw-r-- 1 ilya ilya 457K Jul 29 13:08 dfa_mp.offset_200.win_100.csv\n",
      "-rw-rw-r-- 1 ilya ilya 461K Jul 29 13:08 dfa_mp.offset_200.win_200.csv\n",
      "-rw-rw-r-- 1 ilya ilya 454K Jul 29 13:08 dfa_mp.offset_200.win_50.csv\n",
      "-rw-rw-r-- 1 ilya ilya 456K Jul 29 13:08 dfa_mp.offset_200.win_80.csv\n",
      "-rw-rw-r-- 1 ilya ilya 457K Jul 29 13:08 dfa_mp.offset_300.win_100.csv\n",
      "-rw-rw-r-- 1 ilya ilya 461K Jul 29 13:08 dfa_mp.offset_300.win_200.csv\n",
      "-rw-rw-r-- 1 ilya ilya 454K Jul 29 13:08 dfa_mp.offset_300.win_50.csv\n",
      "-rw-rw-r-- 1 ilya ilya 455K Jul 29 13:08 dfa_mp.offset_300.win_80.csv\n",
      "-rw-rw-r-- 1 ilya ilya 603K Jul 29 13:08 dfm.csv\n",
      "-rw-rw-r-- 1 ilya ilya  644 Jul 29 13:08 dHSR1.fa\n",
      "-rw-rw-r-- 1 ilya ilya 5.4K Jul 29 13:08 gradtimes.txt\n",
      "-rw-rw-r-- 1 ilya ilya  445 Jul 29 13:08 hHSR-435.fa\n",
      "-rw-rw-r-- 1 ilya ilya  643 Oct  7 17:43 hHSR.fa\n",
      "-rw-rw-r-- 1 ilya ilya 2.5K Jul 29 13:08 Lexogen_Sense_RNA-Seq.csv\n",
      "-rw-rw-r-- 1 ilya ilya 2.5M Aug  4 12:47 NC_000913-1.gff\n",
      "-rw-rw-r-- 1 ilya ilya 4.0K Jul 29 13:08 ROSE1_25.txt\n",
      "-rw-rw-r-- 1 ilya ilya 4.2K Jul 29 13:08 ROSE1_26.txt\n",
      "-rw-rw-r-- 1 ilya ilya 4.3K Jul 29 13:08 ROSE1_27.txt\n",
      "-rw-rw-r-- 1 ilya ilya 4.4K Jul 29 13:08 ROSE1_28.txt\n",
      "-rw-rw-r-- 1 ilya ilya 4.5K Jul 29 13:08 ROSE1_29.txt\n",
      "-rw-rw-r-- 1 ilya ilya 4.7K Jul 29 13:08 ROSE1_30.txt\n",
      "-rw-rw-r-- 1 ilya ilya 5.0K Jul 29 13:08 ROSE1_31.txt\n",
      "-rw-rw-r-- 1 ilya ilya 5.2K Jul 29 13:08 ROSE1_32.txt\n",
      "-rw-rw-r-- 1 ilya ilya 5.7K Jul 29 13:08 ROSE1_33.txt\n",
      "-rw-rw-r-- 1 ilya ilya 6.0K Jul 29 13:08 ROSE1_34.txt\n",
      "-rw-rw-r-- 1 ilya ilya 6.5K Jul 29 13:08 ROSE1_35.txt\n",
      "-rw-rw-r-- 1 ilya ilya 6.7K Jul 29 13:08 ROSE1_36.txt\n",
      "-rw-rw-r-- 1 ilya ilya 7.1K Jul 29 13:08 ROSE1_37.txt\n",
      "-rw-rw-r-- 1 ilya ilya 7.8K Jul 29 13:08 ROSE1_38.txt\n",
      "-rw-rw-r-- 1 ilya ilya 8.1K Jul 29 13:08 ROSE1_39.txt\n",
      "-rw-rw-r-- 1 ilya ilya 8.2K Jul 29 13:08 ROSE1_40.txt\n",
      "-rw-rw-r-- 1 ilya ilya 8.6K Jul 29 13:08 ROSE1_41.txt\n",
      "-rw-rw-r-- 1 ilya ilya 8.8K Jul 29 13:08 ROSE1_42.txt\n",
      "-rw-rw-r-- 1 ilya ilya 9.3K Jul 29 13:08 ROSE1_43.txt\n",
      "-rw-rw-r-- 1 ilya ilya  10K Jul 29 13:08 ROSE1_44.txt\n",
      "-rw-rw-r-- 1 ilya ilya  11K Jul 29 13:08 ROSE1_45.txt\n",
      "-rw-rw-r-- 1 ilya ilya  11K Jul 29 13:08 ROSE1_46.txt\n",
      "-rw-rw-r-- 1 ilya ilya  126 Jul 29 13:08 rose.fa\n",
      "-rw-rw-r-- 1 ilya ilya 3.3M Jul 29 13:08 utr.counts.csv\n"
     ]
    }
   ],
   "source": [
    "!ls -lah ../data"
   ]
  },
  {
   "cell_type": "code",
   "execution_count": 5,
   "metadata": {},
   "outputs": [
    {
     "name": "stdout",
     "output_type": "stream",
     "text": [
      "##gff-version 3\n",
      "#!gff-spec-version 1.20\n",
      "#!processor NCBI annotwriter\n",
      "##sequence-region gi|556503834|ref|NC_000913.3| 1 4641652\n",
      "##species http://www.ncbi.nlm.nih.gov/Taxonomy/Browser/wwwtax.cgi?id=511145\n",
      "gi|556503834|ref|NC_000913.3|\tRefSeq\tregion\t1\t4641652\t.\t+\t.\tID=id0;Name=ANONYMOUS;Dbxref=taxon:511145;Is_circular=true;gbkey=Src;genome=chromosome;mol_type=genomic DNA;strain=K-12;substrain=MG1655\n",
      "gi|556503834|ref|NC_000913.3|\tRefSeq\tgene\t190\t255\t.\t+\t.\tID=gene0;Name=thrL;Dbxref=EcoGene:EG11277,GeneID:944742;gbkey=Gene;gene=thrL;gene_synonym=ECK0001,JW4367;locus_tag=b0001\n",
      "gi|556503834|ref|NC_000913.3|\tRefSeq\tCDS\t190\t255\t.\t+\t0\tID=cds0;Name=NP_414542.1;Parent=gene0;Dbxref=ASAP:ABE-0000006,UniProtKB%2FSwiss-Prot:P0AD86,Genbank:NP_414542.1,EcoGene:EG11277,GeneID:944742;gbkey=CDS;gene=thrL;product=thr operon leader peptide;protein_id=NP_414542.1;transl_table=11\n",
      "gi|556503834|ref|NC_000913.3|\tRefSeq\tgene\t337\t2799\t.\t+\t.\tID=gene1;Name=thrA;Dbxref=EcoGene:EG10998,GeneID:945803;gbkey=Gene;gene=thrA;gene_synonym=ECK0002,Hs,JW0001,thrA1,thrA2,thrD;locus_tag=b0002\n",
      "gi|556503834|ref|NC_000913.3|\tRefSeq\tCDS\t337\t2799\t.\t+\t0\tID=cds1;Name=NP_414543.1;Parent=gene1;Note=bifunctional: aspartokinase I %28N-terminal%29%3B homoserine dehydrogenase I %28C-terminal%29;Dbxref=ASAP:ABE-0000008,UniProtKB%2FSwiss-Prot:P00561,Genbank:NP_414543.1,EcoGene:EG10998,GeneID:945803;gbkey=CDS;gene=thrA;product=fused aspartokinase I and homoserine dehydrogenase I;protein_id=NP_414543.1;transl_table=11\n"
     ]
    }
   ],
   "source": [
    "!head ../data/NC_000913-1.gff"
   ]
  },
  {
   "cell_type": "code",
   "execution_count": 25,
   "metadata": {},
   "outputs": [
    {
     "name": "stdout",
     "output_type": "stream",
     "text": [
      "../data/NC_000913-1.gff\n"
     ]
    },
    {
     "data": {
      "text/html": [
       "<div>\n",
       "<style scoped>\n",
       "    .dataframe tbody tr th:only-of-type {\n",
       "        vertical-align: middle;\n",
       "    }\n",
       "\n",
       "    .dataframe tbody tr th {\n",
       "        vertical-align: top;\n",
       "    }\n",
       "\n",
       "    .dataframe thead th {\n",
       "        text-align: right;\n",
       "    }\n",
       "</style>\n",
       "<table border=\"1\" class=\"dataframe\">\n",
       "  <thead>\n",
       "    <tr style=\"text-align: right;\">\n",
       "      <th></th>\n",
       "      <th>reference</th>\n",
       "      <th>type</th>\n",
       "      <th>start</th>\n",
       "      <th>end</th>\n",
       "      <th>strand</th>\n",
       "      <th>gene</th>\n",
       "    </tr>\n",
       "  </thead>\n",
       "  <tbody>\n",
       "    <tr>\n",
       "      <th>2</th>\n",
       "      <td>gi|556503834|ref|NC_000913.3|</td>\n",
       "      <td>CDS</td>\n",
       "      <td>190</td>\n",
       "      <td>255</td>\n",
       "      <td>+</td>\n",
       "      <td>thrL</td>\n",
       "    </tr>\n",
       "    <tr>\n",
       "      <th>4</th>\n",
       "      <td>gi|556503834|ref|NC_000913.3|</td>\n",
       "      <td>CDS</td>\n",
       "      <td>337</td>\n",
       "      <td>2799</td>\n",
       "      <td>+</td>\n",
       "      <td>thrA</td>\n",
       "    </tr>\n",
       "    <tr>\n",
       "      <th>6</th>\n",
       "      <td>gi|556503834|ref|NC_000913.3|</td>\n",
       "      <td>CDS</td>\n",
       "      <td>2801</td>\n",
       "      <td>3733</td>\n",
       "      <td>+</td>\n",
       "      <td>thrB</td>\n",
       "    </tr>\n",
       "    <tr>\n",
       "      <th>8</th>\n",
       "      <td>gi|556503834|ref|NC_000913.3|</td>\n",
       "      <td>CDS</td>\n",
       "      <td>3734</td>\n",
       "      <td>5020</td>\n",
       "      <td>+</td>\n",
       "      <td>thrC</td>\n",
       "    </tr>\n",
       "    <tr>\n",
       "      <th>10</th>\n",
       "      <td>gi|556503834|ref|NC_000913.3|</td>\n",
       "      <td>CDS</td>\n",
       "      <td>5234</td>\n",
       "      <td>5530</td>\n",
       "      <td>+</td>\n",
       "      <td>yaaX</td>\n",
       "    </tr>\n",
       "    <tr>\n",
       "      <th>...</th>\n",
       "      <td>...</td>\n",
       "      <td>...</td>\n",
       "      <td>...</td>\n",
       "      <td>...</td>\n",
       "      <td>...</td>\n",
       "      <td>...</td>\n",
       "    </tr>\n",
       "    <tr>\n",
       "      <th>9661</th>\n",
       "      <td>gi|556503834|ref|NC_000913.3|</td>\n",
       "      <td>CDS</td>\n",
       "      <td>4636696</td>\n",
       "      <td>4638120</td>\n",
       "      <td>+</td>\n",
       "      <td>creC</td>\n",
       "    </tr>\n",
       "    <tr>\n",
       "      <th>9663</th>\n",
       "      <td>gi|556503834|ref|NC_000913.3|</td>\n",
       "      <td>CDS</td>\n",
       "      <td>4638178</td>\n",
       "      <td>4639530</td>\n",
       "      <td>+</td>\n",
       "      <td>creD</td>\n",
       "    </tr>\n",
       "    <tr>\n",
       "      <th>9665</th>\n",
       "      <td>gi|556503834|ref|NC_000913.3|</td>\n",
       "      <td>CDS</td>\n",
       "      <td>4639590</td>\n",
       "      <td>4640306</td>\n",
       "      <td>-</td>\n",
       "      <td>arcA</td>\n",
       "    </tr>\n",
       "    <tr>\n",
       "      <th>9667</th>\n",
       "      <td>gi|556503834|ref|NC_000913.3|</td>\n",
       "      <td>CDS</td>\n",
       "      <td>4640402</td>\n",
       "      <td>4640542</td>\n",
       "      <td>+</td>\n",
       "      <td>yjjY</td>\n",
       "    </tr>\n",
       "    <tr>\n",
       "      <th>9669</th>\n",
       "      <td>gi|556503834|ref|NC_000913.3|</td>\n",
       "      <td>CDS</td>\n",
       "      <td>4640942</td>\n",
       "      <td>4641628</td>\n",
       "      <td>+</td>\n",
       "      <td>yjtD</td>\n",
       "    </tr>\n",
       "  </tbody>\n",
       "</table>\n",
       "<p>4385 rows × 6 columns</p>\n",
       "</div>"
      ],
      "text/plain": [
       "                          reference type    start      end strand  gene\n",
       "2     gi|556503834|ref|NC_000913.3|  CDS      190      255      +  thrL\n",
       "4     gi|556503834|ref|NC_000913.3|  CDS      337     2799      +  thrA\n",
       "6     gi|556503834|ref|NC_000913.3|  CDS     2801     3733      +  thrB\n",
       "8     gi|556503834|ref|NC_000913.3|  CDS     3734     5020      +  thrC\n",
       "10    gi|556503834|ref|NC_000913.3|  CDS     5234     5530      +  yaaX\n",
       "...                             ...  ...      ...      ...    ...   ...\n",
       "9661  gi|556503834|ref|NC_000913.3|  CDS  4636696  4638120      +  creC\n",
       "9663  gi|556503834|ref|NC_000913.3|  CDS  4638178  4639530      +  creD\n",
       "9665  gi|556503834|ref|NC_000913.3|  CDS  4639590  4640306      -  arcA\n",
       "9667  gi|556503834|ref|NC_000913.3|  CDS  4640402  4640542      +  yjjY\n",
       "9669  gi|556503834|ref|NC_000913.3|  CDS  4640942  4641628      +  yjtD\n",
       "\n",
       "[4385 rows x 6 columns]"
      ]
     },
     "execution_count": 25,
     "metadata": {},
     "output_type": "execute_result"
    }
   ],
   "source": [
    "import os\n",
    "import csv\n",
    "import pandas as pd\n",
    "\n",
    "def parse_gff(filename, dirname='../results', info_field='gene'):\n",
    "    csvfile = os.path.join(dirname, filename)\n",
    "    #cnt = 0\n",
    "    result = []\n",
    "    with open(csvfile, 'rt') as fh:\n",
    "        for cnt,line in enumerate(fh):\n",
    "            line = line.strip()\n",
    "            if line.startswith('#'):\n",
    "                continue\n",
    "            else:\n",
    "                fields = line.split('\\t')\n",
    "                #print(fields[0], fields[2], fields[3], fields[4], fields[6])\n",
    "                #print(fields[8].split(';'))\n",
    "                rec = {\n",
    "                    'reference': fields[0],\n",
    "                    'type': fields[2],\n",
    "                    'start': fields[3],\n",
    "                    'end': fields[4],\n",
    "                    'strand': fields[6],\n",
    "                    #info_field: None\n",
    "                }\n",
    "                for f in fields[8].split(';'):\n",
    "                    key,value = f.split('=')\n",
    "                    if key == info_field:\n",
    "                        rec[info_field] = value\n",
    "                result.append(rec)\n",
    "            #cnt += 1\n",
    "            #if cnt > 20:\n",
    "            #    break\n",
    "    print(csvfile)\n",
    "    return pd.DataFrame(result)\n",
    "    \n",
    "gff = parse_gff('NC_000913-1.gff', dirname='../data')\n",
    "gff[gff['type']=='CDS']"
   ]
  },
  {
   "cell_type": "markdown",
   "metadata": {},
   "source": [
    "https://docs.python.org/3/library/csv.html\n",
    "\n",
    "DictReader"
   ]
  },
  {
   "cell_type": "code",
   "execution_count": null,
   "metadata": {
    "scrolled": true
   },
   "outputs": [],
   "source": [
    "with gzip.open(filename, 'rb') as pileup:\n",
    "        reader = csv.DictReader(pileup,\n",
    "                        delimiter='\\t',\n",
    "                        fieldnames=['seqname', 'pos', 'base', 'coverage', 'details', 'qual'])\n",
    "        data = []\n",
    "        for rec in reader:\n",
    "            pos = int(rec['pos'])\n",
    "            last = rec\n",
    "            if pos == 1:\n",
    "                data.append({'pos': 0, 'base': '*',\n",
    "                             track: rec['details'].count('^')})\n",
    "            else:\n",
    "                data.append({'pos': pos-1, 'base': last['base'],\n",
    "                             track: rec['details'].count('^')})\n",
    "    return pd.DataFrame.from_records(data)\n",
    "df = parse_pileup('AAGCTA', dirname='../data', sample_id='R2')"
   ]
  },
  {
   "cell_type": "code",
   "execution_count": null,
   "metadata": {
    "scrolled": true
   },
   "outputs": [],
   "source": [
    "df"
   ]
  },
  {
   "cell_type": "markdown",
   "metadata": {},
   "source": [
    "## Assignment\n",
    "\n",
    "Do the summary of E.coli `.gff` file in python\n",
    "\n",
    "### EXTRA CREDIT:\n",
    ">Find all occurences of the sequence `GGGGCGGGGG` in E.coli genome\n",
    "\n",
    "### EXTRA EXTRA CREDIT:\n",
    ">Find all _almost_ exact occurences of the same sequence in E.coli genome (ftp://ftp.ncbi.nlm.nih.gov/genomes/all/GCF_000005845.2_ASM584v2/GCF_000005845.2_ASM584v2_genomic.fna.gz)"
   ]
  },
  {
   "cell_type": "code",
   "execution_count": null,
   "metadata": {},
   "outputs": [],
   "source": [
    "import gzip\n",
    "from collections import Counter\n",
    "\n",
    "foo = 'bar'\n",
    "\n",
    "def column_stat(filename, col=2, sep='\\t'):\n",
    "    counter = Counter()\n",
    "    foo = 'BAZ'\n",
    "    print(foo)\n",
    "    with gzip.open(filename) as fi:\n",
    "        for line in fi:\n",
    "            line_norm = line.strip()\n",
    "            if line and (not line_norm.startswith('#')):\n",
    "                fields = line_norm.split(sep)\n",
    "                counter[fields[col]] += 1\n",
    "    return counter\n",
    "                         \n",
    "def column_stat1(filename, **kwargs):\n",
    "    counter = Counter()\n",
    "    col = kwargs['col']\n",
    "    sep = kwargs['sep']\n",
    "    with gzip.open(filename) as fi:\n",
    "        for line in fi:\n",
    "            line_norm = line.strip()\n",
    "            if line and (not line_norm.startswith('#')):\n",
    "                fields = line_norm.split(sep)\n",
    "                counter[fields[col]] += 1\n",
    "    return counter\n",
    "\n"
   ]
  },
  {
   "cell_type": "code",
   "execution_count": null,
   "metadata": {},
   "outputs": [],
   "source": [
    "#column_stat('../data/GCF_000005845.2_ASM584v2_genomic.gff.gz', col=3, sep=',')\n",
    "kwargs = {'col': 2, 'sep': '\\t'}\n",
    "column_stat('../data/GCF_000005845.2_ASM584v2_genomic.gff.gz', **kwargs)"
   ]
  },
  {
   "cell_type": "code",
   "execution_count": null,
   "metadata": {},
   "outputs": [],
   "source": [
    "!ls -lah ../data"
   ]
  },
  {
   "cell_type": "code",
   "execution_count": null,
   "metadata": {},
   "outputs": [],
   "source": [
    "pattern = 'GGGGCGGGGG'\n",
    "nuc = {'A':'T', 'T' : 'A', 'C' : 'G',  'G' : 'C'}\n",
    "\n",
    "def rc(seq):\n",
    "    return ''.join([nuc[i] for i in seq])[::-1]\n",
    "\n",
    "with gzip.open('../data/GCF_000005845.2_ASM584v2_genomic.fna.gz') as fi:\n",
    "    glines = []\n",
    "    for line in fi:\n",
    "        line_norm = line.strip().upper()\n",
    "        if not line_norm.startswith('>'):\n",
    "            glines.append(line_norm)\n",
    "\n",
    "seq = ''.join(glines)\n",
    "\n",
    "def find_kmer(seq, pattern):\n",
    "    seq_map = {}\n",
    "    k = len(pattern)\n",
    "    for kmer, pos in [(seq[i:i+k], i) for i in xrange(0, len(seq)-k)]:\n",
    "        if kmer in seq_map:\n",
    "            seq_map[kmer].append(pos)\n",
    "        else:\n",
    "            seq_map[kmer] = [pos,]\n",
    "    return seq_map\n",
    "    \n",
    "forward = find_kmer(seq, pattern)\n",
    "print(' '.join([str(x) for x in forward[pattern]]))\n",
    "reverse = find_kmer(seq, rc(pattern))\n",
    "print(' '.join([str(x) for x in reverse[rc(pattern)]]))"
   ]
  },
  {
   "cell_type": "code",
   "execution_count": null,
   "metadata": {},
   "outputs": [],
   "source": [
    "nuc = {'A':'T', 'T' : 'A', 'C' : 'G',  'G' : 'C'}\n",
    "#take the patter            , search it based on dic\n",
    "res = []\n",
    "for i in pattern :\n",
    "     res.append(nuc[i])\n",
    "print(''.join(res)[::-1])"
   ]
  },
  {
   "cell_type": "code",
   "execution_count": null,
   "metadata": {},
   "outputs": [],
   "source": [
    "def rc(seq):\n",
    "    return ''.join([nuc[i] for i in seq])[::-1]"
   ]
  },
  {
   "cell_type": "code",
   "execution_count": null,
   "metadata": {},
   "outputs": [],
   "source": [
    "D = 1 # number of mismatches\n",
    "\n",
    "def hamming(s1, s2):\n",
    "    '''\n",
    "    Computes Hamming distance between s1 and s2.\n",
    "    '''\n",
    "    if len(s1) != len(s2):\n",
    "        raise ValueError('s1 and s2 must be the same length to compute Hamming distance!')\n",
    "    return sum(ch1 != ch2 for ch1,ch2 in zip(s1, s2))\n",
    "\n",
    "seq_map = {}\n",
    "k = len(pattern)\n",
    "for kmer, pos in [(seq[i:i+k], i) for i in xrange(0, len(seq)-k+1)]:\n",
    "    if hamming(kmer, pattern) <= D:\n",
    "        if kmer in seq_map:\n",
    "            seq_map[kmer].append(pos)\n",
    "        else:\n",
    "            seq_map[kmer] = [pos,]\n",
    "    \n",
    "res = ' '.join([' '.join([str(x) for x in v]) for key,v in seq_map.items()])\n",
    "\n",
    "print(' '.join([str(x) for x in sorted([int(x) for x in res.split()])]))"
   ]
  },
  {
   "cell_type": "code",
   "execution_count": null,
   "metadata": {},
   "outputs": [],
   "source": [
    "s1 = 'AAATTTTAAA'\n",
    "s2 = 'AAATTATAAT'\n",
    "for c1,c2 in zip(s1,s2):\n",
    "    print(c1,c2)"
   ]
  },
  {
   "cell_type": "code",
   "execution_count": null,
   "metadata": {},
   "outputs": [],
   "source": [
    "def hamming(s1, s2):\n",
    "    '''\n",
    "    Computes Hamming distance between s1 and s2.\n",
    "    '''\n",
    "    if len(s1) != len(s2):\n",
    "        raise ValueError('s1 and s2 must be the same length to compute Hamming distance!')\n",
    "    return sum(ch1 != ch2 for ch1,ch2 in zip(s1, s2))\n",
    "\n",
    "def find_with_mismatch(seq, pattern, D=1):\n",
    "    seq_map = {}\n",
    "    k = len(pattern)\n",
    "    for kmer, pos in [(seq[i:i+k], i) for i in xrange(0, len(seq)-k+1)]:\n",
    "        if hamming(kmer, pattern) <= D:\n",
    "            if kmer in seq_map:\n",
    "                seq_map[kmer].append(pos)\n",
    "            else:\n",
    "                seq_map[kmer] = [pos,]\n",
    "    return seq_map\n",
    "        \n",
    "print(find_with_mismatch(seq, pattern, D=0))"
   ]
  },
  {
   "cell_type": "code",
   "execution_count": null,
   "metadata": {},
   "outputs": [],
   "source": [
    "print(find_with_mismatch(seq, pattern, D=1))"
   ]
  },
  {
   "cell_type": "code",
   "execution_count": null,
   "metadata": {},
   "outputs": [],
   "source": []
  }
 ],
 "metadata": {
  "kernelspec": {
   "display_name": "Python 3",
   "language": "python",
   "name": "python3"
  },
  "language_info": {
   "codemirror_mode": {
    "name": "ipython",
    "version": 3
   },
   "file_extension": ".py",
   "mimetype": "text/x-python",
   "name": "python",
   "nbconvert_exporter": "python",
   "pygments_lexer": "ipython3",
   "version": "3.8.10"
  },
  "widgets": {
   "state": {},
   "version": "1.1.1"
  }
 },
 "nbformat": 4,
 "nbformat_minor": 4
}
