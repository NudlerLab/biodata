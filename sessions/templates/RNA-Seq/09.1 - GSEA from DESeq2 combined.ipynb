{
 "cells": [
  {
   "cell_type": "code",
   "execution_count": null,
   "id": "4bb2ec37-603d-427f-b3c3-83725e723030",
   "metadata": {},
   "outputs": [],
   "source": [
    "%matplotlib inline\n",
    "\n",
    "import pandas as pd\n",
    "import gseapy as gp\n",
    "from gseapy.plot import gseaplot, heatmap"
   ]
  },
  {
   "cell_type": "code",
   "execution_count": null,
   "id": "6e5d5264-93eb-4e3f-996d-3a6ddb8fd737",
   "metadata": {},
   "outputs": [],
   "source": [
    "ls -lah ../results/"
   ]
  },
  {
   "cell_type": "code",
   "execution_count": null,
   "id": "69f073fb-e737-4192-aa10-be0c1d9f5f54",
   "metadata": {},
   "outputs": [],
   "source": [
    "def gene_exp_from_deseq(filename, prefix):\n",
    "    deseq = pd.read_csv(filename)\n",
    "    cols = [x for x in deseq.columns if x.startswith(prefix)]\n",
    "    gene_exp = deseq[cols + ['SYMBOL']]\n",
    "    gene_exp = gene_exp.rename(columns={'SYMBOL': 'NAME'})\n",
    "    gene_exp['DESCRIPTION'] = 'NA'\n",
    "    gene_exp = gene_exp.reindex(columns=['NAME', 'DESCRIPTION'] + cols)\n",
    "    gene_exp['NAME'] = gene_exp['NAME'].str.upper()\n",
    "    return gene_exp"
   ]
  },
  {
   "cell_type": "markdown",
   "id": "ced00cec-7a70-46a9-b547-36c3d52ffb3c",
   "metadata": {},
   "source": [
    "# `DMD` vs `CNTRL`"
   ]
  },
  {
   "cell_type": "code",
   "execution_count": null,
   "id": "b226b62a-fdf3-45a6-bac1-e6f120a986fe",
   "metadata": {},
   "outputs": [],
   "source": [
    "gene_exp = gene_exp_from_deseq('../results/DMD_combined.genes.deseq.csv', prefix='da')\n",
    "gene_exp"
   ]
  },
  {
   "cell_type": "code",
   "execution_count": null,
   "id": "7256e07d-9af1-4a34-b4aa-9823c249e434",
   "metadata": {},
   "outputs": [],
   "source": [
    "gene_cols = [\"NAME\", \"DESCRIPTION\"]\n",
    "cntrl_col = [\"da04\", \"da05\", \"da06\", \"da07\"]\n",
    "dmd_col = [\"da11\", \"da12\", \"da13\"]\n",
    "class_vector = ['CTRL']*4 + ['DMD']*3\n",
    "class_vector"
   ]
  },
  {
   "cell_type": "code",
   "execution_count": null,
   "id": "f587ff29-44c1-4e3c-9541-cea180254fe2",
   "metadata": {},
   "outputs": [],
   "source": [
    "gs_res = gp.gsea(data=gene_exp[gene_cols + cntrl_col + dmd_col],\n",
    "                gene_sets='KEGG_2019_Mouse',\n",
    "                cls=class_vector,\n",
    "                max_size=500,\n",
    "                min_size=15,\n",
    "                method='s2n', \n",
    "                processes=64,\n",
    "                format='png',\n",
    "                verbose=True)\n",
    "\n",
    "gs_res.res2d.sort_values(by='fdr', ascending=True).head()"
   ]
  },
  {
   "cell_type": "code",
   "execution_count": null,
   "id": "c209ca8c-52ee-496f-bfc1-52a614b23456",
   "metadata": {},
   "outputs": [],
   "source": [
    "terms = gs_res.res2d.index\n",
    "gseaplot(gs_res.ranking, term=terms[0], **gs_res.results[terms[0]])"
   ]
  },
  {
   "cell_type": "code",
   "execution_count": null,
   "id": "d9024fd5-ad85-4600-af51-88b8da704562",
   "metadata": {},
   "outputs": [],
   "source": [
    "genes = gs_res.res2d.genes[0].split(\";\")\n",
    "heatmap(df=gs_res.heatmat.loc[genes], z_score=0, title=terms[0], figsize=(12,9))"
   ]
  },
  {
   "cell_type": "code",
   "execution_count": null,
   "id": "37c0b0a5-646b-4f04-a127-c4c86b362520",
   "metadata": {},
   "outputs": [],
   "source": [
    "genes = gs_res.res2d.genes[1].split(\";\")\n",
    "heatmap(df=gs_res.heatmat.loc[genes], z_score=0, title=terms[1], figsize=(12,9))"
   ]
  },
  {
   "cell_type": "code",
   "execution_count": null,
   "id": "63ec9a43-53ba-429f-9cfe-e580f35ec447",
   "metadata": {},
   "outputs": [],
   "source": [
    "gs_res.res2d.sort_values(by='fdr', ascending=True).to_csv('../results/DMD_combined.gsea.csv')\n",
    "!head -n 2 ../results/DMD_combined.gsea.csv"
   ]
  },
  {
   "cell_type": "markdown",
   "id": "96470540-258f-40d1-87fb-b7242eece675",
   "metadata": {},
   "source": [
    "# `Dual` vs `CNTRL`"
   ]
  },
  {
   "cell_type": "code",
   "execution_count": null,
   "id": "cd0d269b-b1a9-4a50-94b3-a242d7e48e4b",
   "metadata": {},
   "outputs": [],
   "source": [
    "dual_col = [\"da14\", \"da15\", \"da16\"]\n",
    "class_vector = ['CTRL']*4 + ['Dual']*3\n",
    "class_vector"
   ]
  },
  {
   "cell_type": "code",
   "execution_count": null,
   "id": "ec070373-fffd-4041-abde-cc2e93c820e3",
   "metadata": {},
   "outputs": [],
   "source": [
    "gs_res = gp.gsea(data=gene_exp[gene_cols + cntrl_col + dual_col],\n",
    "                gene_sets='KEGG_2019_Mouse',\n",
    "                cls=class_vector,\n",
    "                max_size=500,\n",
    "                min_size=15,\n",
    "                method='s2n', \n",
    "                processes=64,\n",
    "                format='png',\n",
    "                verbose=True)\n",
    "\n",
    "gs_res.res2d.sort_values(by='fdr', ascending=True).head()"
   ]
  },
  {
   "cell_type": "code",
   "execution_count": null,
   "id": "271862bd-add0-40e2-8c88-fb1cf41a7377",
   "metadata": {},
   "outputs": [],
   "source": [
    "terms = gs_res.res2d.index\n",
    "gseaplot(gs_res.ranking, term=terms[0], **gs_res.results[terms[0]])"
   ]
  },
  {
   "cell_type": "code",
   "execution_count": null,
   "id": "4874f0f1-7ba9-4ea1-90d7-aec12bf6f17e",
   "metadata": {},
   "outputs": [],
   "source": [
    "genes = gs_res.res2d.genes[0].split(\";\")\n",
    "heatmap(df=gs_res.heatmat.loc[genes], z_score=0, title=terms[0], figsize=(12,9))"
   ]
  },
  {
   "cell_type": "code",
   "execution_count": null,
   "id": "829ba085-06f2-401b-a5cc-06e970298362",
   "metadata": {},
   "outputs": [],
   "source": [
    "genes = gs_res.res2d.genes[1].split(\";\")\n",
    "heatmap(df=gs_res.heatmat.loc[genes], z_score=0, title=terms[1], figsize=(12,9))"
   ]
  },
  {
   "cell_type": "code",
   "execution_count": null,
   "id": "05a94828-ec45-4750-9f1e-e019bae444ee",
   "metadata": {},
   "outputs": [],
   "source": [
    "gs_res.res2d.sort_values(by='fdr', ascending=True).to_csv('../results/Dual_combined.gsea.csv')\n",
    "!head -n 2 ../results/Dual.gsea.csv"
   ]
  },
  {
   "cell_type": "markdown",
   "id": "9f09491c-d21b-4c6d-8a5e-dc100735c80f",
   "metadata": {},
   "source": [
    "# `hAUF` vs `CNTRL`"
   ]
  },
  {
   "cell_type": "code",
   "execution_count": null,
   "id": "3476b283-5ef4-4450-99b5-132821c692e6",
   "metadata": {},
   "outputs": [],
   "source": [
    "hauf_col = [\"da08\", \"da09\", \"da10\"]\n",
    "class_vector = ['CTRL']*4 + ['hAUF']*3\n",
    "class_vector"
   ]
  },
  {
   "cell_type": "code",
   "execution_count": null,
   "id": "d1444f88-4f7e-48ac-b4a2-6f8b304c2fde",
   "metadata": {},
   "outputs": [],
   "source": [
    "gs_res = gp.gsea(data=gene_exp[gene_cols + cntrl_col + hauf_col],\n",
    "                gene_sets='KEGG_2019_Mouse',\n",
    "                cls=class_vector,\n",
    "                max_size=500,\n",
    "                min_size=15,\n",
    "                method='s2n', \n",
    "                processes=64,\n",
    "                format='png',\n",
    "                verbose=True)\n",
    "\n",
    "gs_res.res2d.sort_values(by='fdr', ascending=True).head()"
   ]
  },
  {
   "cell_type": "code",
   "execution_count": null,
   "id": "482f02be-0c9e-4e2a-8ee7-68ecd78fd36e",
   "metadata": {},
   "outputs": [],
   "source": [
    "terms = gs_res.res2d.index\n",
    "gseaplot(gs_res.ranking, term=terms[0], **gs_res.results[terms[0]])"
   ]
  },
  {
   "cell_type": "code",
   "execution_count": null,
   "id": "7dee32f1-42a6-45fd-8195-21fe641365ff",
   "metadata": {},
   "outputs": [],
   "source": [
    "genes = gs_res.res2d.genes[0].split(\";\")\n",
    "heatmap(df=gs_res.heatmat.loc[genes], z_score=0, title=terms[0], figsize=(12,9))"
   ]
  },
  {
   "cell_type": "code",
   "execution_count": null,
   "id": "546e4bbe-4fd6-49e7-a513-5de2f5f1688c",
   "metadata": {},
   "outputs": [],
   "source": [
    "genes = gs_res.res2d.genes[1].split(\";\")\n",
    "heatmap(df=gs_res.heatmat.loc[genes], z_score=0, title=terms[1], figsize=(12,9))"
   ]
  },
  {
   "cell_type": "code",
   "execution_count": null,
   "id": "32c1bc13-20b2-4656-9cac-e9820ef6d746",
   "metadata": {},
   "outputs": [],
   "source": [
    "gs_res.res2d.sort_values(by='fdr', ascending=True).to_csv('../results/hAUF_combined.gsea.csv')\n",
    "!head -n 2 ../results/hAUF_combined.gsea.csv"
   ]
  },
  {
   "cell_type": "markdown",
   "id": "9e1fde61-150e-4cd6-b53f-85494e90764f",
   "metadata": {},
   "source": [
    "# `DMD` vs `Dual`"
   ]
  },
  {
   "cell_type": "code",
   "execution_count": null,
   "id": "0aa36e86-e524-4c11-993d-078e94e1cd3f",
   "metadata": {},
   "outputs": [],
   "source": [
    "class_vector = ['DMD']*3 + ['Dual']*3\n",
    "class_vector"
   ]
  },
  {
   "cell_type": "code",
   "execution_count": null,
   "id": "b8c2c6a2-2812-492d-be40-dccb48b49b5d",
   "metadata": {},
   "outputs": [],
   "source": [
    "gs_res = gp.gsea(data=gene_exp[gene_cols + dmd_col + dual_col],\n",
    "                gene_sets='KEGG_2019_Mouse',\n",
    "                cls=class_vector,\n",
    "                max_size=500,\n",
    "                min_size=15,\n",
    "                method='s2n', \n",
    "                processes=64,\n",
    "                format='png',\n",
    "                verbose=True)\n",
    "\n",
    "gs_res.res2d.sort_values(by='fdr', ascending=True).head()"
   ]
  },
  {
   "cell_type": "code",
   "execution_count": null,
   "id": "77a0a5aa-f9aa-4bca-8c95-842559351d65",
   "metadata": {},
   "outputs": [],
   "source": [
    "terms = gs_res.res2d.index\n",
    "gseaplot(gs_res.ranking, term=terms[0], **gs_res.results[terms[0]])"
   ]
  },
  {
   "cell_type": "code",
   "execution_count": null,
   "id": "c378bf67-7ab0-4332-b78f-a1ad3b380f32",
   "metadata": {},
   "outputs": [],
   "source": [
    "genes = gs_res.res2d.genes[0].split(\";\")\n",
    "heatmap(df=gs_res.heatmat.loc[genes], z_score=0, title=terms[0], figsize=(12,9))"
   ]
  },
  {
   "cell_type": "code",
   "execution_count": null,
   "id": "4611d8d9-c435-4cec-b88d-b252539b5b90",
   "metadata": {},
   "outputs": [],
   "source": [
    "genes = gs_res.res2d.genes[1].split(\";\")\n",
    "heatmap(df=gs_res.heatmat.loc[genes], z_score=0, title=terms[1], figsize=(12,9))"
   ]
  },
  {
   "cell_type": "code",
   "execution_count": null,
   "id": "25773f41-303d-47c4-836c-5e87a72e54e1",
   "metadata": {},
   "outputs": [],
   "source": [
    "gs_res.res2d.sort_values(by='fdr', ascending=True).to_csv('../results/DMDvsDual_combined.gsea.csv')\n",
    "!head -n 2 ../results/DMDvsDual_combined.gsea.csv"
   ]
  },
  {
   "cell_type": "code",
   "execution_count": null,
   "id": "9484e661-469f-40ba-8f01-441724a374ef",
   "metadata": {},
   "outputs": [],
   "source": []
  }
 ],
 "metadata": {
  "kernelspec": {
   "display_name": "Python 3 (ipykernel)",
   "language": "python",
   "name": "python3"
  },
  "language_info": {
   "codemirror_mode": {
    "name": "ipython",
    "version": 3
   },
   "file_extension": ".py",
   "mimetype": "text/x-python",
   "name": "python",
   "nbconvert_exporter": "python",
   "pygments_lexer": "ipython3",
   "version": "3.8.10"
  }
 },
 "nbformat": 4,
 "nbformat_minor": 5
}
