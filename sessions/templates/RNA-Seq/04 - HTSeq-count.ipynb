{
 "cells": [
  {
   "cell_type": "code",
   "execution_count": null,
   "metadata": {},
   "outputs": [],
   "source": [
    "BASE_DIR=\"../results\"\n",
    "INDEX=\"../ref/genome/genome\"\n",
    "genes=\"../ref/genes/genes.gtf\"\n",
    "PATTERN=\"da\"\n",
    "ls -lah $BASE_DIR"
   ]
  },
  {
   "cell_type": "markdown",
   "metadata": {},
   "source": [
    "## Count reads in genes using `HTSeq-count`"
   ]
  },
  {
   "cell_type": "code",
   "execution_count": null,
   "metadata": {
    "scrolled": true
   },
   "outputs": [],
   "source": [
    "counter=$(which htseq-count)\n",
    "\n",
    "for sample in $(ls $BASE_DIR | grep \"$PATTERN\")\n",
    "do\n",
    "    echo \"Running HTSeq-count for $sample ...\"\n",
    "    echo \"$BASE_DIR/$sample/$sample.sorted.bam\"\n",
    "    \n",
    "    $counter -f bam -s no -r pos -q \"$BASE_DIR/$sample/$sample.sorted.bam\" $genes \\\n",
    "        > \"$BASE_DIR/$sample/$sample.htseq.counts\" &\n",
    "    \n",
    "done"
   ]
  },
  {
   "cell_type": "code",
   "execution_count": null,
   "metadata": {
    "tags": []
   },
   "outputs": [],
   "source": [
    "ls -lah ../results/*"
   ]
  },
  {
   "cell_type": "code",
   "execution_count": null,
   "metadata": {},
   "outputs": [],
   "source": [
    "tail ../results/da15/da15.htseq.counts"
   ]
  },
  {
   "cell_type": "code",
   "execution_count": null,
   "metadata": {},
   "outputs": [],
   "source": []
  }
 ],
 "metadata": {
  "kernelspec": {
   "display_name": "Bash",
   "language": "bash",
   "name": "bash"
  },
  "language_info": {
   "codemirror_mode": "shell",
   "file_extension": ".sh",
   "mimetype": "text/x-sh",
   "name": "bash"
  }
 },
 "nbformat": 4,
 "nbformat_minor": 4
}
