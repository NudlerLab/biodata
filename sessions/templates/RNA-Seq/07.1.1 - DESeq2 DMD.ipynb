{
 "cells": [
  {
   "cell_type": "code",
   "execution_count": null,
   "metadata": {},
   "outputs": [],
   "source": [
    "library(DESeq2)\n",
    "library(gplots)\n",
    "library(RColorBrewer)\n",
    "library(calibrate)\n",
    "library(vsn)\n",
    "library(pheatmap)\n",
    "library(ggplot2)\n",
    "\n",
    "options(repr.plot.width=12, repr.plot.height=12)\n",
    "pacman::p_load(here,  \n",
    "               tidyverse, \n",
    "               janitor, # Cleaning column names  \n",
    "               scales, # Transform axis scales   \n",
    "               ggrepel) # Optimise plot label separation "
   ]
  },
  {
   "cell_type": "markdown",
   "metadata": {},
   "source": [
    "## Build count matrix"
   ]
  },
  {
   "cell_type": "code",
   "execution_count": null,
   "metadata": {
    "scrolled": true
   },
   "outputs": [],
   "source": [
    "countdata = read.csv('../results/count_matrix_DMD.csv', header=TRUE, row.names=1)\n",
    "countdata = as.matrix(countdata)\n",
    "head(countdata)"
   ]
  },
  {
   "cell_type": "code",
   "execution_count": null,
   "metadata": {},
   "outputs": [],
   "source": [
    "(condition = factor(\n",
    "    c(rep(c(\"mdx\"), 4),\n",
    "      rep(c(\"dmd\"), 3)\n",
    "     )\n",
    "))\n",
    "(coldata = data.frame(row.names=colnames(countdata), condition))"
   ]
  },
  {
   "cell_type": "markdown",
   "metadata": {},
   "source": [
    "## Initialize `DDS` object and perform fitting"
   ]
  },
  {
   "cell_type": "code",
   "execution_count": null,
   "metadata": {},
   "outputs": [],
   "source": [
    "dds = DESeqDataSetFromMatrix(countData=countdata, colData=coldata, design=~condition)\n",
    "dds$condition = relevel(dds$condition, ref=\"mdx\")\n",
    "keep = rowSums(counts(dds)) >= 10\n",
    "dds = dds[keep,]\n",
    "dds"
   ]
  },
  {
   "cell_type": "code",
   "execution_count": null,
   "metadata": {},
   "outputs": [],
   "source": [
    "dds = DESeq(dds)"
   ]
  },
  {
   "cell_type": "markdown",
   "metadata": {},
   "source": [
    "## Different `VST` plots"
   ]
  },
  {
   "cell_type": "code",
   "execution_count": null,
   "metadata": {
    "tags": []
   },
   "outputs": [],
   "source": [
    "ntd = normTransform(dds)\n",
    "vsd = vst(dds, blind=FALSE)\n",
    "rld = rlog(dds, blind=FALSE)\n",
    "meanSdPlot(assay(ntd))"
   ]
  },
  {
   "cell_type": "code",
   "execution_count": null,
   "metadata": {},
   "outputs": [],
   "source": [
    "meanSdPlot(assay(vsd))"
   ]
  },
  {
   "cell_type": "code",
   "execution_count": null,
   "metadata": {},
   "outputs": [],
   "source": [
    "meanSdPlot(assay(rld))"
   ]
  },
  {
   "cell_type": "markdown",
   "metadata": {},
   "source": [
    "## Plot dispersion estimates"
   ]
  },
  {
   "cell_type": "code",
   "execution_count": null,
   "metadata": {},
   "outputs": [],
   "source": [
    "plotDispEsts(dds, main=\"Dispersion plot\")"
   ]
  },
  {
   "cell_type": "code",
   "execution_count": null,
   "metadata": {},
   "outputs": [],
   "source": [
    "res.disp <- as.data.frame(mcols(dds, use.names=TRUE))\n",
    "\n",
    "ggplot(res.disp, aes(x = baseMean, y = dispGeneEst)) +\n",
    "    geom_point(shape=21, color=\"black\", alpha=0.5, size=0.4) +\n",
    "    geom_point(aes(y = dispersion, shape = dispOutlier), color=\"#26b3ff\", alpha=0.25, size=3.5) +\n",
    "    geom_point(aes(y = dispFit), color=\"red\", alpha=0.24, size=0.41) +\n",
    "    xlab(\"mean of normalized counts\") +\n",
    "    ylab(\"Dispersion\") + \n",
    "    scale_y_log10() +\n",
    "    scale_x_log10() +\n",
    "    theme(text=element_text(size=16))"
   ]
  },
  {
   "cell_type": "markdown",
   "metadata": {},
   "source": [
    "## Various heatmaps"
   ]
  },
  {
   "cell_type": "code",
   "execution_count": null,
   "metadata": {},
   "outputs": [],
   "source": [
    "sampleDists <- dist(t(assay(vsd)))\n",
    "sampleDistMatrix = as.matrix(sampleDists)\n",
    "rownames(sampleDistMatrix) <- paste(rld$condition, rld$type, sep=\"-\")\n",
    "colnames(sampleDistMatrix) <- NULL\n",
    "colors <- colorRampPalette( rev(brewer.pal(9, \"Blues\")) )(255)\n",
    "\n",
    "pheatmap(sampleDistMatrix,\n",
    "         clustering_distance_rows=sampleDists,\n",
    "         clustering_distance_cols=sampleDists,\n",
    "         col=colors, fontsize=16)"
   ]
  },
  {
   "cell_type": "code",
   "execution_count": null,
   "metadata": {},
   "outputs": [],
   "source": [
    "select <- order(rowMeans(counts(dds,normalized=TRUE)),\n",
    "                decreasing=TRUE)[1:20]\n",
    "df <- as.data.frame(colData(dds)[,\"condition\"])\n",
    "pheatmap(assay(ntd)[select,], cluster_rows=FALSE, show_rownames=FALSE, fontsize=16,\n",
    "         cluster_cols=FALSE, annotation_col=coldata)"
   ]
  },
  {
   "cell_type": "code",
   "execution_count": null,
   "metadata": {},
   "outputs": [],
   "source": [
    "pheatmap(assay(vsd)[select,], cluster_rows=FALSE, show_rownames=FALSE, fontsize=16,\n",
    "         cluster_cols=FALSE, annotation_col=coldata)"
   ]
  },
  {
   "cell_type": "code",
   "execution_count": null,
   "metadata": {},
   "outputs": [],
   "source": [
    "pheatmap(assay(rld)[select,], cluster_rows=FALSE, show_rownames=FALSE, fontsize=16,\n",
    "         cluster_cols=FALSE, annotation_col=coldata)"
   ]
  },
  {
   "cell_type": "markdown",
   "metadata": {},
   "source": [
    "## MA plots"
   ]
  },
  {
   "cell_type": "markdown",
   "metadata": {},
   "source": [
    "### `DGE` results"
   ]
  },
  {
   "cell_type": "code",
   "execution_count": null,
   "metadata": {},
   "outputs": [],
   "source": [
    "res = results(dds, contrast=c(\"condition\",\"dmd\",\"mdx\"))\n",
    "res05 = results(dds, contrast=c(\"condition\",\"dmd\",\"mdx\"), alpha=0.05)\n",
    "summary(res05)"
   ]
  },
  {
   "cell_type": "code",
   "execution_count": null,
   "metadata": {},
   "outputs": [],
   "source": [
    "ggplotMA <- function(res, ...) {\n",
    "    res <- as.data.frame(res) %>%\n",
    "        mutate(sig = case_when(padj <= 0.05 ~ \"yes\",\n",
    "                               TRUE ~ \"no\"))\n",
    "\n",
    "    cols <- c(\"yes\" = \"#26b3ff\", \"no\" = \"grey\") \n",
    "    sizes <- c(\"yes\" = 2.5, \"no\" = 1.5) \n",
    "    alphas <- c(\"yes\" = 1, \"no\" = 0.5)\n",
    "\n",
    "    ggplot(res, aes(x = baseMean,\n",
    "                        y = log2FoldChange,\n",
    "                        fill = sig,\n",
    "                        size = sig,\n",
    "                        alpha = sig\n",
    "                       )) +\n",
    "      geom_point(shape=21, color=\"black\") +\n",
    "      xlab(\"mean of normalized counts\") +\n",
    "      ylab(\"log2 Fold Change\") + \n",
    "      geom_hline(yintercept=c(1, -1), linetype=\"dashed\") +\n",
    "      scale_x_log10() +\n",
    "      scale_fill_manual(values = cols) +\n",
    "      scale_size_manual(values = sizes) +\n",
    "      scale_alpha_manual(values = alphas) +\n",
    "      theme(text=element_text(size=16))   \n",
    "}"
   ]
  },
  {
   "cell_type": "code",
   "execution_count": null,
   "metadata": {},
   "outputs": [],
   "source": [
    "plotMA(res, ylim=c(-2,2))"
   ]
  },
  {
   "cell_type": "code",
   "execution_count": null,
   "metadata": {},
   "outputs": [],
   "source": [
    "ggplotMA(res)"
   ]
  },
  {
   "cell_type": "code",
   "execution_count": null,
   "metadata": {},
   "outputs": [],
   "source": [
    "resLFC = lfcShrink(dds, coef=\"condition_dmd_vs_mdx\", type=\"apeglm\")\n",
    "plotMA(resLFC, ylim=c(-2,2))"
   ]
  },
  {
   "cell_type": "code",
   "execution_count": null,
   "metadata": {
    "tags": []
   },
   "outputs": [],
   "source": [
    "ggplotMA(resLFC)"
   ]
  },
  {
   "cell_type": "markdown",
   "metadata": {},
   "source": [
    "## `PCA` and volcano plots"
   ]
  },
  {
   "cell_type": "code",
   "execution_count": null,
   "metadata": {},
   "outputs": [],
   "source": [
    "pcaData <- plotPCA(rld, intgroup=c(\"condition\"), returnData=TRUE)\n",
    "percentVar <- round(100 * attr(pcaData, \"percentVar\"))\n",
    "\n",
    "ggplot(pcaData, aes(PC1, PC2, color=condition)) +\n",
    "  geom_point(size=8, alpha=0.5) +\n",
    "  xlab(paste0(\"PC1: \",percentVar[1],\"% variance\")) +\n",
    "  ylab(paste0(\"PC2: \",percentVar[2],\"% variance\")) + \n",
    "  theme(text=element_text(size=16))\n",
    "  "
   ]
  },
  {
   "cell_type": "code",
   "execution_count": null,
   "metadata": {},
   "outputs": [],
   "source": [
    "hist(res$pvalue, breaks=50, col=\"grey\")"
   ]
  },
  {
   "cell_type": "code",
   "execution_count": null,
   "metadata": {},
   "outputs": [],
   "source": [
    "resdata = merge(as.data.frame(res), as.data.frame(counts(dds, normalized=TRUE)), by=\"row.names\", sort=FALSE)\n",
    "resdata <- resdata %>%\n",
    "    mutate(gene_type = case_when(log2FoldChange >= 1 & padj <= 0.05 ~ \"up\",\n",
    "                                 log2FoldChange <= -1 & padj <= 0.05 ~ \"down\",\n",
    "                                TRUE ~ \"ns\"))\n",
    "\n",
    "resdata %>% count(gene_type)"
   ]
  },
  {
   "cell_type": "code",
   "execution_count": null,
   "metadata": {},
   "outputs": [],
   "source": [
    "head(resdata)"
   ]
  },
  {
   "cell_type": "code",
   "execution_count": null,
   "metadata": {},
   "outputs": [],
   "source": [
    "cols <- c(\"up\" = \"#ffad73\", \"down\" = \"#26b3ff\", \"ns\" = \"grey\") \n",
    "sizes <- c(\"up\" = 5, \"down\" = 5, \"ns\" = 2.5) \n",
    "alphas <- c(\"up\" = 1, \"down\" = 1, \"ns\" = 0.5)\n",
    "\n",
    "ggplot(resdata, aes(x = log2FoldChange,\n",
    "                    y = -log10(padj),\n",
    "                    fill = gene_type,\n",
    "                    size = gene_type,\n",
    "                    alpha = gene_type\n",
    "                   )) +\n",
    "  geom_point(shape=21, color=\"black\") +\n",
    "  ylab(\"-log(adj pvalue)\") +\n",
    "  xlab(\"log2 Fold Change\") + \n",
    "  geom_hline(yintercept=-log10(0.05), linetype=\"dashed\") +\n",
    "  geom_vline(xintercept=c(log2(0.5), log2(2)), linetype=\"dashed\") +\n",
    "  scale_fill_manual(values = cols) +\n",
    "  scale_size_manual(values = sizes) +\n",
    "  scale_alpha_manual(values = alphas) +\n",
    "  theme(text=element_text(size=16))"
   ]
  },
  {
   "cell_type": "markdown",
   "metadata": {},
   "source": [
    "## Save `DGE` results"
   ]
  },
  {
   "cell_type": "code",
   "execution_count": null,
   "metadata": {},
   "outputs": [],
   "source": [
    "res = results(dds, contrast=c(\"condition\",\"dmd\",\"mdx\"))\n",
    "res = res[order(res$padj),]\n",
    "resdata = merge(as.data.frame(res), as.data.frame(counts(dds, normalized=TRUE)), by=\"row.names\", sort=FALSE)\n",
    "names(resdata)[1] = \"Gene\"\n",
    "write.csv(resdata, file=\"../results/DMD.deseq.csv\")\n",
    "head(resdata)"
   ]
  },
  {
   "cell_type": "code",
   "execution_count": null,
   "metadata": {},
   "outputs": [],
   "source": []
  }
 ],
 "metadata": {
  "kernelspec": {
   "display_name": "R",
   "language": "R",
   "name": "ir"
  },
  "language_info": {
   "codemirror_mode": "r",
   "file_extension": ".r",
   "mimetype": "text/x-r-source",
   "name": "R",
   "pygments_lexer": "r",
   "version": "4.1.2"
  }
 },
 "nbformat": 4,
 "nbformat_minor": 4
}
