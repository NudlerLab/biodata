{
 "cells": [
  {
   "cell_type": "markdown",
   "metadata": {},
   "source": [
    "# Data preparation"
   ]
  },
  {
   "cell_type": "code",
   "execution_count": null,
   "metadata": {},
   "outputs": [],
   "source": [
    "PATTERN=\"da\"\n",
    "RUNID=\"IS-449\"\n",
    "NPROC=128\n",
    "\n",
    "# Local stuff\n",
    "base_dir=\"../data\""
   ]
  },
  {
   "cell_type": "code",
   "execution_count": null,
   "metadata": {},
   "outputs": [],
   "source": [
    "ls -lah ../data"
   ]
  },
  {
   "cell_type": "code",
   "execution_count": null,
   "metadata": {},
   "outputs": [],
   "source": [
    "for fq in \"../data/IS-449\"*\".fastq.gz\"\n",
    "do\n",
    "    sampleid=$(echo $fq | cut -d '_' -f 2)\n",
    "    mkdir -p ../data/$sampleid\n",
    "    echo \"Moving $fq into ../data/$sampleid\"\n",
    "    mv $fq ../data/$sampleid/\n",
    "done"
   ]
  },
  {
   "cell_type": "code",
   "execution_count": null,
   "metadata": {},
   "outputs": [],
   "source": [
    "ls -lah ../data/*"
   ]
  },
  {
   "cell_type": "markdown",
   "metadata": {},
   "source": [
    "# Merge and normalize filenames"
   ]
  },
  {
   "cell_type": "code",
   "execution_count": null,
   "metadata": {},
   "outputs": [],
   "source": [
    "for sample in $(ls $base_dir | grep \"$PATTERN\")\n",
    "do\n",
    "    sample_dir=$base_dir/$sample\n",
    "    echo \"Merging and normalizing\" $sample_dir\n",
    "    \n",
    "    cat $sample_dir/*R1* > $sample_dir/R1.fastq.gz\n",
    "    cat $sample_dir/*R2* > $sample_dir/R2.fastq.gz\n",
    "done"
   ]
  },
  {
   "cell_type": "markdown",
   "metadata": {},
   "source": [
    "## Cleanup"
   ]
  },
  {
   "cell_type": "code",
   "execution_count": null,
   "metadata": {},
   "outputs": [],
   "source": [
    "for sample in $(ls $base_dir | grep \"$PATTERN\")\n",
    "do\n",
    "    sample_dir=$base_dir/$sample\n",
    "    echo \"Cleaning up \" $sample_dir\n",
    "    \n",
    "    rm -rf $sample_dir/*$PATTERN*.fastq.gz\n",
    "    ls -lah $sample_dir\n",
    "done"
   ]
  },
  {
   "cell_type": "code",
   "execution_count": null,
   "metadata": {},
   "outputs": [],
   "source": []
  }
 ],
 "metadata": {
  "kernelspec": {
   "display_name": "Bash",
   "language": "bash",
   "name": "bash"
  },
  "language_info": {
   "codemirror_mode": "shell",
   "file_extension": ".sh",
   "mimetype": "text/x-sh",
   "name": "bash"
  }
 },
 "nbformat": 4,
 "nbformat_minor": 4
}
