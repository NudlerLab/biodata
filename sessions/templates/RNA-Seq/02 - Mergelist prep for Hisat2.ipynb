{
 "cells": [
  {
   "cell_type": "code",
   "execution_count": null,
   "id": "b46b085e-bd48-4224-ad78-6979e612c22c",
   "metadata": {},
   "outputs": [],
   "source": [
    "import pandas as pd"
   ]
  },
  {
   "cell_type": "code",
   "execution_count": null,
   "id": "ca82ecdc-e303-47dd-b2ac-92d37ca95f57",
   "metadata": {},
   "outputs": [],
   "source": [
    "ls -lah ../ref"
   ]
  },
  {
   "cell_type": "code",
   "execution_count": null,
   "id": "7a323b57-e1c9-4c75-acb1-75bb6ff405ec",
   "metadata": {},
   "outputs": [],
   "source": [
    "exp_df = pd.read_csv('../ref/2022-01-24_NextSeq.csv', header=0, index_col=False, nrows=16, usecols=[1,2,4])\n",
    "exp_df['Sample_id'] = exp_df.apply(lambda x: x['Sample_id'].split('_')[1], axis=1)\n",
    "exp_df['Condition'] = exp_df.apply(lambda x: x['Sample'].strip('0123456789-'), axis=1)\n",
    "exp_df"
   ]
  },
  {
   "cell_type": "code",
   "execution_count": null,
   "id": "a132d42f-4b85-4160-b15b-4bd8200f694a",
   "metadata": {},
   "outputs": [],
   "source": [
    "from pathlib import Path\n",
    "\n",
    "ref_dir = '../ref'\n",
    "\n",
    "ctrl = exp_df[exp_df['Condition']=='MDX-GFP']\n",
    "for name,grouped in exp_df.groupby('Condition'):\n",
    "    if name != 'MDX-GFP':\n",
    "        gtf = Path(ref_dir) / f\"mergelist_{name}.txt\"\n",
    "        with open(gtf, 'wt') as fo:\n",
    "            lines = '\\n'.join([f\"../results/{x}/{x}.gtf\" for x in ctrl['Sample_id'].tolist()]) + '\\n'\n",
    "            lines += '\\n'.join([f\"../results/{x}/{x}.gtf\" for x in grouped['Sample_id'].tolist()])\n",
    "            fo.write(lines)\n",
    "            print(gtf)\n",
    "            print(lines)"
   ]
  },
  {
   "cell_type": "code",
   "execution_count": null,
   "id": "69bd103d-d3d9-4f6b-b78d-38981e577362",
   "metadata": {},
   "outputs": [],
   "source": [
    "!head ../ref/mergelist_hAUF.txt"
   ]
  },
  {
   "cell_type": "code",
   "execution_count": null,
   "id": "36b0b9db-0709-447a-be82-982479e937a5",
   "metadata": {},
   "outputs": [],
   "source": [
    "gtf = Path(ref_dir) / \"mergelist_DMDvsDual.txt\"\n",
    "with open(gtf, 'wt') as fo:\n",
    "    lines = '\\n'.join([f\"../results/{x}/{x}.gtf\" for x in exp_df.loc[10:, 'Sample_id'].tolist()])\n",
    "    fo.write(lines)\n",
    "    print(gtf)\n",
    "    print(lines)"
   ]
  },
  {
   "cell_type": "code",
   "execution_count": null,
   "id": "7d96a605-b087-436e-9674-ed50c8f4db3e",
   "metadata": {},
   "outputs": [],
   "source": [
    "!rm -rf ../ref/mergelist_DMD_vs_Dual.txt\n",
    "!ls -lah ../ref/"
   ]
  },
  {
   "cell_type": "code",
   "execution_count": null,
   "id": "c8176214-7961-46be-9616-1928dfa6605c",
   "metadata": {},
   "outputs": [],
   "source": []
  }
 ],
 "metadata": {
  "kernelspec": {
   "display_name": "Python 3 (ipykernel)",
   "language": "python",
   "name": "python3"
  },
  "language_info": {
   "codemirror_mode": {
    "name": "ipython",
    "version": 3
   },
   "file_extension": ".py",
   "mimetype": "text/x-python",
   "name": "python",
   "nbconvert_exporter": "python",
   "pygments_lexer": "ipython3",
   "version": "3.8.10"
  }
 },
 "nbformat": 4,
 "nbformat_minor": 5
}
