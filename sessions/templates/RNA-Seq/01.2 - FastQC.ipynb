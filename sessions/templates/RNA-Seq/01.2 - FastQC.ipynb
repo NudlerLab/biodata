{
 "cells": [
  {
   "cell_type": "markdown",
   "metadata": {},
   "source": [
    "# Run fastqc for samples, generate multiqc report"
   ]
  },
  {
   "cell_type": "code",
   "execution_count": null,
   "metadata": {},
   "outputs": [],
   "source": [
    "PATTERN=\"da\"\n",
    "NPROC=250\n",
    "base_dir=\"../data\""
   ]
  },
  {
   "cell_type": "code",
   "execution_count": null,
   "metadata": {},
   "outputs": [],
   "source": [
    "ls -lah $base_dir"
   ]
  },
  {
   "cell_type": "code",
   "execution_count": null,
   "metadata": {},
   "outputs": [],
   "source": [
    "fastqc_exe=\"/home/ilya/bin/FastQC/fastqc\"\n",
    "for sample in $(ls $base_dir | grep \"$PATTERN\")\n",
    "do\n",
    "    sample_dir=$base_dir/$sample\n",
    "    echo \"Running FastQC for \" $sample_dir\n",
    "    $fastqc_exe -q -t $NPROC -o $sample_dir $sample_dir/R1.fastq.gz $sample_dir/R2.fastq.gz\n",
    "done"
   ]
  },
  {
   "cell_type": "code",
   "execution_count": null,
   "metadata": {},
   "outputs": [],
   "source": [
    "multiqc -d $base_dir"
   ]
  },
  {
   "cell_type": "code",
   "execution_count": null,
   "metadata": {},
   "outputs": [],
   "source": []
  }
 ],
 "metadata": {
  "kernelspec": {
   "display_name": "Bash",
   "language": "bash",
   "name": "bash"
  },
  "language_info": {
   "codemirror_mode": "shell",
   "file_extension": ".sh",
   "mimetype": "text/x-sh",
   "name": "bash"
  }
 },
 "nbformat": 4,
 "nbformat_minor": 4
}
