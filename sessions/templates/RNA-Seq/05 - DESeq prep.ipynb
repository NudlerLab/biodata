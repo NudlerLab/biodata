{
 "cells": [
  {
   "cell_type": "code",
   "execution_count": null,
   "metadata": {},
   "outputs": [],
   "source": [
    "import pandas as pd"
   ]
  },
  {
   "cell_type": "code",
   "execution_count": null,
   "metadata": {},
   "outputs": [],
   "source": [
    "ls -lah ../ref"
   ]
  },
  {
   "cell_type": "code",
   "execution_count": null,
   "metadata": {},
   "outputs": [],
   "source": [
    "exp_df = pd.read_csv('../ref/2022-01-24_NextSeq.csv', header=0, index_col=False, nrows=16, usecols=[1,2,4])\n",
    "exp_df['Sample_id'] = exp_df.apply(lambda x: x['Sample_id'].split('_')[1], axis=1)\n",
    "exp_df['Condition'] = exp_df.apply(lambda x: x['Sample'].strip('0123456789-'), axis=1)\n",
    "exp_df"
   ]
  },
  {
   "cell_type": "markdown",
   "metadata": {},
   "source": [
    "## Count matrix"
   ]
  },
  {
   "cell_type": "code",
   "execution_count": null,
   "metadata": {},
   "outputs": [],
   "source": [
    "def count_matrix(exp_df, res_dir='../results'):\n",
    "    df = pd.DataFrame()\n",
    "    for i,row in enumerate(exp_df.iterrows()):\n",
    "        _, sample = row\n",
    "        filename = '{res_dir}/{sample}/{sample}.htseq.counts'.format(\n",
    "                    res_dir=res_dir, sample=sample['Sample'])\n",
    "        ct = pd.read_csv(filename, header=None, names=['gene', 'counts'],\n",
    "                        sep='\\t', skipfooter=5, engine='python')\n",
    "        if df.empty:\n",
    "            df = ct.copy()\n",
    "            df.rename(columns={'counts': f'{sample[\"Sample\"]}'}, inplace=True)\n",
    "        else:\n",
    "            df[f'{sample[\"Sample\"]}'] = ct['counts']\n",
    "    df.set_index('gene', inplace=True)\n",
    "    df.index.names = [None]\n",
    "    print(df)\n",
    "    return df"
   ]
  },
  {
   "cell_type": "code",
   "execution_count": null,
   "metadata": {},
   "outputs": [],
   "source": [
    "from pathlib import Path\n",
    "from plotnine import *\n",
    "\n",
    "# Group by tissue\n",
    "exp_df['Sample'] = exp_df['Sample_id']\n",
    "ctrl = exp_df[exp_df['Condition']=='MDX-GFP']\n",
    "for name,grouped in exp_df.groupby('Condition'):\n",
    "    if name != 'MDX-GFP':\n",
    "        df = count_matrix(pd.concat([ctrl,grouped]))\n",
    "        df.to_csv(f'../results/count_matrix_{name}.csv', index_label=False)\n",
    "        print(df.sum(axis=0))\n",
    "        print(ggplot(df.melt(var_name='sample'), aes(x='value'))\n",
    "                + geom_density(alpha=0.4)\n",
    "                + scale_x_log10()\n",
    "                + facet_wrap('sample')\n",
    "                    )"
   ]
  },
  {
   "cell_type": "code",
   "execution_count": null,
   "metadata": {},
   "outputs": [],
   "source": [
    "df = count_matrix(exp_df.loc[10:,:])\n",
    "df.to_csv('../results/count_matrix_DMDvsDual.csv', index_label=False)\n",
    "print(df.sum(axis=0))\n",
    "print(ggplot(df.melt(var_name='sample'), aes(x='value'))\n",
    "        + geom_density(alpha=0.4)\n",
    "        + scale_x_log10()\n",
    "        + facet_wrap('sample')\n",
    "            )"
   ]
  },
  {
   "cell_type": "code",
   "execution_count": null,
   "metadata": {},
   "outputs": [],
   "source": [
    "ls -lah ../results/"
   ]
  },
  {
   "cell_type": "code",
   "execution_count": null,
   "metadata": {},
   "outputs": [],
   "source": []
  }
 ],
 "metadata": {
  "kernelspec": {
   "display_name": "Python 3 (ipykernel)",
   "language": "python",
   "name": "python3"
  },
  "language_info": {
   "codemirror_mode": {
    "name": "ipython",
    "version": 3
   },
   "file_extension": ".py",
   "mimetype": "text/x-python",
   "name": "python",
   "nbconvert_exporter": "python",
   "pygments_lexer": "ipython3",
   "version": "3.8.10"
  }
 },
 "nbformat": 4,
 "nbformat_minor": 4
}
