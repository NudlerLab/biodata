{
 "cells": [
  {
   "cell_type": "markdown",
   "metadata": {},
   "source": [
    "## Align reads to genome using `HISAT2`"
   ]
  },
  {
   "cell_type": "code",
   "execution_count": null,
   "metadata": {},
   "outputs": [],
   "source": [
    "BASE_DIR=\"../data\"\n",
    "INDEX=\"../ref/genome/genome\"\n",
    "NUMPROC=250\n",
    "PATTERN=\"da\"\n",
    "pwd"
   ]
  },
  {
   "cell_type": "code",
   "execution_count": null,
   "metadata": {},
   "outputs": [],
   "source": [
    "hisat_exe=\"$HOME/bin/hisat2-2.2.1/hisat2\"\n",
    "\n",
    "for sample in $(ls $BASE_DIR | grep \"$PATTERN\")\n",
    "do\n",
    "    sample_dir=\"$BASE_DIR/$sample\"\n",
    "    result_dir=\"../results/$sample\"\n",
    "    \n",
    "    mkdir -p $result_dir\n",
    "    \n",
    "    echo \"Aligning $sample ...\"\n",
    "    $hisat_exe -p $NUMPROC --dta \\\n",
    "        -x $INDEX \\\n",
    "        -1 $sample_dir/R1.fastq.gz -2 $sample_dir/R2.fastq.gz \\\n",
    "        | samtools view -bhS - > \"$result_dir/$sample.bam\"\n",
    "    \n",
    "done"
   ]
  },
  {
   "cell_type": "code",
   "execution_count": null,
   "metadata": {},
   "outputs": [],
   "source": [
    "for sample in $(ls $BASE_DIR | grep \"$PATTERN\")\n",
    "do\n",
    "    result_dir=\"../results/$sample\"\n",
    "    samtools sort -@ $NUMPROC -o \"$result_dir/$sample.sorted.bam\" \"$result_dir/$sample.bam\"\n",
    "    samtools index -@ $NUMPROC \"$result_dir/$sample.sorted.bam\"\n",
    "done"
   ]
  },
  {
   "cell_type": "markdown",
   "metadata": {},
   "source": [
    "## Assemble transcripts"
   ]
  },
  {
   "cell_type": "code",
   "execution_count": null,
   "metadata": {},
   "outputs": [],
   "source": [
    "stringtie_exe=\"/home/ilya/bin/stringtie-2.1.6.Linux_x86_64/stringtie\"\n",
    "\n",
    "for sample in $(ls $BASE_DIR | grep \"$PATTERN\")\n",
    "do\n",
    "    result_dir=\"../results/$sample\"\n",
    "    $stringtie_exe -p $NUMPROC -G \"../ref/genes/genes.gtf\" -o \"$result_dir/${sample}.gtf\" \"$result_dir/${sample}.sorted.bam\"\n",
    "done"
   ]
  },
  {
   "cell_type": "code",
   "execution_count": null,
   "metadata": {},
   "outputs": [],
   "source": [
    "ls -lah ../results/*"
   ]
  },
  {
   "cell_type": "markdown",
   "metadata": {},
   "source": [
    "## Merge `.gtf` annotations"
   ]
  },
  {
   "cell_type": "code",
   "execution_count": null,
   "metadata": {},
   "outputs": [],
   "source": [
    "ls -lah ../ref"
   ]
  },
  {
   "cell_type": "code",
   "execution_count": null,
   "metadata": {},
   "outputs": [],
   "source": [
    "REF_DIR=\"../ref/\"\n",
    "\n",
    "for mergelist in $(ls $REF_DIR | grep \"mergelist_\")\n",
    "do\n",
    "    tissue=$(echo $mergelist | cut -d'_' -f2 | cut -d'.' -f1)\n",
    "    echo \"Generating mergelist for: $tissue ...\"\n",
    "    $stringtie_exe --merge -p $NUMPROC -G \"../ref/genes/genes.gtf\" -o \"../ref/merged_${tissue}.gtf\" \"$REF_DIR/$mergelist\"\n",
    "done"
   ]
  },
  {
   "cell_type": "markdown",
   "metadata": {},
   "source": [
    "## Estimate abundances"
   ]
  },
  {
   "cell_type": "code",
   "execution_count": null,
   "metadata": {},
   "outputs": [],
   "source": [
    "cat ../ref/mergelist_DMD.txt"
   ]
  },
  {
   "cell_type": "code",
   "execution_count": null,
   "metadata": {},
   "outputs": [],
   "source": [
    "REF_DIR=\"../ref/\"\n",
    "stringtie_exe=\"/home/ilya/bin/stringtie-2.1.6.Linux_x86_64/stringtie\"\n",
    "\n",
    "for mergelist in $(ls $REF_DIR | grep \"mergelist_\")\n",
    "do\n",
    "    tissue=$(echo $mergelist | cut -d'_' -f2 | cut -d'.' -f1)\n",
    "    echo \"Processing: $tissue\"\n",
    "    for sampledir in $(cat \"$REF_DIR/mergelist_${tissue}.txt\")\n",
    "    do\n",
    "        sample=$(echo $sampledir | cut -d/ -f 3)\n",
    "        result_dir=\"../results/$sample\"\n",
    "        $stringtie_exe -e -B -p $NUMPROC -G \"../ref/merged_${tissue}.gtf\" \\\n",
    "                -o \"$result_dir/${sample}.gtf\" \\\n",
    "                \"$result_dir/$sample.sorted.bam\"\n",
    "    done\n",
    "done\n",
    "\n",
    "ls -lah ../results/da01"
   ]
  },
  {
   "cell_type": "code",
   "execution_count": null,
   "metadata": {},
   "outputs": [],
   "source": []
  }
 ],
 "metadata": {
  "kernelspec": {
   "display_name": "Bash",
   "language": "bash",
   "name": "bash"
  },
  "language_info": {
   "codemirror_mode": "shell",
   "file_extension": ".sh",
   "mimetype": "text/x-sh",
   "name": "bash"
  }
 },
 "nbformat": 4,
 "nbformat_minor": 4
}
