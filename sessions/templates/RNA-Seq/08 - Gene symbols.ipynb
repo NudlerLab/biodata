{
 "cells": [
  {
   "cell_type": "code",
   "execution_count": null,
   "metadata": {},
   "outputs": [],
   "source": [
    "library(\"EnsDb.Mmusculus.v75\")"
   ]
  },
  {
   "cell_type": "code",
   "execution_count": null,
   "metadata": {},
   "outputs": [],
   "source": [
    "resdata = read.csv(\"../results/DMD.deseq.csv\", row.names=1)\n",
    "ensembl.genes <- as.vector(resdata$Gene)\n",
    "geneIDs1 <- ensembldb::select(EnsDb.Mmusculus.v75, keys= ensembl.genes, keytype = \"GENEID\", columns = c(\"SYMBOL\",\"GENEID\"))\n",
    "resordered = merge(resdata, geneIDs1, by.x=\"Gene\", by.y=\"GENEID\")\n",
    "resordered = resordered[complete.cases(resordered),]\n",
    "resordered = resordered[order(resordered$padj),]\n",
    "write.csv(resordered, file=\"../results/DMD.genes.deseq.csv\")\n",
    "head(resordered)"
   ]
  },
  {
   "cell_type": "code",
   "execution_count": null,
   "metadata": {},
   "outputs": [],
   "source": [
    "resdata = read.csv(\"../results/DMD.combined.deseq.csv\", row.names=1)\n",
    "ensembl.genes <- as.vector(resdata$Gene)\n",
    "geneIDs1 <- ensembldb::select(EnsDb.Mmusculus.v75, keys= ensembl.genes, keytype = \"GENEID\", columns = c(\"SYMBOL\",\"GENEID\"))\n",
    "resordered = merge(resdata, geneIDs1, by.x=\"Gene\", by.y=\"GENEID\")\n",
    "resordered = resordered[complete.cases(resordered),]\n",
    "resordered = resordered[order(resordered$padj),]\n",
    "write.csv(resordered, file=\"../results/DMD_combined.genes.deseq.csv\")\n",
    "head(resordered)"
   ]
  },
  {
   "cell_type": "code",
   "execution_count": null,
   "metadata": {},
   "outputs": [],
   "source": [
    "resdata = read.csv(\"../results/Dual.deseq.csv\", row.names=1)\n",
    "ensembl.genes <- as.vector(resdata$Gene)\n",
    "geneIDs1 <- ensembldb::select(EnsDb.Mmusculus.v75, keys= ensembl.genes, keytype = \"GENEID\", columns = c(\"SYMBOL\",\"GENEID\"))\n",
    "resordered = merge(resdata, geneIDs1, by.x=\"Gene\", by.y=\"GENEID\")\n",
    "resordered = resordered[complete.cases(resordered),]\n",
    "resordered = resordered[order(resordered$padj),]\n",
    "write.csv(resordered, file=\"../results/Dual.genes.deseq.csv\")\n",
    "head(resordered)"
   ]
  },
  {
   "cell_type": "code",
   "execution_count": null,
   "metadata": {},
   "outputs": [],
   "source": [
    "resdata = read.csv(\"../results/Dual.combined.deseq.csv\", row.names=1)\n",
    "ensembl.genes <- as.vector(resdata$Gene)\n",
    "geneIDs1 <- ensembldb::select(EnsDb.Mmusculus.v75, keys= ensembl.genes, keytype = \"GENEID\", columns = c(\"SYMBOL\",\"GENEID\"))\n",
    "resordered = merge(resdata, geneIDs1, by.x=\"Gene\", by.y=\"GENEID\")\n",
    "resordered = resordered[complete.cases(resordered),]\n",
    "resordered = resordered[order(resordered$padj),]\n",
    "write.csv(resordered, file=\"../results/Dual_combined.genes.deseq.csv\")\n",
    "head(resordered)"
   ]
  },
  {
   "cell_type": "code",
   "execution_count": null,
   "metadata": {},
   "outputs": [],
   "source": [
    "resdata = read.csv(\"../results/hAUF.deseq.csv\", row.names=1)\n",
    "ensembl.genes <- as.vector(resdata$Gene)\n",
    "geneIDs1 <- ensembldb::select(EnsDb.Mmusculus.v75, keys= ensembl.genes, keytype = \"GENEID\", columns = c(\"SYMBOL\",\"GENEID\"))\n",
    "resordered = merge(resdata, geneIDs1, by.x=\"Gene\", by.y=\"GENEID\")\n",
    "resordered = resordered[complete.cases(resordered),]\n",
    "resordered = resordered[order(resordered$padj),]\n",
    "write.csv(resordered, file=\"../results/hAUF.genes.deseq.csv\")\n",
    "head(resordered)"
   ]
  },
  {
   "cell_type": "code",
   "execution_count": null,
   "metadata": {},
   "outputs": [],
   "source": [
    "resdata = read.csv(\"../results/hAUF.combined.deseq.csv\", row.names=1)\n",
    "ensembl.genes <- as.vector(resdata$Gene)\n",
    "geneIDs1 <- ensembldb::select(EnsDb.Mmusculus.v75, keys= ensembl.genes, keytype = \"GENEID\", columns = c(\"SYMBOL\",\"GENEID\"))\n",
    "resordered = merge(resdata, geneIDs1, by.x=\"Gene\", by.y=\"GENEID\")\n",
    "resordered = resordered[complete.cases(resordered),]\n",
    "resordered = resordered[order(resordered$padj),]\n",
    "write.csv(resordered, file=\"../results/hAUF_combined.genes.deseq.csv\")\n",
    "head(resordered)"
   ]
  },
  {
   "cell_type": "code",
   "execution_count": null,
   "metadata": {},
   "outputs": [],
   "source": [
    "resdata = read.csv(\"../results/WT.deseq.csv\", row.names=1)\n",
    "ensembl.genes <- as.vector(resdata$Gene)\n",
    "geneIDs1 <- ensembldb::select(EnsDb.Mmusculus.v75, keys= ensembl.genes, keytype = \"GENEID\", columns = c(\"SYMBOL\",\"GENEID\"))\n",
    "resordered = merge(resdata, geneIDs1, by.x=\"Gene\", by.y=\"GENEID\")\n",
    "resordered = resordered[complete.cases(resordered),]\n",
    "resordered = resordered[order(resordered$padj),]\n",
    "write.csv(resordered, file=\"../results/WT.genes.deseq.csv\")\n",
    "head(resordered)"
   ]
  },
  {
   "cell_type": "code",
   "execution_count": null,
   "metadata": {},
   "outputs": [],
   "source": [
    "resdata = read.csv(\"../results/DMDvsDual.deseq.csv\", row.names=1)\n",
    "ensembl.genes <- as.vector(resdata$Gene)\n",
    "geneIDs1 <- ensembldb::select(EnsDb.Mmusculus.v75, keys= ensembl.genes, keytype = \"GENEID\", columns = c(\"SYMBOL\",\"GENEID\"))\n",
    "resordered = merge(resdata, geneIDs1, by.x=\"Gene\", by.y=\"GENEID\")\n",
    "resordered = resordered[complete.cases(resordered),]\n",
    "resordered = resordered[order(resordered$padj),]\n",
    "write.csv(resordered, file=\"../results/DMDvsDual.genes.deseq.csv\")\n",
    "head(resordered)"
   ]
  },
  {
   "cell_type": "code",
   "execution_count": null,
   "metadata": {},
   "outputs": [],
   "source": [
    "resdata = read.csv(\"../results/DualvsDMD.combined.deseq.csv\", row.names=1)\n",
    "ensembl.genes <- as.vector(resdata$Gene)\n",
    "geneIDs1 <- ensembldb::select(EnsDb.Mmusculus.v75, keys= ensembl.genes, keytype = \"GENEID\", columns = c(\"SYMBOL\",\"GENEID\"))\n",
    "resordered = merge(resdata, geneIDs1, by.x=\"Gene\", by.y=\"GENEID\")\n",
    "resordered = resordered[complete.cases(resordered),]\n",
    "resordered = resordered[order(resordered$padj),]\n",
    "write.csv(resordered, file=\"../results/DualvsDMD.combined.genes.deseq.csv\")\n",
    "head(resordered)"
   ]
  },
  {
   "cell_type": "code",
   "execution_count": null,
   "metadata": {},
   "outputs": [],
   "source": []
  }
 ],
 "metadata": {
  "kernelspec": {
   "display_name": "R",
   "language": "R",
   "name": "ir"
  },
  "language_info": {
   "codemirror_mode": "r",
   "file_extension": ".r",
   "mimetype": "text/x-r-source",
   "name": "R",
   "pygments_lexer": "r",
   "version": "4.1.2"
  }
 },
 "nbformat": 4,
 "nbformat_minor": 4
}
