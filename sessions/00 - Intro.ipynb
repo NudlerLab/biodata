{
 "cells": [
  {
   "cell_type": "markdown",
   "metadata": {
    "editable": true,
    "slideshow": {
     "slide_type": "slide"
    },
    "tags": []
   },
   "source": [
    "## What this is"
   ]
  },
  {
   "cell_type": "markdown",
   "metadata": {
    "editable": true,
    "slideshow": {
     "slide_type": "subslide"
    },
    "tags": []
   },
   "source": [
    "This is going to be a hands-on workshop that aims to familiarize you with basic skills required to handle (mostly) genomic data. If everything goes well you'll be able to run (at least) simple analyses on your data (or at least to tell wether your data are good or not.\n",
    "\n",
    "We will do our best to stick to \"learning by doing\" prardigm."
   ]
  },
  {
   "cell_type": "markdown",
   "metadata": {
    "editable": true,
    "slideshow": {
     "slide_type": "slide"
    },
    "tags": []
   },
   "source": [
    "### We will cover:\n",
    "\n",
    "- working with remote servers\n",
    "- setting up your computing environment\n",
    "- UNIX command line basics\n",
    "- common file formats and bioinformtics tools\n",
    "- building simple pipelines from these tools\n",
    "- python basics (using python to analyze your data)\n",
    "- using jupyter notebook to document your work\n",
    "- version control (git)\n",
    "- data visualization\n",
    "- stats refresher\n",
    "- short case studies using or based on real data"
   ]
  },
  {
   "cell_type": "markdown",
   "metadata": {
    "editable": true,
    "slideshow": {
     "slide_type": "slide"
    },
    "tags": []
   },
   "source": [
    "### What this is _NOT_:\n",
    "\n",
    "- this is not an introduction to NGS (read Illumina) sequencing (that would have to be a separate workshop)\n",
    "- this is not an experiment design workshop (in most cases, garbage in - garbage out)"
   ]
  },
  {
   "cell_type": "markdown",
   "metadata": {
    "collapsed": true,
    "editable": true,
    "jupyter": {
     "outputs_hidden": true
    },
    "slideshow": {
     "slide_type": "slide"
    },
    "tags": []
   },
   "source": [
    "# Bioinformatics in the nutshell"
   ]
  },
  {
   "attachments": {},
   "cell_type": "markdown",
   "metadata": {
    "editable": true,
    "slideshow": {
     "slide_type": "fragment"
    },
    "tags": []
   },
   "source": [
    "```\n",
    "Raw reads (.fastq) -->\n",
    "    --> Alignment/pseudoalignment/assembly\n",
    "    --> Quantification/coverage\n",
    "    --> tabular data (count matrices, SNP tables, etc)\n",
    "```"
   ]
  },
  {
   "cell_type": "markdown",
   "metadata": {
    "editable": true,
    "slideshow": {
     "slide_type": "fragment"
    },
    "tags": []
   },
   "source": [
    "### NGS data is text"
   ]
  },
  {
   "cell_type": "markdown",
   "metadata": {
    "editable": true,
    "slideshow": {
     "slide_type": "slide"
    },
    "tags": []
   },
   "source": [
    "# We have a unique setup that opens up unique opprotunities"
   ]
  },
  {
   "cell_type": "markdown",
   "metadata": {
    "editable": true,
    "slideshow": {
     "slide_type": "fragment"
    },
    "tags": []
   },
   "source": [
    "### Sequencing:\n",
    "- `Nextseq 2000` (up to 2B reads)\n",
    "- `MiSeq` (rapid and cheap iteration on method develoment / triubleshooting)\n",
    "- `Oxford Nanopore` (long reads sequencing. Use it!)\n"
   ]
  },
  {
   "cell_type": "markdown",
   "metadata": {
    "editable": true,
    "slideshow": {
     "slide_type": "fragment"
    },
    "tags": []
   },
   "source": [
    "### Computation (local):\n",
    "- `snowflake`: 32 core, 512 GB RAM server (retiring soon)\n",
    "- `honey-badger`: ZFS data storage, ~24 TB\n",
    "- `blizzard`: 128 (256) core, 1 TB RAM server - the main workhorse\n",
    "- `bigdump`: ZFS data storage, > 200 TB\n",
    "- `Gshot2`: 64 core, 256 GB RAM, 1xGPU server (we're going to move there soon)\n",
    "- a bunch of high power multi GPU servers - Tiger's domain!\n"
   ]
  },
  {
   "cell_type": "markdown",
   "metadata": {
    "editable": true,
    "slideshow": {
     "slide_type": "fragment"
    },
    "tags": []
   },
   "source": [
    "### Computation (bigpurple):\n",
    "- private partition (meaning only accessible to the Nudler lab members)\n",
    "- 8 CPU nodes: 64 core, 512 GB RAM\n",
    "- 8 GPU nodes: 64 core, 512 GB RAM, 4xGPU (Nvidia 4090)\n"
   ]
  },
  {
   "cell_type": "markdown",
   "metadata": {
    "editable": true,
    "slideshow": {
     "slide_type": "slide"
    },
    "tags": []
   },
   "source": [
    "# Bottom line: unlimited sequencing and computational resources on demand."
   ]
  },
  {
   "cell_type": "code",
   "execution_count": null,
   "metadata": {
    "editable": true,
    "slideshow": {
     "slide_type": ""
    },
    "tags": []
   },
   "outputs": [],
   "source": []
  }
 ],
 "metadata": {
  "kernelspec": {
   "display_name": "Python 3 (ipykernel)",
   "language": "python",
   "name": "python3"
  },
  "language_info": {
   "codemirror_mode": {
    "name": "ipython",
    "version": 3
   },
   "file_extension": ".py",
   "mimetype": "text/x-python",
   "name": "python",
   "nbconvert_exporter": "python",
   "pygments_lexer": "ipython3",
   "version": "3.12.3"
  }
 },
 "nbformat": 4,
 "nbformat_minor": 4
}
